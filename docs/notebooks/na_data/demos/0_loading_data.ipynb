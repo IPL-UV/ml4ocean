{
 "cells": [
  {
   "cell_type": "code",
   "execution_count": 1,
   "metadata": {},
   "outputs": [],
   "source": [
    "import numpy as np\n",
    "import pandas as pd\n",
    "from sklearn.datasets import make_regression\n",
    "\n",
    "%matplotlib inline\n",
    "\n",
    "%load_ext autoreload\n",
    "%autoreload 2"
   ]
  },
  {
   "cell_type": "markdown",
   "metadata": {},
   "source": [
    "### Reading Datasets"
   ]
  },
  {
   "cell_type": "markdown",
   "metadata": {},
   "source": [
    "Below will demonstrate 3 different types of datasets that you may encounter and how to load them.\n",
    "\n",
    "* .csv/.txt file (Arrays) - **Done**\n",
    "* .csv/.txt file (Labeled Data)\n",
    "* .netcdf - Spatial-Temporal Data"
   ]
  },
  {
   "cell_type": "markdown",
   "metadata": {},
   "source": [
    "#### Create Sample Dataset and Save it as CSV - `np.savetxt`\n",
    "\n",
    "* [source](https://docs.scipy.org/doc/numpy/reference/generated/numpy.savetxt.html)"
   ]
  },
  {
   "cell_type": "code",
   "execution_count": 15,
   "metadata": {},
   "outputs": [
    {
     "name": "stdout",
     "output_type": "stream",
     "text": [
      "(1000, 100) (1000, 20)\n"
     ]
    }
   ],
   "source": [
    "# Make Fake Dataset\n",
    "X, y = make_regression(\n",
    "    n_samples=1000, \n",
    "    n_features=100,    # Total Features\n",
    "    n_informative=10,   # Informative Features \n",
    "    n_targets=20,\n",
    "    bias=100,\n",
    "    noise=0.8,\n",
    "    random_state=123\n",
    "\n",
    ")\n",
    "\n",
    "# Print shape for confirmation\n",
    "print(X.shape, y.shape)\n",
    "\n",
    "# Save Data\n",
    "np.savetxt(\"/home/emmanuel/projects/2019_ocean/data/raw/sample_array_data.csv\", X, delimiter=\",\")\n",
    "np.savetxt(\"/home/emmanuel/projects/2019_ocean/data/raw/sample_array_labels.csv\", y, delimiter=\",\")\n",
    "\n",
    "# Delete the variables X, y\n",
    "del X, y\n",
    "# # Training and Testing\n",
    "# xtrain, xtest, ytrain, ytest = train_test_split(X, y, train_size=5000, random_state=123)"
   ]
  },
  {
   "cell_type": "markdown",
   "metadata": {},
   "source": [
    "#### Load Dataset - `np.loadtxt` \n",
    "\n",
    "* [source](https://docs.scipy.org/doc/numpy/reference/generated/numpy.loadtxt.html)"
   ]
  },
  {
   "cell_type": "code",
   "execution_count": 16,
   "metadata": {},
   "outputs": [
    {
     "name": "stdout",
     "output_type": "stream",
     "text": [
      "(1000, 100) (1000, 20)\n"
     ]
    }
   ],
   "source": [
    "X = np.loadtxt(\"/home/emmanuel/projects/2019_ocean/data/raw/sample_array_data.csv\", delimiter=\",\")\n",
    "y = np.loadtxt(\"/home/emmanuel/projects/2019_ocean/data/raw/sample_array_labels.csv\", delimiter=\",\")\n",
    "\n",
    "# Print shape for confirmation\n",
    "print(X.shape, y.shape)"
   ]
  },
  {
   "cell_type": "markdown",
   "metadata": {},
   "source": [
    "### TODO: pandas, netcdf4"
   ]
  }
 ],
 "metadata": {
  "kernelspec": {
   "display_name": "Python [conda env:.conda-2019_ml_ocean]",
   "language": "python",
   "name": "conda-env-.conda-2019_ml_ocean-py"
  },
  "language_info": {
   "codemirror_mode": {
    "name": "ipython",
    "version": 3
   },
   "file_extension": ".py",
   "mimetype": "text/x-python",
   "name": "python",
   "nbconvert_exporter": "python",
   "pygments_lexer": "ipython3",
   "version": "3.6.8"
  }
 },
 "nbformat": 4,
 "nbformat_minor": 2
}
