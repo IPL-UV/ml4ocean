{
 "cells": [
  {
   "cell_type": "markdown",
   "metadata": {},
   "source": [
    "# Demo I - Training ML Algorithms"
   ]
  },
  {
   "cell_type": "code",
   "execution_count": null,
   "metadata": {},
   "outputs": [],
   "source": [
    "# install specific version of pandas and progress bar just in case\n",
    "!pip install tqdm pandas==1.0.3"
   ]
  },
  {
   "cell_type": "code",
   "execution_count": 1,
   "metadata": {},
   "outputs": [],
   "source": [
    "import pathlib\n",
    "import sys\n",
    "\n",
    "# define the top level directory\n",
    "PROJECT_PATH = pathlib.Path(\"/media/disk/erc/papers/2019_ML_OCN/\")\n",
    "CODE_PATH = PROJECT_PATH.joinpath(\"ml4ocean\")\n",
    "sys.path.append(str(CODE_PATH))\n",
    "\n",
    "# ml4ocean packages\n",
    "from src.utils import get_paths\n",
    "from src.data.world import get_full_data, world_features\n",
    "from src.features.world import subset_independent_floats\n",
    "\n",
    "PATHS = get_paths()\n",
    "\n",
    "# standard pacakges\n",
    "import tqdm\n",
    "import time\n",
    "import numpy as np\n",
    "import pandas as pd\n",
    "from scipy import stats\n",
    "\n",
    "# ML packages\n",
    "from sklearn.neural_network import MLPRegressor\n",
    "from sklearn.ensemble import RandomForestRegressor\n",
    "from sklearn.ensemble import BaggingRegressor\n",
    "\n",
    "# ML preprocessing\n",
    "from sklearn.preprocessing import StandardScaler\n",
    "from sklearn.model_selection import train_test_split\n",
    "from sklearn.model_selection import KFold\n",
    "\n",
    "# statistics\n",
    "from sklearn.metrics import r2_score, mean_absolute_error, mean_squared_error\n",
    "import statsmodels.api as sm\n",
    "\n",
    "# plotting\n",
    "import matplotlib.pyplot as plt\n",
    "import seaborn as sns\n",
    "plt.style.use(['seaborn-paper'])\n",
    "\n",
    "import warnings\n",
    "warnings.simplefilter(\"ignore\")\n",
    "\n",
    "%load_ext autoreload\n",
    "%autoreload 2"
   ]
  },
  {
   "cell_type": "markdown",
   "metadata": {},
   "source": [
    "## Data"
   ]
  },
  {
   "cell_type": "code",
   "execution_count": 2,
   "metadata": {},
   "outputs": [],
   "source": [
    "inputs_df = pd.read_csv(f\"{PATHS.data_interim.joinpath('inputs.csv')}\")\n",
    "outputs_df = pd.read_csv(f\"{PATHS.data_interim.joinpath('outputs.csv')}\")\n",
    "\n",
    "# create meta index\n",
    "inputs_df = inputs_df.set_index(world_features.meta)\n",
    "outputs_df = outputs_df.set_index(world_features.meta)"
   ]
  },
  {
   "cell_type": "markdown",
   "metadata": {},
   "source": [
    "## Train-Test Split"
   ]
  },
  {
   "cell_type": "code",
   "execution_count": 3,
   "metadata": {},
   "outputs": [
    {
     "name": "stdout",
     "output_type": "stream",
     "text": [
      "(19763, 26) (4941, 26)\n",
      "(19763, 19) (4941, 19)\n"
     ]
    }
   ],
   "source": [
    "train_size = 0.8\n",
    "random_state = 42\n",
    "\n",
    "xtrain, xtest, ytrain, ytest = train_test_split(\n",
    "    inputs_df, \n",
    "    outputs_df, \n",
    "    train_size=train_size,\n",
    "    random_state=random_state\n",
    ")\n",
    "\n",
    "print(xtrain.shape, xtest.shape)\n",
    "print(ytrain.shape, ytest.shape)"
   ]
  },
  {
   "cell_type": "markdown",
   "metadata": {},
   "source": [
    "## Standardize the Inputs / Outputs"
   ]
  },
  {
   "cell_type": "code",
   "execution_count": 4,
   "metadata": {},
   "outputs": [],
   "source": [
    "x_scaler = StandardScaler().fit(xtrain)\n",
    "y_scaler = StandardScaler(with_std=False).fit(ytrain)\n",
    "\n",
    "# scale inputs\n",
    "xtrain_scaled = pd.DataFrame(x_scaler.transform(xtrain), columns=xtrain.columns, index=xtrain.index)\n",
    "xtest_scaled = pd.DataFrame(x_scaler.transform(xtest), columns=xtest.columns, index=xtest.index)\n",
    "\n",
    "# scale outputs\n",
    "ytrain_scaled = pd.DataFrame(y_scaler.transform(ytrain), columns=ytrain.columns, index=ytrain.index)\n",
    "ytest_scaled = pd.DataFrame(y_scaler.transform(ytest), columns=ytest.columns, index=ytest.index)\n"
   ]
  },
  {
   "cell_type": "code",
   "execution_count": 5,
   "metadata": {},
   "outputs": [
    {
     "data": {
      "text/plain": [
       "<matplotlib.legend.Legend at 0x7fcac3ba3080>"
      ]
     },
     "execution_count": 5,
     "metadata": {},
     "output_type": "execute_result"
    },
    {
     "data": {
      "image/png": "[encoded data removed]",
      "text/plain": [
       "<Figure size 460.8x316.8 with 1 Axes>"
      ]
     },
     "metadata": {
      "needs_background": "light"
     },
     "output_type": "display_data"
    }
   ],
   "source": [
    "sns.distplot(xtrain_scaled.iloc[:, 14], label='X')\n",
    "sns.distplot(ytrain_scaled.iloc[:, 10], label='Y')\n",
    "plt.legend(fontsize=20)"
   ]
  },
  {
   "cell_type": "markdown",
   "metadata": {},
   "source": [
    "## ML Algorithms"
   ]
  },
  {
   "cell_type": "markdown",
   "metadata": {},
   "source": [
    "### Model - Random Forest Regressor"
   ]
  },
  {
   "cell_type": "code",
   "execution_count": 6,
   "metadata": {},
   "outputs": [],
   "source": [
    "model = RandomForestRegressor(\n",
    "    n_estimators=2_000,\n",
    "    random_state=42,\n",
    "    n_jobs=-1,\n",
    "    verbose=1,\n",
    "    warm_start=True,\n",
    "    criterion='mse'\n",
    ")"
   ]
  },
  {
   "cell_type": "code",
   "execution_count": 7,
   "metadata": {},
   "outputs": [
    {
     "name": "stderr",
     "output_type": "stream",
     "text": [
      "[Parallel(n_jobs=-1)]: Using backend ThreadingBackend with 28 concurrent workers.\n",
      "[Parallel(n_jobs=-1)]: Done 144 tasks      | elapsed:    7.8s\n",
      "[Parallel(n_jobs=-1)]: Done 394 tasks      | elapsed:   19.4s\n",
      "[Parallel(n_jobs=-1)]: Done 744 tasks      | elapsed:   35.4s\n",
      "[Parallel(n_jobs=-1)]: Done 1194 tasks      | elapsed:   56.9s\n",
      "[Parallel(n_jobs=-1)]: Done 1744 tasks      | elapsed:  1.4min\n"
     ]
    },
    {
     "name": "stdout",
     "output_type": "stream",
     "text": [
      "Time Taken: 95.3053548336029 secs\n"
     ]
    },
    {
     "name": "stderr",
     "output_type": "stream",
     "text": [
      "[Parallel(n_jobs=-1)]: Done 2000 out of 2000 | elapsed:  1.6min finished\n"
     ]
    }
   ],
   "source": [
    "t0 = time.time()\n",
    "model.fit(xtrain_scaled, ytrain_scaled)\n",
    "t1 = time.time() - t0\n",
    "print(f\"Time Taken: {t1} secs\")"
   ]
  },
  {
   "cell_type": "markdown",
   "metadata": {},
   "source": [
    "#### Viz I - Training Data"
   ]
  },
  {
   "cell_type": "code",
   "execution_count": 16,
   "metadata": {},
   "outputs": [
    {
     "name": "stderr",
     "output_type": "stream",
     "text": [
      "[Parallel(n_jobs=28)]: Using backend ThreadingBackend with 28 concurrent workers.\n",
      "[Parallel(n_jobs=28)]: Done 144 tasks      | elapsed:    0.2s\n",
      "[Parallel(n_jobs=28)]: Done 394 tasks      | elapsed:    0.5s\n",
      "[Parallel(n_jobs=28)]: Done 744 tasks      | elapsed:    0.9s\n",
      "[Parallel(n_jobs=28)]: Done 1194 tasks      | elapsed:    1.3s\n",
      "[Parallel(n_jobs=28)]: Done 1744 tasks      | elapsed:    1.8s\n",
      "[Parallel(n_jobs=28)]: Done 2000 out of 2000 | elapsed:    2.1s finished\n"
     ]
    }
   ],
   "source": [
    "ypred_train = model.predict(xtrain_scaled)\n",
    "ypred_train = pd.DataFrame(ytrain_scaled, columns=ytrain_scaled.columns, index=ytrain_scaled.index)"
   ]
  },
  {
   "cell_type": "code",
   "execution_count": null,
   "metadata": {},
   "outputs": [],
   "source": [
    "np.minimum(y)"
   ]
  },
  {
   "cell_type": "code",
   "execution_count": 17,
   "metadata": {},
   "outputs": [],
   "source": [
    "from src.visualization.world import plot_residuals"
   ]
  },
  {
   "cell_type": "code",
   "execution_count": 25,
   "metadata": {},
   "outputs": [
    {
     "data": {
      "image/png": "[encoded data removed]",
      "text/plain": [
       "<Figure size 720x720 with 1 Axes>"
      ]
     },
     "metadata": {
      "needs_background": "light"
     },
     "output_type": "display_data"
    }
   ],
   "source": [
    "fig, ax = plot_residuals(ypred_train.values.ravel(), ytrain_scaled.values.ravel(), 'train')"
   ]
  },
  {
   "cell_type": "markdown",
   "metadata": {},
   "source": [
    "#### Viz II - Testing Data"
   ]
  },
  {
   "cell_type": "code",
   "execution_count": 23,
   "metadata": {},
   "outputs": [
    {
     "name": "stderr",
     "output_type": "stream",
     "text": [
      "[Parallel(n_jobs=28)]: Using backend ThreadingBackend with 28 concurrent workers.\n",
      "[Parallel(n_jobs=28)]: Done 144 tasks      | elapsed:    0.1s\n",
      "[Parallel(n_jobs=28)]: Done 394 tasks      | elapsed:    0.2s\n",
      "[Parallel(n_jobs=28)]: Done 744 tasks      | elapsed:    0.4s\n",
      "[Parallel(n_jobs=28)]: Done 1194 tasks      | elapsed:    0.6s\n",
      "[Parallel(n_jobs=28)]: Done 1744 tasks      | elapsed:    0.8s\n",
      "[Parallel(n_jobs=28)]: Done 2000 out of 2000 | elapsed:    0.8s finished\n"
     ]
    }
   ],
   "source": [
    "# Apply MLP to the test dataset\n",
    "ypred_scaled = model.predict(xtest_scaled)\n",
    "\n",
    "# Detransform the outputs:\n",
    "ypred = pd.DataFrame(\n",
    "    y_scaler.inverse_transform(ypred_scaled),\n",
    "    columns=ytest_scaled.columns,\n",
    "    index=ytest_scaled.index\n",
    ")\n",
    "ytest_c = pd.DataFrame(\n",
    "    y_scaler.inverse_transform(ytest_scaled),\n",
    "    columns=ytest_scaled.columns,\n",
    "    index=ytest_scaled.index\n",
    ")\n",
    "\n",
    "\n",
    "\n",
    "# make vectors\n",
    "ypred_vec = ypred.values.ravel()\n",
    "ytest_vec = ytest_c.values.ravel()"
   ]
  },
  {
   "cell_type": "markdown",
   "metadata": {},
   "source": [
    "**Statistics**"
   ]
  },
  {
   "cell_type": "code",
   "execution_count": 13,
   "metadata": {},
   "outputs": [
    {
     "name": "stdout",
     "output_type": "stream",
     "text": [
      "MAPD: 10.99%\n",
      "MSE: 0.0000\n",
      "RMSE: 0.0004\n",
      "R2: 0.8701\n",
      "Slope: 0.8572\n"
     ]
    }
   ],
   "source": [
    "def median_absolute_percentage_error(y_true, y_pred): \n",
    "    y_true, y_pred = np.array(y_true), np.array(y_pred)\n",
    "    return np.median(np.abs((y_true - y_pred) / y_true)) * 100\n",
    "\n",
    "mapd = median_absolute_percentage_error(pow(10, ytest_vec), pow(10, ypred_vec))\n",
    "mse = mean_squared_error(pow(10, ytest_vec), pow(10, ypred_vec))\n",
    "rmse = np.sqrt(mse)\n",
    "r2 = r2_score(ytest_vec, ypred_vec)\n",
    "\n",
    "slope_0, *_ = stats.linregress(ytest_vec, ypred_vec)\n",
    "\n",
    "\n",
    "\n",
    "\n",
    "print(f\"MAPD: {mapd:.2f}%\")\n",
    "print(f\"MSE: {mse:.4f}\")\n",
    "print(f\"RMSE: {rmse:.4f}\")\n",
    "print(f\"R2: {r2:.4f}\")\n",
    "print(f\"Slope: {slope_0:.4f}\")"
   ]
  },
  {
   "cell_type": "code",
   "execution_count": 26,
   "metadata": {},
   "outputs": [
    {
     "data": {
      "text/plain": [
       "(<Figure size 720x720 with 1 Axes>,\n",
       " <matplotlib.axes._subplots.AxesSubplot at 0x7fcaa83b2080>)"
      ]
     },
     "execution_count": 26,
     "metadata": {},
     "output_type": "execute_result"
    },
    {
     "data": {
      "image/png": "[encoded data removed]",
      "text/plain": [
       "<Figure size 720x720 with 1 Axes>"
      ]
     },
     "metadata": {
      "needs_background": "light"
     },
     "output_type": "display_data"
    }
   ],
   "source": [
    "plot_residuals(ytest_vec, ypred_vec, 'test')"
   ]
  },
  {
   "cell_type": "markdown",
   "metadata": {},
   "source": [
    "### Cross Validation"
   ]
  },
  {
   "cell_type": "markdown",
   "metadata": {},
   "source": [
    "### Method I - From Scratch"
   ]
  },
  {
   "cell_type": "code",
   "execution_count": 84,
   "metadata": {},
   "outputs": [],
   "source": [
    "def standardize_data(Xtrain, Xtest, ytrain, ytest):\n",
    "    \n",
    "    x_scaler = StandardScaler().fit(Xtrain)\n",
    "    y_scaler = StandardScaler(with_std=False).fit(ytrain)\n",
    "\n",
    "    # scale inputs\n",
    "    Xtrain_scaled = x_scaler.transform(Xtrain)\n",
    "    Xtest_scaled = x_scaler.transform(Xtest)\n",
    "\n",
    "    # scale outputs\n",
    "    ytrain_scaled = y_scaler.transform(ytrain)\n",
    "    ytest_scaled = y_scaler.transform(ytest)\n",
    "    scalers = {'x': x_scaler, 'y': y_scaler}\n",
    "    return Xtrain_scaled, Xtest_scaled, ytrain_scaled, ytest_scaled, scalers\n"
   ]
  },
  {
   "cell_type": "code",
   "execution_count": 91,
   "metadata": {},
   "outputs": [
    {
     "name": "stderr",
     "output_type": "stream",
     "text": [
      "100%|██████████| 10/10 [18:10<00:00, 109.07s/it]\n"
     ]
    }
   ],
   "source": [
    "# define the model\n",
    "model = RandomForestRegressor(\n",
    "    n_estimators=2_000,\n",
    "    random_state=42,\n",
    "    n_jobs=-1,\n",
    "    verbose=0,\n",
    "    warm_start=False,\n",
    "    criterion='mse'\n",
    ")\n",
    "\n",
    "# define the split\n",
    "n_splits = 10\n",
    "kf = KFold(n_splits=n_splits)\n",
    "\n",
    "predictions_test = list()\n",
    "predictions_train = list()\n",
    "\n",
    "for train_index, test_index in tqdm.tqdm(kf.split(inputs_df.values), total=n_splits):\n",
    "    \n",
    "    # segment data\n",
    "    Xtr, Xte, ytr, yte, scalers = standardize_data(\n",
    "        inputs_df.values[train_index, :],\n",
    "        inputs_df.values[test_index, :],\n",
    "        outputs_df.values[train_index, :],\n",
    "        outputs_df.values[test_index, :],\n",
    "    )\n",
    "\n",
    "    # train model\n",
    "    model.fit(Xtr, ytr)\n",
    "    \n",
    "    \n",
    "    # predictions\n",
    "    predictions_train.append((model.predict(Xtr), ytr, scalers))\n",
    "    predictions_test.append((model.predict(Xte), yte, scalers))\n"
   ]
  },
  {
   "cell_type": "code",
   "execution_count": 92,
   "metadata": {},
   "outputs": [
    {
     "data": {
      "text/plain": [
       "[0.9831090704366079,\n",
       " 0.9835754471993815,\n",
       " 0.983328216844481,\n",
       " 0.9833219144776779,\n",
       " 0.983307743737022,\n",
       " 0.9829904097669607,\n",
       " 0.982817987510845,\n",
       " 0.983174345701849,\n",
       " 0.9830150417288622,\n",
       " 0.9828010707842838]"
      ]
     },
     "execution_count": 92,
     "metadata": {},
     "output_type": "execute_result"
    }
   ],
   "source": [
    "[r2_score(iscale['y'].inverse_transform(x).ravel(), iscale['y'].inverse_transform(y).ravel()) for (y, x, iscale) in predictions_train]"
   ]
  },
  {
   "cell_type": "code",
   "execution_count": 93,
   "metadata": {},
   "outputs": [
    {
     "data": {
      "text/plain": [
       "[0.7186974424983624,\n",
       " 0.7071992892898138,\n",
       " 0.6647674379299724,\n",
       " 0.8125536947385796,\n",
       " 0.7271490083454055,\n",
       " 0.6957871257819145,\n",
       " 0.8164298170713613,\n",
       " 0.6147107331177086,\n",
       " 0.7808035958518491,\n",
       " 0.7484396890420137]"
      ]
     },
     "execution_count": 93,
     "metadata": {},
     "output_type": "execute_result"
    }
   ],
   "source": [
    "[r2_score(iscale['y'].inverse_transform(x).ravel(), iscale['y'].inverse_transform(y).ravel()) for (y, x, iscale) in predictions_test]"
   ]
  },
  {
   "cell_type": "markdown",
   "metadata": {},
   "source": [
    "#### Other Ways\n",
    "\n",
    "* [Tutorial](https://towardsdatascience.com/hyperparameter-tuning-the-random-forest-in-python-using-scikit-learn-28d2aa77dd74)\n",
    "* [sklearn](https://scikit-learn.org/stable/auto_examples/exercises/plot_cv_diabetes.html#sphx-glr-auto-examples-exercises-plot-cv-diabetes-py)\n",
    "* [visualize](https://scikit-learn.org/stable/auto_examples/model_selection/plot_cv_indices.html#sphx-glr-auto-examples-model-selection-plot-cv-indices-py)"
   ]
  },
  {
   "cell_type": "code",
   "execution_count": null,
   "metadata": {},
   "outputs": [],
   "source": []
  }
 ],
 "metadata": {
  "kernelspec": {
   "display_name": "Python [conda env:.conda-2019_ml_ocean]",
   "language": "python",
   "name": "conda-env-.conda-2019_ml_ocean-py"
  },
  "language_info": {
   "codemirror_mode": {
    "name": "ipython",
    "version": 3
   },
   "file_extension": ".py",
   "mimetype": "text/x-python",
   "name": "python",
   "nbconvert_exporter": "python",
   "pygments_lexer": "ipython3",
   "version": "3.6.8"
  }
 },
 "nbformat": 4,
 "nbformat_minor": 4
}
