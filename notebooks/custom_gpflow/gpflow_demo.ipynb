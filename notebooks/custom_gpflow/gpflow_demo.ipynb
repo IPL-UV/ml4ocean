{
 "cells": [
  {
   "cell_type": "markdown",
   "metadata": {},
   "source": [
    "# Stochastic Variational GP"
   ]
  },
  {
   "cell_type": "markdown",
   "metadata": {},
   "source": [
    "**Warning**: Need to use GPUs in order for this to work."
   ]
  },
  {
   "cell_type": "code",
   "execution_count": 39,
   "metadata": {},
   "outputs": [
    {
     "name": "stdout",
     "output_type": "stream",
     "text": [
      "The autoreload extension is already loaded. To reload it, use:\n",
      "  %reload_ext autoreload\n"
     ]
    }
   ],
   "source": [
    "import sys\n",
    "\n",
    "# Add the path to the models\n",
    "sys.path.insert(0, '/Users/eman/Documents/code_projects/ml4ocean')\n",
    "sys.path.insert(0, '/home/emmanuel/projects/2019_ocean')\n",
    "from src.models.utils import MultiTaskGP\n",
    "from src.models.gpflow_gpu import SVGP, MOSVGP\n",
    "\n",
    "%load_ext autoreload\n",
    "%autoreload 2"
   ]
  },
  {
   "cell_type": "code",
   "execution_count": 40,
   "metadata": {},
   "outputs": [],
   "source": [
    "import time as time\n",
    "import numpy as np\n",
    "import gpflow\n",
    "from sklearn.datasets import make_regression\n",
    "from sklearn.model_selection import train_test_split\n",
    "from sklearn.metrics import mean_absolute_error, mean_squared_error, r2_score"
   ]
  },
  {
   "cell_type": "code",
   "execution_count": 45,
   "metadata": {},
   "outputs": [
    {
     "data": {
      "text/plain": [
       "((3000, 10), (3000, 10))"
      ]
     },
     "execution_count": 45,
     "metadata": {},
     "output_type": "execute_result"
    }
   ],
   "source": [
    "# Make Fake Dataset\n",
    "X, y = make_regression(\n",
    "    n_samples=10000, \n",
    "    n_features=10,    # Total Features\n",
    "    n_informative=3,   # Informative Features \n",
    "    n_targets=10,\n",
    "    bias=10,\n",
    "    noise=0.8,\n",
    "    random_state=123\n",
    "\n",
    ")\n",
    "train_size = 3000\n",
    "\n",
    "# Training and Testing\n",
    "xtrain, xtest, ytrain, ytest = train_test_split(\n",
    "    X, y, train_size=train_size, random_state=123\n",
    ")\n",
    "\n",
    "xtrain.shape, ytrain.shape"
   ]
  },
  {
   "cell_type": "code",
   "execution_count": 31,
   "metadata": {},
   "outputs": [],
   "source": [
    "import tensorflow as tf"
   ]
  },
  {
   "cell_type": "code",
   "execution_count": 32,
   "metadata": {},
   "outputs": [
    {
     "data": {
      "text/plain": [
       "'1.3.0'"
      ]
     },
     "execution_count": 32,
     "metadata": {},
     "output_type": "execute_result"
    }
   ],
   "source": [
    "gpflow.__version__"
   ]
  },
  {
   "cell_type": "code",
   "execution_count": 33,
   "metadata": {},
   "outputs": [
    {
     "data": {
      "text/plain": [
       "'1.13.1'"
      ]
     },
     "execution_count": 33,
     "metadata": {},
     "output_type": "execute_result"
    }
   ],
   "source": [
    "tf.__version__"
   ]
  },
  {
   "cell_type": "code",
   "execution_count": 34,
   "metadata": {},
   "outputs": [
    {
     "data": {
      "text/plain": [
       "<module 'tensorflow._api.v1.train' from '/home/emmanuel/.conda/envs/dl_py36/lib/python3.6/site-packages/tensorflow/_api/v1/train/__init__.py'>"
      ]
     },
     "execution_count": 34,
     "metadata": {},
     "output_type": "execute_result"
    }
   ],
   "source": [
    "tf.train"
   ]
  },
  {
   "cell_type": "markdown",
   "metadata": {},
   "source": [
    "### SVGP Algorithm"
   ]
  },
  {
   "cell_type": "code",
   "execution_count": 56,
   "metadata": {},
   "outputs": [],
   "source": [
    "# Test Arguments to Ensure it works\n",
    "class TestArgs:\n",
    "    num_inducing = 100\n",
    "    iterations = 10\n",
    "    small_iterations = 10\n",
    "    adam_lr = 0.01\n",
    "    gamma = 0.1\n",
    "    minibatch_size = 100\n",
    "    initial_likelihood_var = 0.01\n",
    "    seed = 0\n",
    "\n",
    "# Better training arguments\n",
    "class Args:\n",
    "    num_inducing = 100\n",
    "    iterations = 10000\n",
    "    small_iterations = 1000\n",
    "    adam_lr = 0.01\n",
    "    gamma = 0.1\n",
    "    minibatch_size = 1000\n",
    "    initial_likelihood_var = 0.01"
   ]
  },
  {
   "cell_type": "code",
   "execution_count": 57,
   "metadata": {},
   "outputs": [],
   "source": [
    "# Good practice\n",
    "gpflow.reset_default_graph_and_session()"
   ]
  },
  {
   "cell_type": "code",
   "execution_count": 58,
   "metadata": {},
   "outputs": [
    {
     "name": "stdout",
     "output_type": "stream",
     "text": [
      "Training Time: 3.38 seconds\n"
     ]
    }
   ],
   "source": [
    "# Initialize Model\n",
    "gp_model = SVGP(\n",
    "    num_inducing=TestArgs.num_inducing,\n",
    "    iterations=TestArgs.iterations,\n",
    "    small_iterations=TestArgs.small_iterations,\n",
    "    adam_lr=TestArgs.adam_lr,\n",
    "    gamma=TestArgs.gamma,\n",
    "    minibatch_size=TestArgs.minibatch_size,\n",
    "    initial_likelihood_var=TestArgs.initial_likelihood_var,\n",
    "    seed=TestArgs.seed\n",
    ")\n",
    "\n",
    "# Fit Model to Data\n",
    "t0 = time.time()\n",
    "gp_model.fit(xtrain, ytrain)\n",
    "t1 = time.time() - t0\n",
    "\n",
    "print(\n",
    "    f\"Training Time: {t1:.3} seconds\"\n",
    ")"
   ]
  },
  {
   "cell_type": "code",
   "execution_count": 59,
   "metadata": {},
   "outputs": [
    {
     "name": "stdout",
     "output_type": "stream",
     "text": [
      "GP Model:\n",
      "MAE: 15.433\n",
      "MSE: 549.661\n",
      "RMSE: 23.445\n",
      "R2: 0.951 \n",
      "Time: 0.248 seconds\n"
     ]
    }
   ],
   "source": [
    "# Predict with test set\n",
    "t0 = time.time()\n",
    "ypred, ystd = gp_model.predict(xtest, return_std=True)\n",
    "t1 = time.time() - t0\n",
    "# Get Stats\n",
    "mae = mean_absolute_error(ypred, ytest)\n",
    "mse = mean_squared_error(ypred, ytest)\n",
    "rmse = np.sqrt(mse)\n",
    "r2 = r2_score(ypred, ytest)\n",
    "\n",
    "print(\n",
    "    f\"GP Model:\\n\"\n",
    "    f\"MAE: {mae:.3f}\\nMSE: {mse:.3f}\\nRMSE: {rmse:.3f}\\nR2: {r2:.3f}\" \n",
    "    f\" \\nTime: {t1:.3} seconds\"\n",
    ")"
   ]
  },
  {
   "cell_type": "markdown",
   "metadata": {},
   "source": [
    "### MultiOutput"
   ]
  },
  {
   "cell_type": "code",
   "execution_count": 63,
   "metadata": {},
   "outputs": [
    {
     "name": "stdout",
     "output_type": "stream",
     "text": [
      "ERROR:tensorflow:==================================\n",
      "Object was never used (type <class 'tensorflow.python.framework.ops.Tensor'>):\n",
      "<tf.Tensor 'SquaredExponential-45642233-434/variance/IsVariableInitialized:0' shape=() dtype=bool>\n",
      "If you want to mark it as used call its \"mark_used()\" method.\n",
      "It was originally created here:\n",
      "  File \"/home/emmanuel/.conda/envs/dl_py36/lib/python3.6/site-packages/IPython/core/interactiveshell.py\", line 3316, in run_code\n",
      "    return outflag  File \"<ipython-input-53-d2d7c739ed38>\", line 18, in <module>\n",
      "    gp_model.fit(xtrain, ytrain)  File \"/home/emmanuel/projects/2019_ocean/src/models/gpflow_gpu.py\", line 130, in fit\n",
      "    self.model = gpflow.models.SVGP(X, Y, kern, lik, feat=feature, minibatch_size=mb_size)  File \"/home/emmanuel/projects/2019_ocean/src/models/gpflow_gpu.py\", line 123, in <listcomp>\n",
      "    kern_list = [gpflow.kernels.RBF(X.shape[1], lengthscales=float(X.shape[1])**0.5) for _ in range(p_outputs)]  File \"/home/emmanuel/.conda/envs/dl_py36/lib/python3.6/site-packages/gpflow/core/compilable.py\", line 91, in __init__\n",
      "    self.initialize(force=True)  File \"/home/emmanuel/.conda/envs/dl_py36/lib/python3.6/site-packages/gpflow/core/node.py\", line 156, in build\n",
      "    self._build()  File \"/home/emmanuel/.conda/envs/dl_py36/lib/python3.6/site-packages/gpflow/params/parameterized.py\", line 302, in _build\n",
      "    self._prior_tensor = self._build_prior(priors)  File \"/home/emmanuel/.conda/envs/dl_py36/lib/python3.6/site-packages/gpflow/core/node.py\", line 156, in build\n",
      "    self._build()  File \"/home/emmanuel/.conda/envs/dl_py36/lib/python3.6/site-packages/gpflow/params/parameter.py\", line 370, in _build\n",
      "    self._prior_tensor = prior  File \"/home/emmanuel/.conda/envs/dl_py36/lib/python3.6/site-packages/tensorflow/python/util/tf_should_use.py\", line 193, in wrapped\n",
      "    return _add_should_use_warning(fn(*args, **kwargs))\n",
      "==================================\n"
     ]
    },
    {
     "name": "stderr",
     "output_type": "stream",
     "text": [
      "ERROR:tensorflow:==================================\n",
      "Object was never used (type <class 'tensorflow.python.framework.ops.Tensor'>):\n",
      "<tf.Tensor 'SquaredExponential-45642233-434/variance/IsVariableInitialized:0' shape=() dtype=bool>\n",
      "If you want to mark it as used call its \"mark_used()\" method.\n",
      "It was originally created here:\n",
      "  File \"/home/emmanuel/.conda/envs/dl_py36/lib/python3.6/site-packages/IPython/core/interactiveshell.py\", line 3316, in run_code\n",
      "    return outflag  File \"<ipython-input-53-d2d7c739ed38>\", line 18, in <module>\n",
      "    gp_model.fit(xtrain, ytrain)  File \"/home/emmanuel/projects/2019_ocean/src/models/gpflow_gpu.py\", line 130, in fit\n",
      "    self.model = gpflow.models.SVGP(X, Y, kern, lik, feat=feature, minibatch_size=mb_size)  File \"/home/emmanuel/projects/2019_ocean/src/models/gpflow_gpu.py\", line 123, in <listcomp>\n",
      "    kern_list = [gpflow.kernels.RBF(X.shape[1], lengthscales=float(X.shape[1])**0.5) for _ in range(p_outputs)]  File \"/home/emmanuel/.conda/envs/dl_py36/lib/python3.6/site-packages/gpflow/core/compilable.py\", line 91, in __init__\n",
      "    self.initialize(force=True)  File \"/home/emmanuel/.conda/envs/dl_py36/lib/python3.6/site-packages/gpflow/core/node.py\", line 156, in build\n",
      "    self._build()  File \"/home/emmanuel/.conda/envs/dl_py36/lib/python3.6/site-packages/gpflow/params/parameterized.py\", line 302, in _build\n",
      "    self._prior_tensor = self._build_prior(priors)  File \"/home/emmanuel/.conda/envs/dl_py36/lib/python3.6/site-packages/gpflow/core/node.py\", line 156, in build\n",
      "    self._build()  File \"/home/emmanuel/.conda/envs/dl_py36/lib/python3.6/site-packages/gpflow/params/parameter.py\", line 370, in _build\n",
      "    self._prior_tensor = prior  File \"/home/emmanuel/.conda/envs/dl_py36/lib/python3.6/site-packages/tensorflow/python/util/tf_should_use.py\", line 193, in wrapped\n",
      "    return _add_should_use_warning(fn(*args, **kwargs))\n",
      "==================================\n"
     ]
    },
    {
     "name": "stdout",
     "output_type": "stream",
     "text": [
      "ERROR:tensorflow:==================================\n",
      "Object was never used (type <class 'tensorflow.python.framework.ops.Tensor'>):\n",
      "<tf.Tensor 'SquaredExponential-45642233-434/lengthscales/IsVariableInitialized:0' shape=() dtype=bool>\n",
      "If you want to mark it as used call its \"mark_used()\" method.\n",
      "It was originally created here:\n",
      "  File \"/home/emmanuel/.conda/envs/dl_py36/lib/python3.6/site-packages/IPython/core/interactiveshell.py\", line 3316, in run_code\n",
      "    return outflag  File \"<ipython-input-53-d2d7c739ed38>\", line 18, in <module>\n",
      "    gp_model.fit(xtrain, ytrain)  File \"/home/emmanuel/projects/2019_ocean/src/models/gpflow_gpu.py\", line 130, in fit\n",
      "    self.model = gpflow.models.SVGP(X, Y, kern, lik, feat=feature, minibatch_size=mb_size)  File \"/home/emmanuel/projects/2019_ocean/src/models/gpflow_gpu.py\", line 123, in <listcomp>\n",
      "    kern_list = [gpflow.kernels.RBF(X.shape[1], lengthscales=float(X.shape[1])**0.5) for _ in range(p_outputs)]  File \"/home/emmanuel/.conda/envs/dl_py36/lib/python3.6/site-packages/gpflow/core/compilable.py\", line 91, in __init__\n",
      "    self.initialize(force=True)  File \"/home/emmanuel/.conda/envs/dl_py36/lib/python3.6/site-packages/gpflow/core/node.py\", line 156, in build\n",
      "    self._build()  File \"/home/emmanuel/.conda/envs/dl_py36/lib/python3.6/site-packages/gpflow/params/parameterized.py\", line 302, in _build\n",
      "    self._prior_tensor = self._build_prior(priors)  File \"/home/emmanuel/.conda/envs/dl_py36/lib/python3.6/site-packages/gpflow/core/node.py\", line 156, in build\n",
      "    self._build()  File \"/home/emmanuel/.conda/envs/dl_py36/lib/python3.6/site-packages/gpflow/params/parameter.py\", line 370, in _build\n",
      "    self._prior_tensor = prior  File \"/home/emmanuel/.conda/envs/dl_py36/lib/python3.6/site-packages/tensorflow/python/util/tf_should_use.py\", line 193, in wrapped\n",
      "    return _add_should_use_warning(fn(*args, **kwargs))\n",
      "==================================\n"
     ]
    },
    {
     "name": "stderr",
     "output_type": "stream",
     "text": [
      "ERROR:tensorflow:==================================\n",
      "Object was never used (type <class 'tensorflow.python.framework.ops.Tensor'>):\n",
      "<tf.Tensor 'SquaredExponential-45642233-434/lengthscales/IsVariableInitialized:0' shape=() dtype=bool>\n",
      "If you want to mark it as used call its \"mark_used()\" method.\n",
      "It was originally created here:\n",
      "  File \"/home/emmanuel/.conda/envs/dl_py36/lib/python3.6/site-packages/IPython/core/interactiveshell.py\", line 3316, in run_code\n",
      "    return outflag  File \"<ipython-input-53-d2d7c739ed38>\", line 18, in <module>\n",
      "    gp_model.fit(xtrain, ytrain)  File \"/home/emmanuel/projects/2019_ocean/src/models/gpflow_gpu.py\", line 130, in fit\n",
      "    self.model = gpflow.models.SVGP(X, Y, kern, lik, feat=feature, minibatch_size=mb_size)  File \"/home/emmanuel/projects/2019_ocean/src/models/gpflow_gpu.py\", line 123, in <listcomp>\n",
      "    kern_list = [gpflow.kernels.RBF(X.shape[1], lengthscales=float(X.shape[1])**0.5) for _ in range(p_outputs)]  File \"/home/emmanuel/.conda/envs/dl_py36/lib/python3.6/site-packages/gpflow/core/compilable.py\", line 91, in __init__\n",
      "    self.initialize(force=True)  File \"/home/emmanuel/.conda/envs/dl_py36/lib/python3.6/site-packages/gpflow/core/node.py\", line 156, in build\n",
      "    self._build()  File \"/home/emmanuel/.conda/envs/dl_py36/lib/python3.6/site-packages/gpflow/params/parameterized.py\", line 302, in _build\n",
      "    self._prior_tensor = self._build_prior(priors)  File \"/home/emmanuel/.conda/envs/dl_py36/lib/python3.6/site-packages/gpflow/core/node.py\", line 156, in build\n",
      "    self._build()  File \"/home/emmanuel/.conda/envs/dl_py36/lib/python3.6/site-packages/gpflow/params/parameter.py\", line 370, in _build\n",
      "    self._prior_tensor = prior  File \"/home/emmanuel/.conda/envs/dl_py36/lib/python3.6/site-packages/tensorflow/python/util/tf_should_use.py\", line 193, in wrapped\n",
      "    return _add_should_use_warning(fn(*args, **kwargs))\n",
      "==================================\n"
     ]
    },
    {
     "name": "stdout",
     "output_type": "stream",
     "text": [
      "ERROR:tensorflow:==================================\n",
      "Object was never used (type <class 'tensorflow.python.framework.ops.Tensor'>):\n",
      "<tf.Tensor 'SVGP-e0dbec03-470/q_mu/IsVariableInitialized:0' shape=() dtype=bool>\n",
      "If you want to mark it as used call its \"mark_used()\" method.\n",
      "It was originally created here:\n",
      "  File \"/home/emmanuel/.conda/envs/dl_py36/lib/python3.6/site-packages/IPython/core/interactiveshell.py\", line 3316, in run_code\n",
      "    return outflag  File \"<ipython-input-53-d2d7c739ed38>\", line 18, in <module>\n",
      "    gp_model.fit(xtrain, ytrain)  File \"/home/emmanuel/projects/2019_ocean/src/models/gpflow_gpu.py\", line 130, in fit\n",
      "    self.model = gpflow.models.SVGP(X, Y, kern, lik, feat=feature, minibatch_size=mb_size)  File \"/home/emmanuel/.conda/envs/dl_py36/lib/python3.6/site-packages/gpflow/core/compilable.py\", line 90, in __init__\n",
      "    self.build()  File \"/home/emmanuel/.conda/envs/dl_py36/lib/python3.6/site-packages/gpflow/core/node.py\", line 156, in build\n",
      "    self._build()  File \"/home/emmanuel/.conda/envs/dl_py36/lib/python3.6/site-packages/gpflow/models/model.py\", line 79, in _build\n",
      "    likelihood = self._build_likelihood()  File \"/home/emmanuel/.conda/envs/dl_py36/lib/python3.6/site-packages/gpflow/params/parameterized.py\", line 302, in _build\n",
      "    self._prior_tensor = self._build_prior(priors)  File \"/home/emmanuel/.conda/envs/dl_py36/lib/python3.6/site-packages/gpflow/core/node.py\", line 156, in build\n",
      "    self._build()  File \"/home/emmanuel/.conda/envs/dl_py36/lib/python3.6/site-packages/gpflow/params/parameter.py\", line 370, in _build\n",
      "    self._prior_tensor = prior  File \"/home/emmanuel/.conda/envs/dl_py36/lib/python3.6/site-packages/tensorflow/python/util/tf_should_use.py\", line 193, in wrapped\n",
      "    return _add_should_use_warning(fn(*args, **kwargs))\n",
      "==================================\n"
     ]
    },
    {
     "name": "stderr",
     "output_type": "stream",
     "text": [
      "ERROR:tensorflow:==================================\n",
      "Object was never used (type <class 'tensorflow.python.framework.ops.Tensor'>):\n",
      "<tf.Tensor 'SVGP-e0dbec03-470/q_mu/IsVariableInitialized:0' shape=() dtype=bool>\n",
      "If you want to mark it as used call its \"mark_used()\" method.\n",
      "It was originally created here:\n",
      "  File \"/home/emmanuel/.conda/envs/dl_py36/lib/python3.6/site-packages/IPython/core/interactiveshell.py\", line 3316, in run_code\n",
      "    return outflag  File \"<ipython-input-53-d2d7c739ed38>\", line 18, in <module>\n",
      "    gp_model.fit(xtrain, ytrain)  File \"/home/emmanuel/projects/2019_ocean/src/models/gpflow_gpu.py\", line 130, in fit\n",
      "    self.model = gpflow.models.SVGP(X, Y, kern, lik, feat=feature, minibatch_size=mb_size)  File \"/home/emmanuel/.conda/envs/dl_py36/lib/python3.6/site-packages/gpflow/core/compilable.py\", line 90, in __init__\n",
      "    self.build()  File \"/home/emmanuel/.conda/envs/dl_py36/lib/python3.6/site-packages/gpflow/core/node.py\", line 156, in build\n",
      "    self._build()  File \"/home/emmanuel/.conda/envs/dl_py36/lib/python3.6/site-packages/gpflow/models/model.py\", line 79, in _build\n",
      "    likelihood = self._build_likelihood()  File \"/home/emmanuel/.conda/envs/dl_py36/lib/python3.6/site-packages/gpflow/params/parameterized.py\", line 302, in _build\n",
      "    self._prior_tensor = self._build_prior(priors)  File \"/home/emmanuel/.conda/envs/dl_py36/lib/python3.6/site-packages/gpflow/core/node.py\", line 156, in build\n",
      "    self._build()  File \"/home/emmanuel/.conda/envs/dl_py36/lib/python3.6/site-packages/gpflow/params/parameter.py\", line 370, in _build\n",
      "    self._prior_tensor = prior  File \"/home/emmanuel/.conda/envs/dl_py36/lib/python3.6/site-packages/tensorflow/python/util/tf_should_use.py\", line 193, in wrapped\n",
      "    return _add_should_use_warning(fn(*args, **kwargs))\n",
      "==================================\n"
     ]
    },
    {
     "name": "stdout",
     "output_type": "stream",
     "text": [
      "ERROR:tensorflow:==================================\n",
      "Object was never used (type <class 'tensorflow.python.framework.ops.Tensor'>):\n",
      "<tf.Tensor 'SVGP-e0dbec03-470/q_sqrt/IsVariableInitialized:0' shape=() dtype=bool>\n",
      "If you want to mark it as used call its \"mark_used()\" method.\n",
      "It was originally created here:\n",
      "  File \"/home/emmanuel/.conda/envs/dl_py36/lib/python3.6/site-packages/IPython/core/interactiveshell.py\", line 3316, in run_code\n",
      "    return outflag  File \"<ipython-input-53-d2d7c739ed38>\", line 18, in <module>\n",
      "    gp_model.fit(xtrain, ytrain)  File \"/home/emmanuel/projects/2019_ocean/src/models/gpflow_gpu.py\", line 130, in fit\n",
      "    self.model = gpflow.models.SVGP(X, Y, kern, lik, feat=feature, minibatch_size=mb_size)  File \"/home/emmanuel/.conda/envs/dl_py36/lib/python3.6/site-packages/gpflow/core/compilable.py\", line 90, in __init__\n",
      "    self.build()  File \"/home/emmanuel/.conda/envs/dl_py36/lib/python3.6/site-packages/gpflow/core/node.py\", line 156, in build\n",
      "    self._build()  File \"/home/emmanuel/.conda/envs/dl_py36/lib/python3.6/site-packages/gpflow/models/model.py\", line 79, in _build\n",
      "    likelihood = self._build_likelihood()  File \"/home/emmanuel/.conda/envs/dl_py36/lib/python3.6/site-packages/gpflow/params/parameterized.py\", line 302, in _build\n",
      "    self._prior_tensor = self._build_prior(priors)  File \"/home/emmanuel/.conda/envs/dl_py36/lib/python3.6/site-packages/gpflow/core/node.py\", line 156, in build\n",
      "    self._build()  File \"/home/emmanuel/.conda/envs/dl_py36/lib/python3.6/site-packages/gpflow/params/parameter.py\", line 370, in _build\n",
      "    self._prior_tensor = prior  File \"/home/emmanuel/.conda/envs/dl_py36/lib/python3.6/site-packages/tensorflow/python/util/tf_should_use.py\", line 193, in wrapped\n",
      "    return _add_should_use_warning(fn(*args, **kwargs))\n",
      "==================================\n"
     ]
    },
    {
     "name": "stderr",
     "output_type": "stream",
     "text": [
      "ERROR:tensorflow:==================================\n",
      "Object was never used (type <class 'tensorflow.python.framework.ops.Tensor'>):\n",
      "<tf.Tensor 'SVGP-e0dbec03-470/q_sqrt/IsVariableInitialized:0' shape=() dtype=bool>\n",
      "If you want to mark it as used call its \"mark_used()\" method.\n",
      "It was originally created here:\n",
      "  File \"/home/emmanuel/.conda/envs/dl_py36/lib/python3.6/site-packages/IPython/core/interactiveshell.py\", line 3316, in run_code\n",
      "    return outflag  File \"<ipython-input-53-d2d7c739ed38>\", line 18, in <module>\n",
      "    gp_model.fit(xtrain, ytrain)  File \"/home/emmanuel/projects/2019_ocean/src/models/gpflow_gpu.py\", line 130, in fit\n",
      "    self.model = gpflow.models.SVGP(X, Y, kern, lik, feat=feature, minibatch_size=mb_size)  File \"/home/emmanuel/.conda/envs/dl_py36/lib/python3.6/site-packages/gpflow/core/compilable.py\", line 90, in __init__\n",
      "    self.build()  File \"/home/emmanuel/.conda/envs/dl_py36/lib/python3.6/site-packages/gpflow/core/node.py\", line 156, in build\n",
      "    self._build()  File \"/home/emmanuel/.conda/envs/dl_py36/lib/python3.6/site-packages/gpflow/models/model.py\", line 79, in _build\n",
      "    likelihood = self._build_likelihood()  File \"/home/emmanuel/.conda/envs/dl_py36/lib/python3.6/site-packages/gpflow/params/parameterized.py\", line 302, in _build\n",
      "    self._prior_tensor = self._build_prior(priors)  File \"/home/emmanuel/.conda/envs/dl_py36/lib/python3.6/site-packages/gpflow/core/node.py\", line 156, in build\n",
      "    self._build()  File \"/home/emmanuel/.conda/envs/dl_py36/lib/python3.6/site-packages/gpflow/params/parameter.py\", line 370, in _build\n",
      "    self._prior_tensor = prior  File \"/home/emmanuel/.conda/envs/dl_py36/lib/python3.6/site-packages/tensorflow/python/util/tf_should_use.py\", line 193, in wrapped\n",
      "    return _add_should_use_warning(fn(*args, **kwargs))\n",
      "==================================\n"
     ]
    },
    {
     "name": "stdout",
     "output_type": "stream",
     "text": [
      "ERROR:tensorflow:==================================\n",
      "Object was never used (type <class 'tensorflow.python.framework.ops.Tensor'>):\n",
      "<tf.Tensor 'InducingPoints-f9e81908-431/Z/IsVariableInitialized:0' shape=() dtype=bool>\n",
      "If you want to mark it as used call its \"mark_used()\" method.\n",
      "It was originally created here:\n",
      "  File \"/home/emmanuel/.conda/envs/dl_py36/lib/python3.6/site-packages/IPython/core/interactiveshell.py\", line 3316, in run_code\n",
      "    return outflag  File \"<ipython-input-53-d2d7c739ed38>\", line 18, in <module>\n",
      "    gp_model.fit(xtrain, ytrain)  File \"/home/emmanuel/projects/2019_ocean/src/models/gpflow_gpu.py\", line 130, in fit\n",
      "    self.model = gpflow.models.SVGP(X, Y, kern, lik, feat=feature, minibatch_size=mb_size)  File \"/home/emmanuel/projects/2019_ocean/src/models/gpflow_gpu.py\", line 117, in <listcomp>\n",
      "    feature_list = [gpflow.features.InducingPoints(Z) for Z in Zs]  File \"/home/emmanuel/.conda/envs/dl_py36/lib/python3.6/site-packages/gpflow/core/compilable.py\", line 91, in __init__\n",
      "    self.initialize(force=True)  File \"/home/emmanuel/.conda/envs/dl_py36/lib/python3.6/site-packages/gpflow/core/node.py\", line 156, in build\n",
      "    self._build()  File \"/home/emmanuel/.conda/envs/dl_py36/lib/python3.6/site-packages/gpflow/params/parameterized.py\", line 302, in _build\n",
      "    self._prior_tensor = self._build_prior(priors)  File \"/home/emmanuel/.conda/envs/dl_py36/lib/python3.6/site-packages/gpflow/core/node.py\", line 156, in build\n",
      "    self._build()  File \"/home/emmanuel/.conda/envs/dl_py36/lib/python3.6/site-packages/gpflow/params/parameter.py\", line 370, in _build\n",
      "    self._prior_tensor = prior  File \"/home/emmanuel/.conda/envs/dl_py36/lib/python3.6/site-packages/tensorflow/python/util/tf_should_use.py\", line 193, in wrapped\n",
      "    return _add_should_use_warning(fn(*args, **kwargs))\n",
      "==================================\n"
     ]
    },
    {
     "name": "stderr",
     "output_type": "stream",
     "text": [
      "ERROR:tensorflow:==================================\n",
      "Object was never used (type <class 'tensorflow.python.framework.ops.Tensor'>):\n",
      "<tf.Tensor 'InducingPoints-f9e81908-431/Z/IsVariableInitialized:0' shape=() dtype=bool>\n",
      "If you want to mark it as used call its \"mark_used()\" method.\n",
      "It was originally created here:\n",
      "  File \"/home/emmanuel/.conda/envs/dl_py36/lib/python3.6/site-packages/IPython/core/interactiveshell.py\", line 3316, in run_code\n",
      "    return outflag  File \"<ipython-input-53-d2d7c739ed38>\", line 18, in <module>\n",
      "    gp_model.fit(xtrain, ytrain)  File \"/home/emmanuel/projects/2019_ocean/src/models/gpflow_gpu.py\", line 130, in fit\n",
      "    self.model = gpflow.models.SVGP(X, Y, kern, lik, feat=feature, minibatch_size=mb_size)  File \"/home/emmanuel/projects/2019_ocean/src/models/gpflow_gpu.py\", line 117, in <listcomp>\n",
      "    feature_list = [gpflow.features.InducingPoints(Z) for Z in Zs]  File \"/home/emmanuel/.conda/envs/dl_py36/lib/python3.6/site-packages/gpflow/core/compilable.py\", line 91, in __init__\n",
      "    self.initialize(force=True)  File \"/home/emmanuel/.conda/envs/dl_py36/lib/python3.6/site-packages/gpflow/core/node.py\", line 156, in build\n",
      "    self._build()  File \"/home/emmanuel/.conda/envs/dl_py36/lib/python3.6/site-packages/gpflow/params/parameterized.py\", line 302, in _build\n",
      "    self._prior_tensor = self._build_prior(priors)  File \"/home/emmanuel/.conda/envs/dl_py36/lib/python3.6/site-packages/gpflow/core/node.py\", line 156, in build\n",
      "    self._build()  File \"/home/emmanuel/.conda/envs/dl_py36/lib/python3.6/site-packages/gpflow/params/parameter.py\", line 370, in _build\n",
      "    self._prior_tensor = prior  File \"/home/emmanuel/.conda/envs/dl_py36/lib/python3.6/site-packages/tensorflow/python/util/tf_should_use.py\", line 193, in wrapped\n",
      "    return _add_should_use_warning(fn(*args, **kwargs))\n",
      "==================================\n"
     ]
    },
    {
     "name": "stdout",
     "output_type": "stream",
     "text": [
      "ERROR:tensorflow:==================================\n",
      "Object was never used (type <class 'tensorflow.python.framework.ops.Tensor'>):\n",
      "<tf.Tensor 'InducingPoints-ccb70bbc-429/Z/IsVariableInitialized:0' shape=() dtype=bool>\n",
      "If you want to mark it as used call its \"mark_used()\" method.\n",
      "It was originally created here:\n",
      "  File \"/home/emmanuel/.conda/envs/dl_py36/lib/python3.6/site-packages/IPython/core/interactiveshell.py\", line 3316, in run_code\n",
      "    return outflag  File \"<ipython-input-53-d2d7c739ed38>\", line 18, in <module>\n",
      "    gp_model.fit(xtrain, ytrain)  File \"/home/emmanuel/projects/2019_ocean/src/models/gpflow_gpu.py\", line 130, in fit\n",
      "    self.model = gpflow.models.SVGP(X, Y, kern, lik, feat=feature, minibatch_size=mb_size)  File \"/home/emmanuel/projects/2019_ocean/src/models/gpflow_gpu.py\", line 117, in <listcomp>\n",
      "    feature_list = [gpflow.features.InducingPoints(Z) for Z in Zs]  File \"/home/emmanuel/.conda/envs/dl_py36/lib/python3.6/site-packages/gpflow/core/compilable.py\", line 91, in __init__\n",
      "    self.initialize(force=True)  File \"/home/emmanuel/.conda/envs/dl_py36/lib/python3.6/site-packages/gpflow/core/node.py\", line 156, in build\n",
      "    self._build()  File \"/home/emmanuel/.conda/envs/dl_py36/lib/python3.6/site-packages/gpflow/params/parameterized.py\", line 302, in _build\n",
      "    self._prior_tensor = self._build_prior(priors)  File \"/home/emmanuel/.conda/envs/dl_py36/lib/python3.6/site-packages/gpflow/core/node.py\", line 156, in build\n",
      "    self._build()  File \"/home/emmanuel/.conda/envs/dl_py36/lib/python3.6/site-packages/gpflow/params/parameter.py\", line 370, in _build\n",
      "    self._prior_tensor = prior  File \"/home/emmanuel/.conda/envs/dl_py36/lib/python3.6/site-packages/tensorflow/python/util/tf_should_use.py\", line 193, in wrapped\n",
      "    return _add_should_use_warning(fn(*args, **kwargs))\n",
      "==================================\n"
     ]
    },
    {
     "name": "stderr",
     "output_type": "stream",
     "text": [
      "ERROR:tensorflow:==================================\n",
      "Object was never used (type <class 'tensorflow.python.framework.ops.Tensor'>):\n",
      "<tf.Tensor 'InducingPoints-ccb70bbc-429/Z/IsVariableInitialized:0' shape=() dtype=bool>\n",
      "If you want to mark it as used call its \"mark_used()\" method.\n",
      "It was originally created here:\n",
      "  File \"/home/emmanuel/.conda/envs/dl_py36/lib/python3.6/site-packages/IPython/core/interactiveshell.py\", line 3316, in run_code\n",
      "    return outflag  File \"<ipython-input-53-d2d7c739ed38>\", line 18, in <module>\n",
      "    gp_model.fit(xtrain, ytrain)  File \"/home/emmanuel/projects/2019_ocean/src/models/gpflow_gpu.py\", line 130, in fit\n",
      "    self.model = gpflow.models.SVGP(X, Y, kern, lik, feat=feature, minibatch_size=mb_size)  File \"/home/emmanuel/projects/2019_ocean/src/models/gpflow_gpu.py\", line 117, in <listcomp>\n",
      "    feature_list = [gpflow.features.InducingPoints(Z) for Z in Zs]  File \"/home/emmanuel/.conda/envs/dl_py36/lib/python3.6/site-packages/gpflow/core/compilable.py\", line 91, in __init__\n",
      "    self.initialize(force=True)  File \"/home/emmanuel/.conda/envs/dl_py36/lib/python3.6/site-packages/gpflow/core/node.py\", line 156, in build\n",
      "    self._build()  File \"/home/emmanuel/.conda/envs/dl_py36/lib/python3.6/site-packages/gpflow/params/parameterized.py\", line 302, in _build\n",
      "    self._prior_tensor = self._build_prior(priors)  File \"/home/emmanuel/.conda/envs/dl_py36/lib/python3.6/site-packages/gpflow/core/node.py\", line 156, in build\n",
      "    self._build()  File \"/home/emmanuel/.conda/envs/dl_py36/lib/python3.6/site-packages/gpflow/params/parameter.py\", line 370, in _build\n",
      "    self._prior_tensor = prior  File \"/home/emmanuel/.conda/envs/dl_py36/lib/python3.6/site-packages/tensorflow/python/util/tf_should_use.py\", line 193, in wrapped\n",
      "    return _add_should_use_warning(fn(*args, **kwargs))\n",
      "==================================\n"
     ]
    },
    {
     "name": "stdout",
     "output_type": "stream",
     "text": [
      "ERROR:tensorflow:==================================\n",
      "Object was never used (type <class 'tensorflow.python.framework.ops.Tensor'>):\n",
      "<tf.Tensor 'InducingPoints-acb3180b-427/Z/IsVariableInitialized:0' shape=() dtype=bool>\n",
      "If you want to mark it as used call its \"mark_used()\" method.\n",
      "It was originally created here:\n",
      "  File \"/home/emmanuel/.conda/envs/dl_py36/lib/python3.6/site-packages/IPython/core/interactiveshell.py\", line 3316, in run_code\n",
      "    return outflag  File \"<ipython-input-53-d2d7c739ed38>\", line 18, in <module>\n",
      "    gp_model.fit(xtrain, ytrain)  File \"/home/emmanuel/projects/2019_ocean/src/models/gpflow_gpu.py\", line 130, in fit\n",
      "    self.model = gpflow.models.SVGP(X, Y, kern, lik, feat=feature, minibatch_size=mb_size)  File \"/home/emmanuel/projects/2019_ocean/src/models/gpflow_gpu.py\", line 117, in <listcomp>\n",
      "    feature_list = [gpflow.features.InducingPoints(Z) for Z in Zs]  File \"/home/emmanuel/.conda/envs/dl_py36/lib/python3.6/site-packages/gpflow/core/compilable.py\", line 91, in __init__\n",
      "    self.initialize(force=True)  File \"/home/emmanuel/.conda/envs/dl_py36/lib/python3.6/site-packages/gpflow/core/node.py\", line 156, in build\n",
      "    self._build()  File \"/home/emmanuel/.conda/envs/dl_py36/lib/python3.6/site-packages/gpflow/params/parameterized.py\", line 302, in _build\n",
      "    self._prior_tensor = self._build_prior(priors)  File \"/home/emmanuel/.conda/envs/dl_py36/lib/python3.6/site-packages/gpflow/core/node.py\", line 156, in build\n",
      "    self._build()  File \"/home/emmanuel/.conda/envs/dl_py36/lib/python3.6/site-packages/gpflow/params/parameter.py\", line 370, in _build\n",
      "    self._prior_tensor = prior  File \"/home/emmanuel/.conda/envs/dl_py36/lib/python3.6/site-packages/tensorflow/python/util/tf_should_use.py\", line 193, in wrapped\n",
      "    return _add_should_use_warning(fn(*args, **kwargs))\n",
      "==================================\n"
     ]
    },
    {
     "name": "stderr",
     "output_type": "stream",
     "text": [
      "ERROR:tensorflow:==================================\n",
      "Object was never used (type <class 'tensorflow.python.framework.ops.Tensor'>):\n",
      "<tf.Tensor 'InducingPoints-acb3180b-427/Z/IsVariableInitialized:0' shape=() dtype=bool>\n",
      "If you want to mark it as used call its \"mark_used()\" method.\n",
      "It was originally created here:\n",
      "  File \"/home/emmanuel/.conda/envs/dl_py36/lib/python3.6/site-packages/IPython/core/interactiveshell.py\", line 3316, in run_code\n",
      "    return outflag  File \"<ipython-input-53-d2d7c739ed38>\", line 18, in <module>\n",
      "    gp_model.fit(xtrain, ytrain)  File \"/home/emmanuel/projects/2019_ocean/src/models/gpflow_gpu.py\", line 130, in fit\n",
      "    self.model = gpflow.models.SVGP(X, Y, kern, lik, feat=feature, minibatch_size=mb_size)  File \"/home/emmanuel/projects/2019_ocean/src/models/gpflow_gpu.py\", line 117, in <listcomp>\n",
      "    feature_list = [gpflow.features.InducingPoints(Z) for Z in Zs]  File \"/home/emmanuel/.conda/envs/dl_py36/lib/python3.6/site-packages/gpflow/core/compilable.py\", line 91, in __init__\n",
      "    self.initialize(force=True)  File \"/home/emmanuel/.conda/envs/dl_py36/lib/python3.6/site-packages/gpflow/core/node.py\", line 156, in build\n",
      "    self._build()  File \"/home/emmanuel/.conda/envs/dl_py36/lib/python3.6/site-packages/gpflow/params/parameterized.py\", line 302, in _build\n",
      "    self._prior_tensor = self._build_prior(priors)  File \"/home/emmanuel/.conda/envs/dl_py36/lib/python3.6/site-packages/gpflow/core/node.py\", line 156, in build\n",
      "    self._build()  File \"/home/emmanuel/.conda/envs/dl_py36/lib/python3.6/site-packages/gpflow/params/parameter.py\", line 370, in _build\n",
      "    self._prior_tensor = prior  File \"/home/emmanuel/.conda/envs/dl_py36/lib/python3.6/site-packages/tensorflow/python/util/tf_should_use.py\", line 193, in wrapped\n",
      "    return _add_should_use_warning(fn(*args, **kwargs))\n",
      "==================================\n"
     ]
    },
    {
     "name": "stdout",
     "output_type": "stream",
     "text": [
      "ERROR:tensorflow:==================================\n",
      "Object was never used (type <class 'tensorflow.python.framework.ops.Tensor'>):\n",
      "<tf.Tensor 'InducingPoints-26262c03-425/Z/IsVariableInitialized:0' shape=() dtype=bool>\n",
      "If you want to mark it as used call its \"mark_used()\" method.\n",
      "It was originally created here:\n",
      "  File \"/home/emmanuel/.conda/envs/dl_py36/lib/python3.6/site-packages/IPython/core/interactiveshell.py\", line 3316, in run_code\n",
      "    return outflag  File \"<ipython-input-53-d2d7c739ed38>\", line 18, in <module>\n",
      "    gp_model.fit(xtrain, ytrain)  File \"/home/emmanuel/projects/2019_ocean/src/models/gpflow_gpu.py\", line 130, in fit\n",
      "    self.model = gpflow.models.SVGP(X, Y, kern, lik, feat=feature, minibatch_size=mb_size)  File \"/home/emmanuel/projects/2019_ocean/src/models/gpflow_gpu.py\", line 117, in <listcomp>\n",
      "    feature_list = [gpflow.features.InducingPoints(Z) for Z in Zs]  File \"/home/emmanuel/.conda/envs/dl_py36/lib/python3.6/site-packages/gpflow/core/compilable.py\", line 91, in __init__\n",
      "    self.initialize(force=True)  File \"/home/emmanuel/.conda/envs/dl_py36/lib/python3.6/site-packages/gpflow/core/node.py\", line 156, in build\n",
      "    self._build()  File \"/home/emmanuel/.conda/envs/dl_py36/lib/python3.6/site-packages/gpflow/params/parameterized.py\", line 302, in _build\n",
      "    self._prior_tensor = self._build_prior(priors)  File \"/home/emmanuel/.conda/envs/dl_py36/lib/python3.6/site-packages/gpflow/core/node.py\", line 156, in build\n",
      "    self._build()  File \"/home/emmanuel/.conda/envs/dl_py36/lib/python3.6/site-packages/gpflow/params/parameter.py\", line 370, in _build\n",
      "    self._prior_tensor = prior  File \"/home/emmanuel/.conda/envs/dl_py36/lib/python3.6/site-packages/tensorflow/python/util/tf_should_use.py\", line 193, in wrapped\n",
      "    return _add_should_use_warning(fn(*args, **kwargs))\n",
      "==================================\n"
     ]
    },
    {
     "name": "stderr",
     "output_type": "stream",
     "text": [
      "ERROR:tensorflow:==================================\n",
      "Object was never used (type <class 'tensorflow.python.framework.ops.Tensor'>):\n",
      "<tf.Tensor 'InducingPoints-26262c03-425/Z/IsVariableInitialized:0' shape=() dtype=bool>\n",
      "If you want to mark it as used call its \"mark_used()\" method.\n",
      "It was originally created here:\n",
      "  File \"/home/emmanuel/.conda/envs/dl_py36/lib/python3.6/site-packages/IPython/core/interactiveshell.py\", line 3316, in run_code\n",
      "    return outflag  File \"<ipython-input-53-d2d7c739ed38>\", line 18, in <module>\n",
      "    gp_model.fit(xtrain, ytrain)  File \"/home/emmanuel/projects/2019_ocean/src/models/gpflow_gpu.py\", line 130, in fit\n",
      "    self.model = gpflow.models.SVGP(X, Y, kern, lik, feat=feature, minibatch_size=mb_size)  File \"/home/emmanuel/projects/2019_ocean/src/models/gpflow_gpu.py\", line 117, in <listcomp>\n",
      "    feature_list = [gpflow.features.InducingPoints(Z) for Z in Zs]  File \"/home/emmanuel/.conda/envs/dl_py36/lib/python3.6/site-packages/gpflow/core/compilable.py\", line 91, in __init__\n",
      "    self.initialize(force=True)  File \"/home/emmanuel/.conda/envs/dl_py36/lib/python3.6/site-packages/gpflow/core/node.py\", line 156, in build\n",
      "    self._build()  File \"/home/emmanuel/.conda/envs/dl_py36/lib/python3.6/site-packages/gpflow/params/parameterized.py\", line 302, in _build\n",
      "    self._prior_tensor = self._build_prior(priors)  File \"/home/emmanuel/.conda/envs/dl_py36/lib/python3.6/site-packages/gpflow/core/node.py\", line 156, in build\n",
      "    self._build()  File \"/home/emmanuel/.conda/envs/dl_py36/lib/python3.6/site-packages/gpflow/params/parameter.py\", line 370, in _build\n",
      "    self._prior_tensor = prior  File \"/home/emmanuel/.conda/envs/dl_py36/lib/python3.6/site-packages/tensorflow/python/util/tf_should_use.py\", line 193, in wrapped\n",
      "    return _add_should_use_warning(fn(*args, **kwargs))\n",
      "==================================\n"
     ]
    },
    {
     "name": "stdout",
     "output_type": "stream",
     "text": [
      "ERROR:tensorflow:==================================\n",
      "Object was never used (type <class 'tensorflow.python.framework.ops.Tensor'>):\n",
      "<tf.Tensor 'InducingPoints-80f68d98-423/Z/IsVariableInitialized:0' shape=() dtype=bool>\n",
      "If you want to mark it as used call its \"mark_used()\" method.\n",
      "It was originally created here:\n",
      "  File \"/home/emmanuel/.conda/envs/dl_py36/lib/python3.6/site-packages/IPython/core/interactiveshell.py\", line 3316, in run_code\n",
      "    return outflag  File \"<ipython-input-53-d2d7c739ed38>\", line 18, in <module>\n",
      "    gp_model.fit(xtrain, ytrain)  File \"/home/emmanuel/projects/2019_ocean/src/models/gpflow_gpu.py\", line 130, in fit\n",
      "    self.model = gpflow.models.SVGP(X, Y, kern, lik, feat=feature, minibatch_size=mb_size)  File \"/home/emmanuel/projects/2019_ocean/src/models/gpflow_gpu.py\", line 117, in <listcomp>\n",
      "    feature_list = [gpflow.features.InducingPoints(Z) for Z in Zs]  File \"/home/emmanuel/.conda/envs/dl_py36/lib/python3.6/site-packages/gpflow/core/compilable.py\", line 91, in __init__\n",
      "    self.initialize(force=True)  File \"/home/emmanuel/.conda/envs/dl_py36/lib/python3.6/site-packages/gpflow/core/node.py\", line 156, in build\n",
      "    self._build()  File \"/home/emmanuel/.conda/envs/dl_py36/lib/python3.6/site-packages/gpflow/params/parameterized.py\", line 302, in _build\n",
      "    self._prior_tensor = self._build_prior(priors)  File \"/home/emmanuel/.conda/envs/dl_py36/lib/python3.6/site-packages/gpflow/core/node.py\", line 156, in build\n",
      "    self._build()  File \"/home/emmanuel/.conda/envs/dl_py36/lib/python3.6/site-packages/gpflow/params/parameter.py\", line 370, in _build\n",
      "    self._prior_tensor = prior  File \"/home/emmanuel/.conda/envs/dl_py36/lib/python3.6/site-packages/tensorflow/python/util/tf_should_use.py\", line 193, in wrapped\n",
      "    return _add_should_use_warning(fn(*args, **kwargs))\n",
      "==================================\n"
     ]
    },
    {
     "name": "stderr",
     "output_type": "stream",
     "text": [
      "ERROR:tensorflow:==================================\n",
      "Object was never used (type <class 'tensorflow.python.framework.ops.Tensor'>):\n",
      "<tf.Tensor 'InducingPoints-80f68d98-423/Z/IsVariableInitialized:0' shape=() dtype=bool>\n",
      "If you want to mark it as used call its \"mark_used()\" method.\n",
      "It was originally created here:\n",
      "  File \"/home/emmanuel/.conda/envs/dl_py36/lib/python3.6/site-packages/IPython/core/interactiveshell.py\", line 3316, in run_code\n",
      "    return outflag  File \"<ipython-input-53-d2d7c739ed38>\", line 18, in <module>\n",
      "    gp_model.fit(xtrain, ytrain)  File \"/home/emmanuel/projects/2019_ocean/src/models/gpflow_gpu.py\", line 130, in fit\n",
      "    self.model = gpflow.models.SVGP(X, Y, kern, lik, feat=feature, minibatch_size=mb_size)  File \"/home/emmanuel/projects/2019_ocean/src/models/gpflow_gpu.py\", line 117, in <listcomp>\n",
      "    feature_list = [gpflow.features.InducingPoints(Z) for Z in Zs]  File \"/home/emmanuel/.conda/envs/dl_py36/lib/python3.6/site-packages/gpflow/core/compilable.py\", line 91, in __init__\n",
      "    self.initialize(force=True)  File \"/home/emmanuel/.conda/envs/dl_py36/lib/python3.6/site-packages/gpflow/core/node.py\", line 156, in build\n",
      "    self._build()  File \"/home/emmanuel/.conda/envs/dl_py36/lib/python3.6/site-packages/gpflow/params/parameterized.py\", line 302, in _build\n",
      "    self._prior_tensor = self._build_prior(priors)  File \"/home/emmanuel/.conda/envs/dl_py36/lib/python3.6/site-packages/gpflow/core/node.py\", line 156, in build\n",
      "    self._build()  File \"/home/emmanuel/.conda/envs/dl_py36/lib/python3.6/site-packages/gpflow/params/parameter.py\", line 370, in _build\n",
      "    self._prior_tensor = prior  File \"/home/emmanuel/.conda/envs/dl_py36/lib/python3.6/site-packages/tensorflow/python/util/tf_should_use.py\", line 193, in wrapped\n",
      "    return _add_should_use_warning(fn(*args, **kwargs))\n",
      "==================================\n"
     ]
    },
    {
     "name": "stdout",
     "output_type": "stream",
     "text": [
      "ERROR:tensorflow:==================================\n",
      "Object was never used (type <class 'tensorflow.python.framework.ops.Tensor'>):\n",
      "<tf.Tensor 'InducingPoints-74b9eacd-421/Z/IsVariableInitialized:0' shape=() dtype=bool>\n",
      "If you want to mark it as used call its \"mark_used()\" method.\n",
      "It was originally created here:\n",
      "  File \"/home/emmanuel/.conda/envs/dl_py36/lib/python3.6/site-packages/IPython/core/interactiveshell.py\", line 3316, in run_code\n",
      "    return outflag  File \"<ipython-input-53-d2d7c739ed38>\", line 18, in <module>\n",
      "    gp_model.fit(xtrain, ytrain)  File \"/home/emmanuel/projects/2019_ocean/src/models/gpflow_gpu.py\", line 130, in fit\n",
      "    self.model = gpflow.models.SVGP(X, Y, kern, lik, feat=feature, minibatch_size=mb_size)  File \"/home/emmanuel/projects/2019_ocean/src/models/gpflow_gpu.py\", line 117, in <listcomp>\n",
      "    feature_list = [gpflow.features.InducingPoints(Z) for Z in Zs]  File \"/home/emmanuel/.conda/envs/dl_py36/lib/python3.6/site-packages/gpflow/core/compilable.py\", line 91, in __init__\n",
      "    self.initialize(force=True)  File \"/home/emmanuel/.conda/envs/dl_py36/lib/python3.6/site-packages/gpflow/core/node.py\", line 156, in build\n",
      "    self._build()  File \"/home/emmanuel/.conda/envs/dl_py36/lib/python3.6/site-packages/gpflow/params/parameterized.py\", line 302, in _build\n",
      "    self._prior_tensor = self._build_prior(priors)  File \"/home/emmanuel/.conda/envs/dl_py36/lib/python3.6/site-packages/gpflow/core/node.py\", line 156, in build\n",
      "    self._build()  File \"/home/emmanuel/.conda/envs/dl_py36/lib/python3.6/site-packages/gpflow/params/parameter.py\", line 370, in _build\n",
      "    self._prior_tensor = prior  File \"/home/emmanuel/.conda/envs/dl_py36/lib/python3.6/site-packages/tensorflow/python/util/tf_should_use.py\", line 193, in wrapped\n",
      "    return _add_should_use_warning(fn(*args, **kwargs))\n",
      "==================================\n"
     ]
    },
    {
     "name": "stderr",
     "output_type": "stream",
     "text": [
      "ERROR:tensorflow:==================================\n",
      "Object was never used (type <class 'tensorflow.python.framework.ops.Tensor'>):\n",
      "<tf.Tensor 'InducingPoints-74b9eacd-421/Z/IsVariableInitialized:0' shape=() dtype=bool>\n",
      "If you want to mark it as used call its \"mark_used()\" method.\n",
      "It was originally created here:\n",
      "  File \"/home/emmanuel/.conda/envs/dl_py36/lib/python3.6/site-packages/IPython/core/interactiveshell.py\", line 3316, in run_code\n",
      "    return outflag  File \"<ipython-input-53-d2d7c739ed38>\", line 18, in <module>\n",
      "    gp_model.fit(xtrain, ytrain)  File \"/home/emmanuel/projects/2019_ocean/src/models/gpflow_gpu.py\", line 130, in fit\n",
      "    self.model = gpflow.models.SVGP(X, Y, kern, lik, feat=feature, minibatch_size=mb_size)  File \"/home/emmanuel/projects/2019_ocean/src/models/gpflow_gpu.py\", line 117, in <listcomp>\n",
      "    feature_list = [gpflow.features.InducingPoints(Z) for Z in Zs]  File \"/home/emmanuel/.conda/envs/dl_py36/lib/python3.6/site-packages/gpflow/core/compilable.py\", line 91, in __init__\n",
      "    self.initialize(force=True)  File \"/home/emmanuel/.conda/envs/dl_py36/lib/python3.6/site-packages/gpflow/core/node.py\", line 156, in build\n",
      "    self._build()  File \"/home/emmanuel/.conda/envs/dl_py36/lib/python3.6/site-packages/gpflow/params/parameterized.py\", line 302, in _build\n",
      "    self._prior_tensor = self._build_prior(priors)  File \"/home/emmanuel/.conda/envs/dl_py36/lib/python3.6/site-packages/gpflow/core/node.py\", line 156, in build\n",
      "    self._build()  File \"/home/emmanuel/.conda/envs/dl_py36/lib/python3.6/site-packages/gpflow/params/parameter.py\", line 370, in _build\n",
      "    self._prior_tensor = prior  File \"/home/emmanuel/.conda/envs/dl_py36/lib/python3.6/site-packages/tensorflow/python/util/tf_should_use.py\", line 193, in wrapped\n",
      "    return _add_should_use_warning(fn(*args, **kwargs))\n",
      "==================================\n"
     ]
    },
    {
     "name": "stdout",
     "output_type": "stream",
     "text": [
      "ERROR:tensorflow:==================================\n",
      "Object was never used (type <class 'tensorflow.python.framework.ops.Tensor'>):\n",
      "<tf.Tensor 'InducingPoints-11d952c0-419/Z/IsVariableInitialized:0' shape=() dtype=bool>\n",
      "If you want to mark it as used call its \"mark_used()\" method.\n",
      "It was originally created here:\n",
      "  File \"/home/emmanuel/.conda/envs/dl_py36/lib/python3.6/site-packages/IPython/core/interactiveshell.py\", line 3316, in run_code\n",
      "    return outflag  File \"<ipython-input-53-d2d7c739ed38>\", line 18, in <module>\n",
      "    gp_model.fit(xtrain, ytrain)  File \"/home/emmanuel/projects/2019_ocean/src/models/gpflow_gpu.py\", line 130, in fit\n",
      "    self.model = gpflow.models.SVGP(X, Y, kern, lik, feat=feature, minibatch_size=mb_size)  File \"/home/emmanuel/projects/2019_ocean/src/models/gpflow_gpu.py\", line 117, in <listcomp>\n",
      "    feature_list = [gpflow.features.InducingPoints(Z) for Z in Zs]  File \"/home/emmanuel/.conda/envs/dl_py36/lib/python3.6/site-packages/gpflow/core/compilable.py\", line 91, in __init__\n",
      "    self.initialize(force=True)  File \"/home/emmanuel/.conda/envs/dl_py36/lib/python3.6/site-packages/gpflow/core/node.py\", line 156, in build\n",
      "    self._build()  File \"/home/emmanuel/.conda/envs/dl_py36/lib/python3.6/site-packages/gpflow/params/parameterized.py\", line 302, in _build\n",
      "    self._prior_tensor = self._build_prior(priors)  File \"/home/emmanuel/.conda/envs/dl_py36/lib/python3.6/site-packages/gpflow/core/node.py\", line 156, in build\n",
      "    self._build()  File \"/home/emmanuel/.conda/envs/dl_py36/lib/python3.6/site-packages/gpflow/params/parameter.py\", line 370, in _build\n",
      "    self._prior_tensor = prior  File \"/home/emmanuel/.conda/envs/dl_py36/lib/python3.6/site-packages/tensorflow/python/util/tf_should_use.py\", line 193, in wrapped\n",
      "    return _add_should_use_warning(fn(*args, **kwargs))\n",
      "==================================\n"
     ]
    },
    {
     "name": "stderr",
     "output_type": "stream",
     "text": [
      "ERROR:tensorflow:==================================\n",
      "Object was never used (type <class 'tensorflow.python.framework.ops.Tensor'>):\n",
      "<tf.Tensor 'InducingPoints-11d952c0-419/Z/IsVariableInitialized:0' shape=() dtype=bool>\n",
      "If you want to mark it as used call its \"mark_used()\" method.\n",
      "It was originally created here:\n",
      "  File \"/home/emmanuel/.conda/envs/dl_py36/lib/python3.6/site-packages/IPython/core/interactiveshell.py\", line 3316, in run_code\n",
      "    return outflag  File \"<ipython-input-53-d2d7c739ed38>\", line 18, in <module>\n",
      "    gp_model.fit(xtrain, ytrain)  File \"/home/emmanuel/projects/2019_ocean/src/models/gpflow_gpu.py\", line 130, in fit\n",
      "    self.model = gpflow.models.SVGP(X, Y, kern, lik, feat=feature, minibatch_size=mb_size)  File \"/home/emmanuel/projects/2019_ocean/src/models/gpflow_gpu.py\", line 117, in <listcomp>\n",
      "    feature_list = [gpflow.features.InducingPoints(Z) for Z in Zs]  File \"/home/emmanuel/.conda/envs/dl_py36/lib/python3.6/site-packages/gpflow/core/compilable.py\", line 91, in __init__\n",
      "    self.initialize(force=True)  File \"/home/emmanuel/.conda/envs/dl_py36/lib/python3.6/site-packages/gpflow/core/node.py\", line 156, in build\n",
      "    self._build()  File \"/home/emmanuel/.conda/envs/dl_py36/lib/python3.6/site-packages/gpflow/params/parameterized.py\", line 302, in _build\n",
      "    self._prior_tensor = self._build_prior(priors)  File \"/home/emmanuel/.conda/envs/dl_py36/lib/python3.6/site-packages/gpflow/core/node.py\", line 156, in build\n",
      "    self._build()  File \"/home/emmanuel/.conda/envs/dl_py36/lib/python3.6/site-packages/gpflow/params/parameter.py\", line 370, in _build\n",
      "    self._prior_tensor = prior  File \"/home/emmanuel/.conda/envs/dl_py36/lib/python3.6/site-packages/tensorflow/python/util/tf_should_use.py\", line 193, in wrapped\n",
      "    return _add_should_use_warning(fn(*args, **kwargs))\n",
      "==================================\n"
     ]
    },
    {
     "name": "stdout",
     "output_type": "stream",
     "text": [
      "ERROR:tensorflow:==================================\n",
      "Object was never used (type <class 'tensorflow.python.framework.ops.Tensor'>):\n",
      "<tf.Tensor 'InducingPoints-47806db6-417/Z/IsVariableInitialized:0' shape=() dtype=bool>\n",
      "If you want to mark it as used call its \"mark_used()\" method.\n",
      "It was originally created here:\n",
      "  File \"/home/emmanuel/.conda/envs/dl_py36/lib/python3.6/site-packages/IPython/core/interactiveshell.py\", line 3316, in run_code\n",
      "    return outflag  File \"<ipython-input-53-d2d7c739ed38>\", line 18, in <module>\n",
      "    gp_model.fit(xtrain, ytrain)  File \"/home/emmanuel/projects/2019_ocean/src/models/gpflow_gpu.py\", line 130, in fit\n",
      "    self.model = gpflow.models.SVGP(X, Y, kern, lik, feat=feature, minibatch_size=mb_size)  File \"/home/emmanuel/projects/2019_ocean/src/models/gpflow_gpu.py\", line 117, in <listcomp>\n",
      "    feature_list = [gpflow.features.InducingPoints(Z) for Z in Zs]  File \"/home/emmanuel/.conda/envs/dl_py36/lib/python3.6/site-packages/gpflow/core/compilable.py\", line 91, in __init__\n",
      "    self.initialize(force=True)  File \"/home/emmanuel/.conda/envs/dl_py36/lib/python3.6/site-packages/gpflow/core/node.py\", line 156, in build\n",
      "    self._build()  File \"/home/emmanuel/.conda/envs/dl_py36/lib/python3.6/site-packages/gpflow/params/parameterized.py\", line 302, in _build\n",
      "    self._prior_tensor = self._build_prior(priors)  File \"/home/emmanuel/.conda/envs/dl_py36/lib/python3.6/site-packages/gpflow/core/node.py\", line 156, in build\n",
      "    self._build()  File \"/home/emmanuel/.conda/envs/dl_py36/lib/python3.6/site-packages/gpflow/params/parameter.py\", line 370, in _build\n",
      "    self._prior_tensor = prior  File \"/home/emmanuel/.conda/envs/dl_py36/lib/python3.6/site-packages/tensorflow/python/util/tf_should_use.py\", line 193, in wrapped\n",
      "    return _add_should_use_warning(fn(*args, **kwargs))\n",
      "==================================\n"
     ]
    },
    {
     "name": "stderr",
     "output_type": "stream",
     "text": [
      "ERROR:tensorflow:==================================\n",
      "Object was never used (type <class 'tensorflow.python.framework.ops.Tensor'>):\n",
      "<tf.Tensor 'InducingPoints-47806db6-417/Z/IsVariableInitialized:0' shape=() dtype=bool>\n",
      "If you want to mark it as used call its \"mark_used()\" method.\n",
      "It was originally created here:\n",
      "  File \"/home/emmanuel/.conda/envs/dl_py36/lib/python3.6/site-packages/IPython/core/interactiveshell.py\", line 3316, in run_code\n",
      "    return outflag  File \"<ipython-input-53-d2d7c739ed38>\", line 18, in <module>\n",
      "    gp_model.fit(xtrain, ytrain)  File \"/home/emmanuel/projects/2019_ocean/src/models/gpflow_gpu.py\", line 130, in fit\n",
      "    self.model = gpflow.models.SVGP(X, Y, kern, lik, feat=feature, minibatch_size=mb_size)  File \"/home/emmanuel/projects/2019_ocean/src/models/gpflow_gpu.py\", line 117, in <listcomp>\n",
      "    feature_list = [gpflow.features.InducingPoints(Z) for Z in Zs]  File \"/home/emmanuel/.conda/envs/dl_py36/lib/python3.6/site-packages/gpflow/core/compilable.py\", line 91, in __init__\n",
      "    self.initialize(force=True)  File \"/home/emmanuel/.conda/envs/dl_py36/lib/python3.6/site-packages/gpflow/core/node.py\", line 156, in build\n",
      "    self._build()  File \"/home/emmanuel/.conda/envs/dl_py36/lib/python3.6/site-packages/gpflow/params/parameterized.py\", line 302, in _build\n",
      "    self._prior_tensor = self._build_prior(priors)  File \"/home/emmanuel/.conda/envs/dl_py36/lib/python3.6/site-packages/gpflow/core/node.py\", line 156, in build\n",
      "    self._build()  File \"/home/emmanuel/.conda/envs/dl_py36/lib/python3.6/site-packages/gpflow/params/parameter.py\", line 370, in _build\n",
      "    self._prior_tensor = prior  File \"/home/emmanuel/.conda/envs/dl_py36/lib/python3.6/site-packages/tensorflow/python/util/tf_should_use.py\", line 193, in wrapped\n",
      "    return _add_should_use_warning(fn(*args, **kwargs))\n",
      "==================================\n"
     ]
    },
    {
     "name": "stdout",
     "output_type": "stream",
     "text": [
      "ERROR:tensorflow:==================================\n",
      "Object was never used (type <class 'tensorflow.python.framework.ops.Tensor'>):\n",
      "<tf.Tensor 'InducingPoints-11925c8c-415/Z/IsVariableInitialized:0' shape=() dtype=bool>\n",
      "If you want to mark it as used call its \"mark_used()\" method.\n",
      "It was originally created here:\n",
      "  File \"/home/emmanuel/.conda/envs/dl_py36/lib/python3.6/site-packages/IPython/core/interactiveshell.py\", line 3316, in run_code\n",
      "    return outflag  File \"<ipython-input-53-d2d7c739ed38>\", line 18, in <module>\n",
      "    gp_model.fit(xtrain, ytrain)  File \"/home/emmanuel/projects/2019_ocean/src/models/gpflow_gpu.py\", line 130, in fit\n",
      "    self.model = gpflow.models.SVGP(X, Y, kern, lik, feat=feature, minibatch_size=mb_size)  File \"/home/emmanuel/projects/2019_ocean/src/models/gpflow_gpu.py\", line 117, in <listcomp>\n",
      "    feature_list = [gpflow.features.InducingPoints(Z) for Z in Zs]  File \"/home/emmanuel/.conda/envs/dl_py36/lib/python3.6/site-packages/gpflow/core/compilable.py\", line 91, in __init__\n",
      "    self.initialize(force=True)  File \"/home/emmanuel/.conda/envs/dl_py36/lib/python3.6/site-packages/gpflow/core/node.py\", line 156, in build\n",
      "    self._build()  File \"/home/emmanuel/.conda/envs/dl_py36/lib/python3.6/site-packages/gpflow/params/parameterized.py\", line 302, in _build\n",
      "    self._prior_tensor = self._build_prior(priors)  File \"/home/emmanuel/.conda/envs/dl_py36/lib/python3.6/site-packages/gpflow/core/node.py\", line 156, in build\n",
      "    self._build()  File \"/home/emmanuel/.conda/envs/dl_py36/lib/python3.6/site-packages/gpflow/params/parameter.py\", line 370, in _build\n",
      "    self._prior_tensor = prior  File \"/home/emmanuel/.conda/envs/dl_py36/lib/python3.6/site-packages/tensorflow/python/util/tf_should_use.py\", line 193, in wrapped\n",
      "    return _add_should_use_warning(fn(*args, **kwargs))\n",
      "==================================\n"
     ]
    },
    {
     "name": "stderr",
     "output_type": "stream",
     "text": [
      "ERROR:tensorflow:==================================\n",
      "Object was never used (type <class 'tensorflow.python.framework.ops.Tensor'>):\n",
      "<tf.Tensor 'InducingPoints-11925c8c-415/Z/IsVariableInitialized:0' shape=() dtype=bool>\n",
      "If you want to mark it as used call its \"mark_used()\" method.\n",
      "It was originally created here:\n",
      "  File \"/home/emmanuel/.conda/envs/dl_py36/lib/python3.6/site-packages/IPython/core/interactiveshell.py\", line 3316, in run_code\n",
      "    return outflag  File \"<ipython-input-53-d2d7c739ed38>\", line 18, in <module>\n",
      "    gp_model.fit(xtrain, ytrain)  File \"/home/emmanuel/projects/2019_ocean/src/models/gpflow_gpu.py\", line 130, in fit\n",
      "    self.model = gpflow.models.SVGP(X, Y, kern, lik, feat=feature, minibatch_size=mb_size)  File \"/home/emmanuel/projects/2019_ocean/src/models/gpflow_gpu.py\", line 117, in <listcomp>\n",
      "    feature_list = [gpflow.features.InducingPoints(Z) for Z in Zs]  File \"/home/emmanuel/.conda/envs/dl_py36/lib/python3.6/site-packages/gpflow/core/compilable.py\", line 91, in __init__\n",
      "    self.initialize(force=True)  File \"/home/emmanuel/.conda/envs/dl_py36/lib/python3.6/site-packages/gpflow/core/node.py\", line 156, in build\n",
      "    self._build()  File \"/home/emmanuel/.conda/envs/dl_py36/lib/python3.6/site-packages/gpflow/params/parameterized.py\", line 302, in _build\n",
      "    self._prior_tensor = self._build_prior(priors)  File \"/home/emmanuel/.conda/envs/dl_py36/lib/python3.6/site-packages/gpflow/core/node.py\", line 156, in build\n",
      "    self._build()  File \"/home/emmanuel/.conda/envs/dl_py36/lib/python3.6/site-packages/gpflow/params/parameter.py\", line 370, in _build\n",
      "    self._prior_tensor = prior  File \"/home/emmanuel/.conda/envs/dl_py36/lib/python3.6/site-packages/tensorflow/python/util/tf_should_use.py\", line 193, in wrapped\n",
      "    return _add_should_use_warning(fn(*args, **kwargs))\n",
      "==================================\n"
     ]
    },
    {
     "name": "stdout",
     "output_type": "stream",
     "text": [
      "ERROR:tensorflow:==================================\n",
      "Object was never used (type <class 'tensorflow.python.framework.ops.Tensor'>):\n",
      "<tf.Tensor 'InducingPoints-d7e62354-413/Z/IsVariableInitialized:0' shape=() dtype=bool>\n",
      "If you want to mark it as used call its \"mark_used()\" method.\n",
      "It was originally created here:\n",
      "  File \"/home/emmanuel/.conda/envs/dl_py36/lib/python3.6/site-packages/IPython/core/interactiveshell.py\", line 3316, in run_code\n",
      "    return outflag  File \"<ipython-input-53-d2d7c739ed38>\", line 18, in <module>\n",
      "    gp_model.fit(xtrain, ytrain)  File \"/home/emmanuel/projects/2019_ocean/src/models/gpflow_gpu.py\", line 130, in fit\n",
      "    self.model = gpflow.models.SVGP(X, Y, kern, lik, feat=feature, minibatch_size=mb_size)  File \"/home/emmanuel/projects/2019_ocean/src/models/gpflow_gpu.py\", line 117, in <listcomp>\n",
      "    feature_list = [gpflow.features.InducingPoints(Z) for Z in Zs]  File \"/home/emmanuel/.conda/envs/dl_py36/lib/python3.6/site-packages/gpflow/core/compilable.py\", line 91, in __init__\n",
      "    self.initialize(force=True)  File \"/home/emmanuel/.conda/envs/dl_py36/lib/python3.6/site-packages/gpflow/core/node.py\", line 156, in build\n",
      "    self._build()  File \"/home/emmanuel/.conda/envs/dl_py36/lib/python3.6/site-packages/gpflow/params/parameterized.py\", line 302, in _build\n",
      "    self._prior_tensor = self._build_prior(priors)  File \"/home/emmanuel/.conda/envs/dl_py36/lib/python3.6/site-packages/gpflow/core/node.py\", line 156, in build\n",
      "    self._build()  File \"/home/emmanuel/.conda/envs/dl_py36/lib/python3.6/site-packages/gpflow/params/parameter.py\", line 370, in _build\n",
      "    self._prior_tensor = prior  File \"/home/emmanuel/.conda/envs/dl_py36/lib/python3.6/site-packages/tensorflow/python/util/tf_should_use.py\", line 193, in wrapped\n",
      "    return _add_should_use_warning(fn(*args, **kwargs))\n",
      "==================================\n"
     ]
    },
    {
     "name": "stderr",
     "output_type": "stream",
     "text": [
      "ERROR:tensorflow:==================================\n",
      "Object was never used (type <class 'tensorflow.python.framework.ops.Tensor'>):\n",
      "<tf.Tensor 'InducingPoints-d7e62354-413/Z/IsVariableInitialized:0' shape=() dtype=bool>\n",
      "If you want to mark it as used call its \"mark_used()\" method.\n",
      "It was originally created here:\n",
      "  File \"/home/emmanuel/.conda/envs/dl_py36/lib/python3.6/site-packages/IPython/core/interactiveshell.py\", line 3316, in run_code\n",
      "    return outflag  File \"<ipython-input-53-d2d7c739ed38>\", line 18, in <module>\n",
      "    gp_model.fit(xtrain, ytrain)  File \"/home/emmanuel/projects/2019_ocean/src/models/gpflow_gpu.py\", line 130, in fit\n",
      "    self.model = gpflow.models.SVGP(X, Y, kern, lik, feat=feature, minibatch_size=mb_size)  File \"/home/emmanuel/projects/2019_ocean/src/models/gpflow_gpu.py\", line 117, in <listcomp>\n",
      "    feature_list = [gpflow.features.InducingPoints(Z) for Z in Zs]  File \"/home/emmanuel/.conda/envs/dl_py36/lib/python3.6/site-packages/gpflow/core/compilable.py\", line 91, in __init__\n",
      "    self.initialize(force=True)  File \"/home/emmanuel/.conda/envs/dl_py36/lib/python3.6/site-packages/gpflow/core/node.py\", line 156, in build\n",
      "    self._build()  File \"/home/emmanuel/.conda/envs/dl_py36/lib/python3.6/site-packages/gpflow/params/parameterized.py\", line 302, in _build\n",
      "    self._prior_tensor = self._build_prior(priors)  File \"/home/emmanuel/.conda/envs/dl_py36/lib/python3.6/site-packages/gpflow/core/node.py\", line 156, in build\n",
      "    self._build()  File \"/home/emmanuel/.conda/envs/dl_py36/lib/python3.6/site-packages/gpflow/params/parameter.py\", line 370, in _build\n",
      "    self._prior_tensor = prior  File \"/home/emmanuel/.conda/envs/dl_py36/lib/python3.6/site-packages/tensorflow/python/util/tf_should_use.py\", line 193, in wrapped\n",
      "    return _add_should_use_warning(fn(*args, **kwargs))\n",
      "==================================\n"
     ]
    },
    {
     "name": "stdout",
     "output_type": "stream",
     "text": [
      "ERROR:tensorflow:==================================\n",
      "Object was never used (type <class 'tensorflow.python.framework.ops.Tensor'>):\n",
      "<tf.Tensor 'Gaussian-19b0f915-466/variance/IsVariableInitialized:0' shape=() dtype=bool>\n",
      "If you want to mark it as used call its \"mark_used()\" method.\n",
      "It was originally created here:\n",
      "  File \"/home/emmanuel/.conda/envs/dl_py36/lib/python3.6/site-packages/IPython/core/interactiveshell.py\", line 3316, in run_code\n",
      "    return outflag  File \"<ipython-input-53-d2d7c739ed38>\", line 18, in <module>\n",
      "    gp_model.fit(xtrain, ytrain)  File \"/home/emmanuel/projects/2019_ocean/src/models/gpflow_gpu.py\", line 130, in fit\n",
      "    self.model = gpflow.models.SVGP(X, Y, kern, lik, feat=feature, minibatch_size=mb_size)  File \"/home/emmanuel/.conda/envs/dl_py36/lib/python3.6/site-packages/gpflow/core/compilable.py\", line 91, in __init__\n",
      "    self.initialize(force=True)  File \"/home/emmanuel/.conda/envs/dl_py36/lib/python3.6/site-packages/gpflow/core/node.py\", line 156, in build\n",
      "    self._build()  File \"/home/emmanuel/.conda/envs/dl_py36/lib/python3.6/site-packages/gpflow/params/parameterized.py\", line 302, in _build\n",
      "    self._prior_tensor = self._build_prior(priors)  File \"/home/emmanuel/.conda/envs/dl_py36/lib/python3.6/site-packages/gpflow/core/node.py\", line 156, in build\n",
      "    self._build()  File \"/home/emmanuel/.conda/envs/dl_py36/lib/python3.6/site-packages/gpflow/params/parameter.py\", line 370, in _build\n",
      "    self._prior_tensor = prior  File \"/home/emmanuel/.conda/envs/dl_py36/lib/python3.6/site-packages/tensorflow/python/util/tf_should_use.py\", line 193, in wrapped\n",
      "    return _add_should_use_warning(fn(*args, **kwargs))\n",
      "==================================\n"
     ]
    },
    {
     "name": "stderr",
     "output_type": "stream",
     "text": [
      "ERROR:tensorflow:==================================\n",
      "Object was never used (type <class 'tensorflow.python.framework.ops.Tensor'>):\n",
      "<tf.Tensor 'Gaussian-19b0f915-466/variance/IsVariableInitialized:0' shape=() dtype=bool>\n",
      "If you want to mark it as used call its \"mark_used()\" method.\n",
      "It was originally created here:\n",
      "  File \"/home/emmanuel/.conda/envs/dl_py36/lib/python3.6/site-packages/IPython/core/interactiveshell.py\", line 3316, in run_code\n",
      "    return outflag  File \"<ipython-input-53-d2d7c739ed38>\", line 18, in <module>\n",
      "    gp_model.fit(xtrain, ytrain)  File \"/home/emmanuel/projects/2019_ocean/src/models/gpflow_gpu.py\", line 130, in fit\n",
      "    self.model = gpflow.models.SVGP(X, Y, kern, lik, feat=feature, minibatch_size=mb_size)  File \"/home/emmanuel/.conda/envs/dl_py36/lib/python3.6/site-packages/gpflow/core/compilable.py\", line 91, in __init__\n",
      "    self.initialize(force=True)  File \"/home/emmanuel/.conda/envs/dl_py36/lib/python3.6/site-packages/gpflow/core/node.py\", line 156, in build\n",
      "    self._build()  File \"/home/emmanuel/.conda/envs/dl_py36/lib/python3.6/site-packages/gpflow/params/parameterized.py\", line 302, in _build\n",
      "    self._prior_tensor = self._build_prior(priors)  File \"/home/emmanuel/.conda/envs/dl_py36/lib/python3.6/site-packages/gpflow/core/node.py\", line 156, in build\n",
      "    self._build()  File \"/home/emmanuel/.conda/envs/dl_py36/lib/python3.6/site-packages/gpflow/params/parameter.py\", line 370, in _build\n",
      "    self._prior_tensor = prior  File \"/home/emmanuel/.conda/envs/dl_py36/lib/python3.6/site-packages/tensorflow/python/util/tf_should_use.py\", line 193, in wrapped\n",
      "    return _add_should_use_warning(fn(*args, **kwargs))\n",
      "==================================\n"
     ]
    },
    {
     "name": "stdout",
     "output_type": "stream",
     "text": [
      "ERROR:tensorflow:==================================\n",
      "Object was never used (type <class 'tensorflow.python.framework.ops.Tensor'>):\n",
      "<tf.Tensor 'SquaredExponential-7b60f6df-461/variance/IsVariableInitialized:0' shape=() dtype=bool>\n",
      "If you want to mark it as used call its \"mark_used()\" method.\n",
      "It was originally created here:\n",
      "  File \"/home/emmanuel/.conda/envs/dl_py36/lib/python3.6/site-packages/IPython/core/interactiveshell.py\", line 3316, in run_code\n",
      "    return outflag  File \"<ipython-input-53-d2d7c739ed38>\", line 18, in <module>\n",
      "    gp_model.fit(xtrain, ytrain)  File \"/home/emmanuel/projects/2019_ocean/src/models/gpflow_gpu.py\", line 130, in fit\n",
      "    self.model = gpflow.models.SVGP(X, Y, kern, lik, feat=feature, minibatch_size=mb_size)  File \"/home/emmanuel/projects/2019_ocean/src/models/gpflow_gpu.py\", line 123, in <listcomp>\n",
      "    kern_list = [gpflow.kernels.RBF(X.shape[1], lengthscales=float(X.shape[1])**0.5) for _ in range(p_outputs)]  File \"/home/emmanuel/.conda/envs/dl_py36/lib/python3.6/site-packages/gpflow/core/compilable.py\", line 91, in __init__\n",
      "    self.initialize(force=True)  File \"/home/emmanuel/.conda/envs/dl_py36/lib/python3.6/site-packages/gpflow/core/node.py\", line 156, in build\n",
      "    self._build()  File \"/home/emmanuel/.conda/envs/dl_py36/lib/python3.6/site-packages/gpflow/params/parameterized.py\", line 302, in _build\n",
      "    self._prior_tensor = self._build_prior(priors)  File \"/home/emmanuel/.conda/envs/dl_py36/lib/python3.6/site-packages/gpflow/core/node.py\", line 156, in build\n",
      "    self._build()  File \"/home/emmanuel/.conda/envs/dl_py36/lib/python3.6/site-packages/gpflow/params/parameter.py\", line 370, in _build\n",
      "    self._prior_tensor = prior  File \"/home/emmanuel/.conda/envs/dl_py36/lib/python3.6/site-packages/tensorflow/python/util/tf_should_use.py\", line 193, in wrapped\n",
      "    return _add_should_use_warning(fn(*args, **kwargs))\n",
      "==================================\n"
     ]
    },
    {
     "name": "stderr",
     "output_type": "stream",
     "text": [
      "ERROR:tensorflow:==================================\n",
      "Object was never used (type <class 'tensorflow.python.framework.ops.Tensor'>):\n",
      "<tf.Tensor 'SquaredExponential-7b60f6df-461/variance/IsVariableInitialized:0' shape=() dtype=bool>\n",
      "If you want to mark it as used call its \"mark_used()\" method.\n",
      "It was originally created here:\n",
      "  File \"/home/emmanuel/.conda/envs/dl_py36/lib/python3.6/site-packages/IPython/core/interactiveshell.py\", line 3316, in run_code\n",
      "    return outflag  File \"<ipython-input-53-d2d7c739ed38>\", line 18, in <module>\n",
      "    gp_model.fit(xtrain, ytrain)  File \"/home/emmanuel/projects/2019_ocean/src/models/gpflow_gpu.py\", line 130, in fit\n",
      "    self.model = gpflow.models.SVGP(X, Y, kern, lik, feat=feature, minibatch_size=mb_size)  File \"/home/emmanuel/projects/2019_ocean/src/models/gpflow_gpu.py\", line 123, in <listcomp>\n",
      "    kern_list = [gpflow.kernels.RBF(X.shape[1], lengthscales=float(X.shape[1])**0.5) for _ in range(p_outputs)]  File \"/home/emmanuel/.conda/envs/dl_py36/lib/python3.6/site-packages/gpflow/core/compilable.py\", line 91, in __init__\n",
      "    self.initialize(force=True)  File \"/home/emmanuel/.conda/envs/dl_py36/lib/python3.6/site-packages/gpflow/core/node.py\", line 156, in build\n",
      "    self._build()  File \"/home/emmanuel/.conda/envs/dl_py36/lib/python3.6/site-packages/gpflow/params/parameterized.py\", line 302, in _build\n",
      "    self._prior_tensor = self._build_prior(priors)  File \"/home/emmanuel/.conda/envs/dl_py36/lib/python3.6/site-packages/gpflow/core/node.py\", line 156, in build\n",
      "    self._build()  File \"/home/emmanuel/.conda/envs/dl_py36/lib/python3.6/site-packages/gpflow/params/parameter.py\", line 370, in _build\n",
      "    self._prior_tensor = prior  File \"/home/emmanuel/.conda/envs/dl_py36/lib/python3.6/site-packages/tensorflow/python/util/tf_should_use.py\", line 193, in wrapped\n",
      "    return _add_should_use_warning(fn(*args, **kwargs))\n",
      "==================================\n"
     ]
    },
    {
     "name": "stdout",
     "output_type": "stream",
     "text": [
      "ERROR:tensorflow:==================================\n",
      "Object was never used (type <class 'tensorflow.python.framework.ops.Tensor'>):\n",
      "<tf.Tensor 'SquaredExponential-7b60f6df-461/lengthscales/IsVariableInitialized:0' shape=() dtype=bool>\n",
      "If you want to mark it as used call its \"mark_used()\" method.\n",
      "It was originally created here:\n",
      "  File \"/home/emmanuel/.conda/envs/dl_py36/lib/python3.6/site-packages/IPython/core/interactiveshell.py\", line 3316, in run_code\n",
      "    return outflag  File \"<ipython-input-53-d2d7c739ed38>\", line 18, in <module>\n",
      "    gp_model.fit(xtrain, ytrain)  File \"/home/emmanuel/projects/2019_ocean/src/models/gpflow_gpu.py\", line 130, in fit\n",
      "    self.model = gpflow.models.SVGP(X, Y, kern, lik, feat=feature, minibatch_size=mb_size)  File \"/home/emmanuel/projects/2019_ocean/src/models/gpflow_gpu.py\", line 123, in <listcomp>\n",
      "    kern_list = [gpflow.kernels.RBF(X.shape[1], lengthscales=float(X.shape[1])**0.5) for _ in range(p_outputs)]  File \"/home/emmanuel/.conda/envs/dl_py36/lib/python3.6/site-packages/gpflow/core/compilable.py\", line 91, in __init__\n",
      "    self.initialize(force=True)  File \"/home/emmanuel/.conda/envs/dl_py36/lib/python3.6/site-packages/gpflow/core/node.py\", line 156, in build\n",
      "    self._build()  File \"/home/emmanuel/.conda/envs/dl_py36/lib/python3.6/site-packages/gpflow/params/parameterized.py\", line 302, in _build\n",
      "    self._prior_tensor = self._build_prior(priors)  File \"/home/emmanuel/.conda/envs/dl_py36/lib/python3.6/site-packages/gpflow/core/node.py\", line 156, in build\n",
      "    self._build()  File \"/home/emmanuel/.conda/envs/dl_py36/lib/python3.6/site-packages/gpflow/params/parameter.py\", line 370, in _build\n",
      "    self._prior_tensor = prior  File \"/home/emmanuel/.conda/envs/dl_py36/lib/python3.6/site-packages/tensorflow/python/util/tf_should_use.py\", line 193, in wrapped\n",
      "    return _add_should_use_warning(fn(*args, **kwargs))\n",
      "==================================\n"
     ]
    },
    {
     "name": "stderr",
     "output_type": "stream",
     "text": [
      "ERROR:tensorflow:==================================\n",
      "Object was never used (type <class 'tensorflow.python.framework.ops.Tensor'>):\n",
      "<tf.Tensor 'SquaredExponential-7b60f6df-461/lengthscales/IsVariableInitialized:0' shape=() dtype=bool>\n",
      "If you want to mark it as used call its \"mark_used()\" method.\n",
      "It was originally created here:\n",
      "  File \"/home/emmanuel/.conda/envs/dl_py36/lib/python3.6/site-packages/IPython/core/interactiveshell.py\", line 3316, in run_code\n",
      "    return outflag  File \"<ipython-input-53-d2d7c739ed38>\", line 18, in <module>\n",
      "    gp_model.fit(xtrain, ytrain)  File \"/home/emmanuel/projects/2019_ocean/src/models/gpflow_gpu.py\", line 130, in fit\n",
      "    self.model = gpflow.models.SVGP(X, Y, kern, lik, feat=feature, minibatch_size=mb_size)  File \"/home/emmanuel/projects/2019_ocean/src/models/gpflow_gpu.py\", line 123, in <listcomp>\n",
      "    kern_list = [gpflow.kernels.RBF(X.shape[1], lengthscales=float(X.shape[1])**0.5) for _ in range(p_outputs)]  File \"/home/emmanuel/.conda/envs/dl_py36/lib/python3.6/site-packages/gpflow/core/compilable.py\", line 91, in __init__\n",
      "    self.initialize(force=True)  File \"/home/emmanuel/.conda/envs/dl_py36/lib/python3.6/site-packages/gpflow/core/node.py\", line 156, in build\n",
      "    self._build()  File \"/home/emmanuel/.conda/envs/dl_py36/lib/python3.6/site-packages/gpflow/params/parameterized.py\", line 302, in _build\n",
      "    self._prior_tensor = self._build_prior(priors)  File \"/home/emmanuel/.conda/envs/dl_py36/lib/python3.6/site-packages/gpflow/core/node.py\", line 156, in build\n",
      "    self._build()  File \"/home/emmanuel/.conda/envs/dl_py36/lib/python3.6/site-packages/gpflow/params/parameter.py\", line 370, in _build\n",
      "    self._prior_tensor = prior  File \"/home/emmanuel/.conda/envs/dl_py36/lib/python3.6/site-packages/tensorflow/python/util/tf_should_use.py\", line 193, in wrapped\n",
      "    return _add_should_use_warning(fn(*args, **kwargs))\n",
      "==================================\n"
     ]
    },
    {
     "name": "stdout",
     "output_type": "stream",
     "text": [
      "ERROR:tensorflow:==================================\n",
      "Object was never used (type <class 'tensorflow.python.framework.ops.Tensor'>):\n",
      "<tf.Tensor 'SquaredExponential-73d8c657-458/variance/IsVariableInitialized:0' shape=() dtype=bool>\n",
      "If you want to mark it as used call its \"mark_used()\" method.\n",
      "It was originally created here:\n",
      "  File \"/home/emmanuel/.conda/envs/dl_py36/lib/python3.6/site-packages/IPython/core/interactiveshell.py\", line 3316, in run_code\n",
      "    return outflag  File \"<ipython-input-53-d2d7c739ed38>\", line 18, in <module>\n",
      "    gp_model.fit(xtrain, ytrain)  File \"/home/emmanuel/projects/2019_ocean/src/models/gpflow_gpu.py\", line 130, in fit\n",
      "    self.model = gpflow.models.SVGP(X, Y, kern, lik, feat=feature, minibatch_size=mb_size)  File \"/home/emmanuel/projects/2019_ocean/src/models/gpflow_gpu.py\", line 123, in <listcomp>\n",
      "    kern_list = [gpflow.kernels.RBF(X.shape[1], lengthscales=float(X.shape[1])**0.5) for _ in range(p_outputs)]  File \"/home/emmanuel/.conda/envs/dl_py36/lib/python3.6/site-packages/gpflow/core/compilable.py\", line 91, in __init__\n",
      "    self.initialize(force=True)  File \"/home/emmanuel/.conda/envs/dl_py36/lib/python3.6/site-packages/gpflow/core/node.py\", line 156, in build\n",
      "    self._build()  File \"/home/emmanuel/.conda/envs/dl_py36/lib/python3.6/site-packages/gpflow/params/parameterized.py\", line 302, in _build\n",
      "    self._prior_tensor = self._build_prior(priors)  File \"/home/emmanuel/.conda/envs/dl_py36/lib/python3.6/site-packages/gpflow/core/node.py\", line 156, in build\n",
      "    self._build()  File \"/home/emmanuel/.conda/envs/dl_py36/lib/python3.6/site-packages/gpflow/params/parameter.py\", line 370, in _build\n",
      "    self._prior_tensor = prior  File \"/home/emmanuel/.conda/envs/dl_py36/lib/python3.6/site-packages/tensorflow/python/util/tf_should_use.py\", line 193, in wrapped\n",
      "    return _add_should_use_warning(fn(*args, **kwargs))\n",
      "==================================\n"
     ]
    },
    {
     "name": "stderr",
     "output_type": "stream",
     "text": [
      "ERROR:tensorflow:==================================\n",
      "Object was never used (type <class 'tensorflow.python.framework.ops.Tensor'>):\n",
      "<tf.Tensor 'SquaredExponential-73d8c657-458/variance/IsVariableInitialized:0' shape=() dtype=bool>\n",
      "If you want to mark it as used call its \"mark_used()\" method.\n",
      "It was originally created here:\n",
      "  File \"/home/emmanuel/.conda/envs/dl_py36/lib/python3.6/site-packages/IPython/core/interactiveshell.py\", line 3316, in run_code\n",
      "    return outflag  File \"<ipython-input-53-d2d7c739ed38>\", line 18, in <module>\n",
      "    gp_model.fit(xtrain, ytrain)  File \"/home/emmanuel/projects/2019_ocean/src/models/gpflow_gpu.py\", line 130, in fit\n",
      "    self.model = gpflow.models.SVGP(X, Y, kern, lik, feat=feature, minibatch_size=mb_size)  File \"/home/emmanuel/projects/2019_ocean/src/models/gpflow_gpu.py\", line 123, in <listcomp>\n",
      "    kern_list = [gpflow.kernels.RBF(X.shape[1], lengthscales=float(X.shape[1])**0.5) for _ in range(p_outputs)]  File \"/home/emmanuel/.conda/envs/dl_py36/lib/python3.6/site-packages/gpflow/core/compilable.py\", line 91, in __init__\n",
      "    self.initialize(force=True)  File \"/home/emmanuel/.conda/envs/dl_py36/lib/python3.6/site-packages/gpflow/core/node.py\", line 156, in build\n",
      "    self._build()  File \"/home/emmanuel/.conda/envs/dl_py36/lib/python3.6/site-packages/gpflow/params/parameterized.py\", line 302, in _build\n",
      "    self._prior_tensor = self._build_prior(priors)  File \"/home/emmanuel/.conda/envs/dl_py36/lib/python3.6/site-packages/gpflow/core/node.py\", line 156, in build\n",
      "    self._build()  File \"/home/emmanuel/.conda/envs/dl_py36/lib/python3.6/site-packages/gpflow/params/parameter.py\", line 370, in _build\n",
      "    self._prior_tensor = prior  File \"/home/emmanuel/.conda/envs/dl_py36/lib/python3.6/site-packages/tensorflow/python/util/tf_should_use.py\", line 193, in wrapped\n",
      "    return _add_should_use_warning(fn(*args, **kwargs))\n",
      "==================================\n"
     ]
    },
    {
     "name": "stdout",
     "output_type": "stream",
     "text": [
      "ERROR:tensorflow:==================================\n",
      "Object was never used (type <class 'tensorflow.python.framework.ops.Tensor'>):\n",
      "<tf.Tensor 'SquaredExponential-73d8c657-458/lengthscales/IsVariableInitialized:0' shape=() dtype=bool>\n",
      "If you want to mark it as used call its \"mark_used()\" method.\n",
      "It was originally created here:\n",
      "  File \"/home/emmanuel/.conda/envs/dl_py36/lib/python3.6/site-packages/IPython/core/interactiveshell.py\", line 3316, in run_code\n",
      "    return outflag  File \"<ipython-input-53-d2d7c739ed38>\", line 18, in <module>\n",
      "    gp_model.fit(xtrain, ytrain)  File \"/home/emmanuel/projects/2019_ocean/src/models/gpflow_gpu.py\", line 130, in fit\n",
      "    self.model = gpflow.models.SVGP(X, Y, kern, lik, feat=feature, minibatch_size=mb_size)  File \"/home/emmanuel/projects/2019_ocean/src/models/gpflow_gpu.py\", line 123, in <listcomp>\n",
      "    kern_list = [gpflow.kernels.RBF(X.shape[1], lengthscales=float(X.shape[1])**0.5) for _ in range(p_outputs)]  File \"/home/emmanuel/.conda/envs/dl_py36/lib/python3.6/site-packages/gpflow/core/compilable.py\", line 91, in __init__\n",
      "    self.initialize(force=True)  File \"/home/emmanuel/.conda/envs/dl_py36/lib/python3.6/site-packages/gpflow/core/node.py\", line 156, in build\n",
      "    self._build()  File \"/home/emmanuel/.conda/envs/dl_py36/lib/python3.6/site-packages/gpflow/params/parameterized.py\", line 302, in _build\n",
      "    self._prior_tensor = self._build_prior(priors)  File \"/home/emmanuel/.conda/envs/dl_py36/lib/python3.6/site-packages/gpflow/core/node.py\", line 156, in build\n",
      "    self._build()  File \"/home/emmanuel/.conda/envs/dl_py36/lib/python3.6/site-packages/gpflow/params/parameter.py\", line 370, in _build\n",
      "    self._prior_tensor = prior  File \"/home/emmanuel/.conda/envs/dl_py36/lib/python3.6/site-packages/tensorflow/python/util/tf_should_use.py\", line 193, in wrapped\n",
      "    return _add_should_use_warning(fn(*args, **kwargs))\n",
      "==================================\n"
     ]
    },
    {
     "name": "stderr",
     "output_type": "stream",
     "text": [
      "ERROR:tensorflow:==================================\n",
      "Object was never used (type <class 'tensorflow.python.framework.ops.Tensor'>):\n",
      "<tf.Tensor 'SquaredExponential-73d8c657-458/lengthscales/IsVariableInitialized:0' shape=() dtype=bool>\n",
      "If you want to mark it as used call its \"mark_used()\" method.\n",
      "It was originally created here:\n",
      "  File \"/home/emmanuel/.conda/envs/dl_py36/lib/python3.6/site-packages/IPython/core/interactiveshell.py\", line 3316, in run_code\n",
      "    return outflag  File \"<ipython-input-53-d2d7c739ed38>\", line 18, in <module>\n",
      "    gp_model.fit(xtrain, ytrain)  File \"/home/emmanuel/projects/2019_ocean/src/models/gpflow_gpu.py\", line 130, in fit\n",
      "    self.model = gpflow.models.SVGP(X, Y, kern, lik, feat=feature, minibatch_size=mb_size)  File \"/home/emmanuel/projects/2019_ocean/src/models/gpflow_gpu.py\", line 123, in <listcomp>\n",
      "    kern_list = [gpflow.kernels.RBF(X.shape[1], lengthscales=float(X.shape[1])**0.5) for _ in range(p_outputs)]  File \"/home/emmanuel/.conda/envs/dl_py36/lib/python3.6/site-packages/gpflow/core/compilable.py\", line 91, in __init__\n",
      "    self.initialize(force=True)  File \"/home/emmanuel/.conda/envs/dl_py36/lib/python3.6/site-packages/gpflow/core/node.py\", line 156, in build\n",
      "    self._build()  File \"/home/emmanuel/.conda/envs/dl_py36/lib/python3.6/site-packages/gpflow/params/parameterized.py\", line 302, in _build\n",
      "    self._prior_tensor = self._build_prior(priors)  File \"/home/emmanuel/.conda/envs/dl_py36/lib/python3.6/site-packages/gpflow/core/node.py\", line 156, in build\n",
      "    self._build()  File \"/home/emmanuel/.conda/envs/dl_py36/lib/python3.6/site-packages/gpflow/params/parameter.py\", line 370, in _build\n",
      "    self._prior_tensor = prior  File \"/home/emmanuel/.conda/envs/dl_py36/lib/python3.6/site-packages/tensorflow/python/util/tf_should_use.py\", line 193, in wrapped\n",
      "    return _add_should_use_warning(fn(*args, **kwargs))\n",
      "==================================\n"
     ]
    },
    {
     "name": "stdout",
     "output_type": "stream",
     "text": [
      "ERROR:tensorflow:==================================\n",
      "Object was never used (type <class 'tensorflow.python.framework.ops.Tensor'>):\n",
      "<tf.Tensor 'SquaredExponential-d8cf11fb-455/variance/IsVariableInitialized:0' shape=() dtype=bool>\n",
      "If you want to mark it as used call its \"mark_used()\" method.\n",
      "It was originally created here:\n",
      "  File \"/home/emmanuel/.conda/envs/dl_py36/lib/python3.6/site-packages/IPython/core/interactiveshell.py\", line 3316, in run_code\n",
      "    return outflag  File \"<ipython-input-53-d2d7c739ed38>\", line 18, in <module>\n",
      "    gp_model.fit(xtrain, ytrain)  File \"/home/emmanuel/projects/2019_ocean/src/models/gpflow_gpu.py\", line 130, in fit\n",
      "    self.model = gpflow.models.SVGP(X, Y, kern, lik, feat=feature, minibatch_size=mb_size)  File \"/home/emmanuel/projects/2019_ocean/src/models/gpflow_gpu.py\", line 123, in <listcomp>\n",
      "    kern_list = [gpflow.kernels.RBF(X.shape[1], lengthscales=float(X.shape[1])**0.5) for _ in range(p_outputs)]  File \"/home/emmanuel/.conda/envs/dl_py36/lib/python3.6/site-packages/gpflow/core/compilable.py\", line 91, in __init__\n",
      "    self.initialize(force=True)  File \"/home/emmanuel/.conda/envs/dl_py36/lib/python3.6/site-packages/gpflow/core/node.py\", line 156, in build\n",
      "    self._build()  File \"/home/emmanuel/.conda/envs/dl_py36/lib/python3.6/site-packages/gpflow/params/parameterized.py\", line 302, in _build\n",
      "    self._prior_tensor = self._build_prior(priors)  File \"/home/emmanuel/.conda/envs/dl_py36/lib/python3.6/site-packages/gpflow/core/node.py\", line 156, in build\n",
      "    self._build()  File \"/home/emmanuel/.conda/envs/dl_py36/lib/python3.6/site-packages/gpflow/params/parameter.py\", line 370, in _build\n",
      "    self._prior_tensor = prior  File \"/home/emmanuel/.conda/envs/dl_py36/lib/python3.6/site-packages/tensorflow/python/util/tf_should_use.py\", line 193, in wrapped\n",
      "    return _add_should_use_warning(fn(*args, **kwargs))\n",
      "==================================\n"
     ]
    },
    {
     "name": "stderr",
     "output_type": "stream",
     "text": [
      "ERROR:tensorflow:==================================\n",
      "Object was never used (type <class 'tensorflow.python.framework.ops.Tensor'>):\n",
      "<tf.Tensor 'SquaredExponential-d8cf11fb-455/variance/IsVariableInitialized:0' shape=() dtype=bool>\n",
      "If you want to mark it as used call its \"mark_used()\" method.\n",
      "It was originally created here:\n",
      "  File \"/home/emmanuel/.conda/envs/dl_py36/lib/python3.6/site-packages/IPython/core/interactiveshell.py\", line 3316, in run_code\n",
      "    return outflag  File \"<ipython-input-53-d2d7c739ed38>\", line 18, in <module>\n",
      "    gp_model.fit(xtrain, ytrain)  File \"/home/emmanuel/projects/2019_ocean/src/models/gpflow_gpu.py\", line 130, in fit\n",
      "    self.model = gpflow.models.SVGP(X, Y, kern, lik, feat=feature, minibatch_size=mb_size)  File \"/home/emmanuel/projects/2019_ocean/src/models/gpflow_gpu.py\", line 123, in <listcomp>\n",
      "    kern_list = [gpflow.kernels.RBF(X.shape[1], lengthscales=float(X.shape[1])**0.5) for _ in range(p_outputs)]  File \"/home/emmanuel/.conda/envs/dl_py36/lib/python3.6/site-packages/gpflow/core/compilable.py\", line 91, in __init__\n",
      "    self.initialize(force=True)  File \"/home/emmanuel/.conda/envs/dl_py36/lib/python3.6/site-packages/gpflow/core/node.py\", line 156, in build\n",
      "    self._build()  File \"/home/emmanuel/.conda/envs/dl_py36/lib/python3.6/site-packages/gpflow/params/parameterized.py\", line 302, in _build\n",
      "    self._prior_tensor = self._build_prior(priors)  File \"/home/emmanuel/.conda/envs/dl_py36/lib/python3.6/site-packages/gpflow/core/node.py\", line 156, in build\n",
      "    self._build()  File \"/home/emmanuel/.conda/envs/dl_py36/lib/python3.6/site-packages/gpflow/params/parameter.py\", line 370, in _build\n",
      "    self._prior_tensor = prior  File \"/home/emmanuel/.conda/envs/dl_py36/lib/python3.6/site-packages/tensorflow/python/util/tf_should_use.py\", line 193, in wrapped\n",
      "    return _add_should_use_warning(fn(*args, **kwargs))\n",
      "==================================\n"
     ]
    },
    {
     "name": "stdout",
     "output_type": "stream",
     "text": [
      "ERROR:tensorflow:==================================\n",
      "Object was never used (type <class 'tensorflow.python.framework.ops.Tensor'>):\n",
      "<tf.Tensor 'SquaredExponential-d8cf11fb-455/lengthscales/IsVariableInitialized:0' shape=() dtype=bool>\n",
      "If you want to mark it as used call its \"mark_used()\" method.\n",
      "It was originally created here:\n",
      "  File \"/home/emmanuel/.conda/envs/dl_py36/lib/python3.6/site-packages/IPython/core/interactiveshell.py\", line 3316, in run_code\n",
      "    return outflag  File \"<ipython-input-53-d2d7c739ed38>\", line 18, in <module>\n",
      "    gp_model.fit(xtrain, ytrain)  File \"/home/emmanuel/projects/2019_ocean/src/models/gpflow_gpu.py\", line 130, in fit\n",
      "    self.model = gpflow.models.SVGP(X, Y, kern, lik, feat=feature, minibatch_size=mb_size)  File \"/home/emmanuel/projects/2019_ocean/src/models/gpflow_gpu.py\", line 123, in <listcomp>\n",
      "    kern_list = [gpflow.kernels.RBF(X.shape[1], lengthscales=float(X.shape[1])**0.5) for _ in range(p_outputs)]  File \"/home/emmanuel/.conda/envs/dl_py36/lib/python3.6/site-packages/gpflow/core/compilable.py\", line 91, in __init__\n",
      "    self.initialize(force=True)  File \"/home/emmanuel/.conda/envs/dl_py36/lib/python3.6/site-packages/gpflow/core/node.py\", line 156, in build\n",
      "    self._build()  File \"/home/emmanuel/.conda/envs/dl_py36/lib/python3.6/site-packages/gpflow/params/parameterized.py\", line 302, in _build\n",
      "    self._prior_tensor = self._build_prior(priors)  File \"/home/emmanuel/.conda/envs/dl_py36/lib/python3.6/site-packages/gpflow/core/node.py\", line 156, in build\n",
      "    self._build()  File \"/home/emmanuel/.conda/envs/dl_py36/lib/python3.6/site-packages/gpflow/params/parameter.py\", line 370, in _build\n",
      "    self._prior_tensor = prior  File \"/home/emmanuel/.conda/envs/dl_py36/lib/python3.6/site-packages/tensorflow/python/util/tf_should_use.py\", line 193, in wrapped\n",
      "    return _add_should_use_warning(fn(*args, **kwargs))\n",
      "==================================\n"
     ]
    },
    {
     "name": "stderr",
     "output_type": "stream",
     "text": [
      "ERROR:tensorflow:==================================\n",
      "Object was never used (type <class 'tensorflow.python.framework.ops.Tensor'>):\n",
      "<tf.Tensor 'SquaredExponential-d8cf11fb-455/lengthscales/IsVariableInitialized:0' shape=() dtype=bool>\n",
      "If you want to mark it as used call its \"mark_used()\" method.\n",
      "It was originally created here:\n",
      "  File \"/home/emmanuel/.conda/envs/dl_py36/lib/python3.6/site-packages/IPython/core/interactiveshell.py\", line 3316, in run_code\n",
      "    return outflag  File \"<ipython-input-53-d2d7c739ed38>\", line 18, in <module>\n",
      "    gp_model.fit(xtrain, ytrain)  File \"/home/emmanuel/projects/2019_ocean/src/models/gpflow_gpu.py\", line 130, in fit\n",
      "    self.model = gpflow.models.SVGP(X, Y, kern, lik, feat=feature, minibatch_size=mb_size)  File \"/home/emmanuel/projects/2019_ocean/src/models/gpflow_gpu.py\", line 123, in <listcomp>\n",
      "    kern_list = [gpflow.kernels.RBF(X.shape[1], lengthscales=float(X.shape[1])**0.5) for _ in range(p_outputs)]  File \"/home/emmanuel/.conda/envs/dl_py36/lib/python3.6/site-packages/gpflow/core/compilable.py\", line 91, in __init__\n",
      "    self.initialize(force=True)  File \"/home/emmanuel/.conda/envs/dl_py36/lib/python3.6/site-packages/gpflow/core/node.py\", line 156, in build\n",
      "    self._build()  File \"/home/emmanuel/.conda/envs/dl_py36/lib/python3.6/site-packages/gpflow/params/parameterized.py\", line 302, in _build\n",
      "    self._prior_tensor = self._build_prior(priors)  File \"/home/emmanuel/.conda/envs/dl_py36/lib/python3.6/site-packages/gpflow/core/node.py\", line 156, in build\n",
      "    self._build()  File \"/home/emmanuel/.conda/envs/dl_py36/lib/python3.6/site-packages/gpflow/params/parameter.py\", line 370, in _build\n",
      "    self._prior_tensor = prior  File \"/home/emmanuel/.conda/envs/dl_py36/lib/python3.6/site-packages/tensorflow/python/util/tf_should_use.py\", line 193, in wrapped\n",
      "    return _add_should_use_warning(fn(*args, **kwargs))\n",
      "==================================\n"
     ]
    },
    {
     "name": "stdout",
     "output_type": "stream",
     "text": [
      "ERROR:tensorflow:==================================\n",
      "Object was never used (type <class 'tensorflow.python.framework.ops.Tensor'>):\n",
      "<tf.Tensor 'SquaredExponential-1d25334b-452/variance/IsVariableInitialized:0' shape=() dtype=bool>\n",
      "If you want to mark it as used call its \"mark_used()\" method.\n",
      "It was originally created here:\n",
      "  File \"/home/emmanuel/.conda/envs/dl_py36/lib/python3.6/site-packages/IPython/core/interactiveshell.py\", line 3316, in run_code\n",
      "    return outflag  File \"<ipython-input-53-d2d7c739ed38>\", line 18, in <module>\n",
      "    gp_model.fit(xtrain, ytrain)  File \"/home/emmanuel/projects/2019_ocean/src/models/gpflow_gpu.py\", line 130, in fit\n",
      "    self.model = gpflow.models.SVGP(X, Y, kern, lik, feat=feature, minibatch_size=mb_size)  File \"/home/emmanuel/projects/2019_ocean/src/models/gpflow_gpu.py\", line 123, in <listcomp>\n",
      "    kern_list = [gpflow.kernels.RBF(X.shape[1], lengthscales=float(X.shape[1])**0.5) for _ in range(p_outputs)]  File \"/home/emmanuel/.conda/envs/dl_py36/lib/python3.6/site-packages/gpflow/core/compilable.py\", line 91, in __init__\n",
      "    self.initialize(force=True)  File \"/home/emmanuel/.conda/envs/dl_py36/lib/python3.6/site-packages/gpflow/core/node.py\", line 156, in build\n",
      "    self._build()  File \"/home/emmanuel/.conda/envs/dl_py36/lib/python3.6/site-packages/gpflow/params/parameterized.py\", line 302, in _build\n",
      "    self._prior_tensor = self._build_prior(priors)  File \"/home/emmanuel/.conda/envs/dl_py36/lib/python3.6/site-packages/gpflow/core/node.py\", line 156, in build\n",
      "    self._build()  File \"/home/emmanuel/.conda/envs/dl_py36/lib/python3.6/site-packages/gpflow/params/parameter.py\", line 370, in _build\n",
      "    self._prior_tensor = prior  File \"/home/emmanuel/.conda/envs/dl_py36/lib/python3.6/site-packages/tensorflow/python/util/tf_should_use.py\", line 193, in wrapped\n",
      "    return _add_should_use_warning(fn(*args, **kwargs))\n",
      "==================================\n"
     ]
    },
    {
     "name": "stderr",
     "output_type": "stream",
     "text": [
      "ERROR:tensorflow:==================================\n",
      "Object was never used (type <class 'tensorflow.python.framework.ops.Tensor'>):\n",
      "<tf.Tensor 'SquaredExponential-1d25334b-452/variance/IsVariableInitialized:0' shape=() dtype=bool>\n",
      "If you want to mark it as used call its \"mark_used()\" method.\n",
      "It was originally created here:\n",
      "  File \"/home/emmanuel/.conda/envs/dl_py36/lib/python3.6/site-packages/IPython/core/interactiveshell.py\", line 3316, in run_code\n",
      "    return outflag  File \"<ipython-input-53-d2d7c739ed38>\", line 18, in <module>\n",
      "    gp_model.fit(xtrain, ytrain)  File \"/home/emmanuel/projects/2019_ocean/src/models/gpflow_gpu.py\", line 130, in fit\n",
      "    self.model = gpflow.models.SVGP(X, Y, kern, lik, feat=feature, minibatch_size=mb_size)  File \"/home/emmanuel/projects/2019_ocean/src/models/gpflow_gpu.py\", line 123, in <listcomp>\n",
      "    kern_list = [gpflow.kernels.RBF(X.shape[1], lengthscales=float(X.shape[1])**0.5) for _ in range(p_outputs)]  File \"/home/emmanuel/.conda/envs/dl_py36/lib/python3.6/site-packages/gpflow/core/compilable.py\", line 91, in __init__\n",
      "    self.initialize(force=True)  File \"/home/emmanuel/.conda/envs/dl_py36/lib/python3.6/site-packages/gpflow/core/node.py\", line 156, in build\n",
      "    self._build()  File \"/home/emmanuel/.conda/envs/dl_py36/lib/python3.6/site-packages/gpflow/params/parameterized.py\", line 302, in _build\n",
      "    self._prior_tensor = self._build_prior(priors)  File \"/home/emmanuel/.conda/envs/dl_py36/lib/python3.6/site-packages/gpflow/core/node.py\", line 156, in build\n",
      "    self._build()  File \"/home/emmanuel/.conda/envs/dl_py36/lib/python3.6/site-packages/gpflow/params/parameter.py\", line 370, in _build\n",
      "    self._prior_tensor = prior  File \"/home/emmanuel/.conda/envs/dl_py36/lib/python3.6/site-packages/tensorflow/python/util/tf_should_use.py\", line 193, in wrapped\n",
      "    return _add_should_use_warning(fn(*args, **kwargs))\n",
      "==================================\n"
     ]
    },
    {
     "name": "stdout",
     "output_type": "stream",
     "text": [
      "ERROR:tensorflow:==================================\n",
      "Object was never used (type <class 'tensorflow.python.framework.ops.Tensor'>):\n",
      "<tf.Tensor 'SquaredExponential-1d25334b-452/lengthscales/IsVariableInitialized:0' shape=() dtype=bool>\n",
      "If you want to mark it as used call its \"mark_used()\" method.\n",
      "It was originally created here:\n",
      "  File \"/home/emmanuel/.conda/envs/dl_py36/lib/python3.6/site-packages/IPython/core/interactiveshell.py\", line 3316, in run_code\n",
      "    return outflag  File \"<ipython-input-53-d2d7c739ed38>\", line 18, in <module>\n",
      "    gp_model.fit(xtrain, ytrain)  File \"/home/emmanuel/projects/2019_ocean/src/models/gpflow_gpu.py\", line 130, in fit\n",
      "    self.model = gpflow.models.SVGP(X, Y, kern, lik, feat=feature, minibatch_size=mb_size)  File \"/home/emmanuel/projects/2019_ocean/src/models/gpflow_gpu.py\", line 123, in <listcomp>\n",
      "    kern_list = [gpflow.kernels.RBF(X.shape[1], lengthscales=float(X.shape[1])**0.5) for _ in range(p_outputs)]  File \"/home/emmanuel/.conda/envs/dl_py36/lib/python3.6/site-packages/gpflow/core/compilable.py\", line 91, in __init__\n",
      "    self.initialize(force=True)  File \"/home/emmanuel/.conda/envs/dl_py36/lib/python3.6/site-packages/gpflow/core/node.py\", line 156, in build\n",
      "    self._build()  File \"/home/emmanuel/.conda/envs/dl_py36/lib/python3.6/site-packages/gpflow/params/parameterized.py\", line 302, in _build\n",
      "    self._prior_tensor = self._build_prior(priors)  File \"/home/emmanuel/.conda/envs/dl_py36/lib/python3.6/site-packages/gpflow/core/node.py\", line 156, in build\n",
      "    self._build()  File \"/home/emmanuel/.conda/envs/dl_py36/lib/python3.6/site-packages/gpflow/params/parameter.py\", line 370, in _build\n",
      "    self._prior_tensor = prior  File \"/home/emmanuel/.conda/envs/dl_py36/lib/python3.6/site-packages/tensorflow/python/util/tf_should_use.py\", line 193, in wrapped\n",
      "    return _add_should_use_warning(fn(*args, **kwargs))\n",
      "==================================\n"
     ]
    },
    {
     "name": "stderr",
     "output_type": "stream",
     "text": [
      "ERROR:tensorflow:==================================\n",
      "Object was never used (type <class 'tensorflow.python.framework.ops.Tensor'>):\n",
      "<tf.Tensor 'SquaredExponential-1d25334b-452/lengthscales/IsVariableInitialized:0' shape=() dtype=bool>\n",
      "If you want to mark it as used call its \"mark_used()\" method.\n",
      "It was originally created here:\n",
      "  File \"/home/emmanuel/.conda/envs/dl_py36/lib/python3.6/site-packages/IPython/core/interactiveshell.py\", line 3316, in run_code\n",
      "    return outflag  File \"<ipython-input-53-d2d7c739ed38>\", line 18, in <module>\n",
      "    gp_model.fit(xtrain, ytrain)  File \"/home/emmanuel/projects/2019_ocean/src/models/gpflow_gpu.py\", line 130, in fit\n",
      "    self.model = gpflow.models.SVGP(X, Y, kern, lik, feat=feature, minibatch_size=mb_size)  File \"/home/emmanuel/projects/2019_ocean/src/models/gpflow_gpu.py\", line 123, in <listcomp>\n",
      "    kern_list = [gpflow.kernels.RBF(X.shape[1], lengthscales=float(X.shape[1])**0.5) for _ in range(p_outputs)]  File \"/home/emmanuel/.conda/envs/dl_py36/lib/python3.6/site-packages/gpflow/core/compilable.py\", line 91, in __init__\n",
      "    self.initialize(force=True)  File \"/home/emmanuel/.conda/envs/dl_py36/lib/python3.6/site-packages/gpflow/core/node.py\", line 156, in build\n",
      "    self._build()  File \"/home/emmanuel/.conda/envs/dl_py36/lib/python3.6/site-packages/gpflow/params/parameterized.py\", line 302, in _build\n",
      "    self._prior_tensor = self._build_prior(priors)  File \"/home/emmanuel/.conda/envs/dl_py36/lib/python3.6/site-packages/gpflow/core/node.py\", line 156, in build\n",
      "    self._build()  File \"/home/emmanuel/.conda/envs/dl_py36/lib/python3.6/site-packages/gpflow/params/parameter.py\", line 370, in _build\n",
      "    self._prior_tensor = prior  File \"/home/emmanuel/.conda/envs/dl_py36/lib/python3.6/site-packages/tensorflow/python/util/tf_should_use.py\", line 193, in wrapped\n",
      "    return _add_should_use_warning(fn(*args, **kwargs))\n",
      "==================================\n"
     ]
    },
    {
     "name": "stdout",
     "output_type": "stream",
     "text": [
      "ERROR:tensorflow:==================================\n",
      "Object was never used (type <class 'tensorflow.python.framework.ops.Tensor'>):\n",
      "<tf.Tensor 'SquaredExponential-cc63fa57-449/variance/IsVariableInitialized:0' shape=() dtype=bool>\n",
      "If you want to mark it as used call its \"mark_used()\" method.\n",
      "It was originally created here:\n",
      "  File \"/home/emmanuel/.conda/envs/dl_py36/lib/python3.6/site-packages/IPython/core/interactiveshell.py\", line 3316, in run_code\n",
      "    return outflag  File \"<ipython-input-53-d2d7c739ed38>\", line 18, in <module>\n",
      "    gp_model.fit(xtrain, ytrain)  File \"/home/emmanuel/projects/2019_ocean/src/models/gpflow_gpu.py\", line 130, in fit\n",
      "    self.model = gpflow.models.SVGP(X, Y, kern, lik, feat=feature, minibatch_size=mb_size)  File \"/home/emmanuel/projects/2019_ocean/src/models/gpflow_gpu.py\", line 123, in <listcomp>\n",
      "    kern_list = [gpflow.kernels.RBF(X.shape[1], lengthscales=float(X.shape[1])**0.5) for _ in range(p_outputs)]  File \"/home/emmanuel/.conda/envs/dl_py36/lib/python3.6/site-packages/gpflow/core/compilable.py\", line 91, in __init__\n",
      "    self.initialize(force=True)  File \"/home/emmanuel/.conda/envs/dl_py36/lib/python3.6/site-packages/gpflow/core/node.py\", line 156, in build\n",
      "    self._build()  File \"/home/emmanuel/.conda/envs/dl_py36/lib/python3.6/site-packages/gpflow/params/parameterized.py\", line 302, in _build\n",
      "    self._prior_tensor = self._build_prior(priors)  File \"/home/emmanuel/.conda/envs/dl_py36/lib/python3.6/site-packages/gpflow/core/node.py\", line 156, in build\n",
      "    self._build()  File \"/home/emmanuel/.conda/envs/dl_py36/lib/python3.6/site-packages/gpflow/params/parameter.py\", line 370, in _build\n",
      "    self._prior_tensor = prior  File \"/home/emmanuel/.conda/envs/dl_py36/lib/python3.6/site-packages/tensorflow/python/util/tf_should_use.py\", line 193, in wrapped\n",
      "    return _add_should_use_warning(fn(*args, **kwargs))\n",
      "==================================\n"
     ]
    },
    {
     "name": "stderr",
     "output_type": "stream",
     "text": [
      "ERROR:tensorflow:==================================\n",
      "Object was never used (type <class 'tensorflow.python.framework.ops.Tensor'>):\n",
      "<tf.Tensor 'SquaredExponential-cc63fa57-449/variance/IsVariableInitialized:0' shape=() dtype=bool>\n",
      "If you want to mark it as used call its \"mark_used()\" method.\n",
      "It was originally created here:\n",
      "  File \"/home/emmanuel/.conda/envs/dl_py36/lib/python3.6/site-packages/IPython/core/interactiveshell.py\", line 3316, in run_code\n",
      "    return outflag  File \"<ipython-input-53-d2d7c739ed38>\", line 18, in <module>\n",
      "    gp_model.fit(xtrain, ytrain)  File \"/home/emmanuel/projects/2019_ocean/src/models/gpflow_gpu.py\", line 130, in fit\n",
      "    self.model = gpflow.models.SVGP(X, Y, kern, lik, feat=feature, minibatch_size=mb_size)  File \"/home/emmanuel/projects/2019_ocean/src/models/gpflow_gpu.py\", line 123, in <listcomp>\n",
      "    kern_list = [gpflow.kernels.RBF(X.shape[1], lengthscales=float(X.shape[1])**0.5) for _ in range(p_outputs)]  File \"/home/emmanuel/.conda/envs/dl_py36/lib/python3.6/site-packages/gpflow/core/compilable.py\", line 91, in __init__\n",
      "    self.initialize(force=True)  File \"/home/emmanuel/.conda/envs/dl_py36/lib/python3.6/site-packages/gpflow/core/node.py\", line 156, in build\n",
      "    self._build()  File \"/home/emmanuel/.conda/envs/dl_py36/lib/python3.6/site-packages/gpflow/params/parameterized.py\", line 302, in _build\n",
      "    self._prior_tensor = self._build_prior(priors)  File \"/home/emmanuel/.conda/envs/dl_py36/lib/python3.6/site-packages/gpflow/core/node.py\", line 156, in build\n",
      "    self._build()  File \"/home/emmanuel/.conda/envs/dl_py36/lib/python3.6/site-packages/gpflow/params/parameter.py\", line 370, in _build\n",
      "    self._prior_tensor = prior  File \"/home/emmanuel/.conda/envs/dl_py36/lib/python3.6/site-packages/tensorflow/python/util/tf_should_use.py\", line 193, in wrapped\n",
      "    return _add_should_use_warning(fn(*args, **kwargs))\n",
      "==================================\n"
     ]
    },
    {
     "name": "stdout",
     "output_type": "stream",
     "text": [
      "ERROR:tensorflow:==================================\n",
      "Object was never used (type <class 'tensorflow.python.framework.ops.Tensor'>):\n",
      "<tf.Tensor 'SquaredExponential-cc63fa57-449/lengthscales/IsVariableInitialized:0' shape=() dtype=bool>\n",
      "If you want to mark it as used call its \"mark_used()\" method.\n",
      "It was originally created here:\n",
      "  File \"/home/emmanuel/.conda/envs/dl_py36/lib/python3.6/site-packages/IPython/core/interactiveshell.py\", line 3316, in run_code\n",
      "    return outflag  File \"<ipython-input-53-d2d7c739ed38>\", line 18, in <module>\n",
      "    gp_model.fit(xtrain, ytrain)  File \"/home/emmanuel/projects/2019_ocean/src/models/gpflow_gpu.py\", line 130, in fit\n",
      "    self.model = gpflow.models.SVGP(X, Y, kern, lik, feat=feature, minibatch_size=mb_size)  File \"/home/emmanuel/projects/2019_ocean/src/models/gpflow_gpu.py\", line 123, in <listcomp>\n",
      "    kern_list = [gpflow.kernels.RBF(X.shape[1], lengthscales=float(X.shape[1])**0.5) for _ in range(p_outputs)]  File \"/home/emmanuel/.conda/envs/dl_py36/lib/python3.6/site-packages/gpflow/core/compilable.py\", line 91, in __init__\n",
      "    self.initialize(force=True)  File \"/home/emmanuel/.conda/envs/dl_py36/lib/python3.6/site-packages/gpflow/core/node.py\", line 156, in build\n",
      "    self._build()  File \"/home/emmanuel/.conda/envs/dl_py36/lib/python3.6/site-packages/gpflow/params/parameterized.py\", line 302, in _build\n",
      "    self._prior_tensor = self._build_prior(priors)  File \"/home/emmanuel/.conda/envs/dl_py36/lib/python3.6/site-packages/gpflow/core/node.py\", line 156, in build\n",
      "    self._build()  File \"/home/emmanuel/.conda/envs/dl_py36/lib/python3.6/site-packages/gpflow/params/parameter.py\", line 370, in _build\n",
      "    self._prior_tensor = prior  File \"/home/emmanuel/.conda/envs/dl_py36/lib/python3.6/site-packages/tensorflow/python/util/tf_should_use.py\", line 193, in wrapped\n",
      "    return _add_should_use_warning(fn(*args, **kwargs))\n",
      "==================================\n"
     ]
    },
    {
     "name": "stderr",
     "output_type": "stream",
     "text": [
      "ERROR:tensorflow:==================================\n",
      "Object was never used (type <class 'tensorflow.python.framework.ops.Tensor'>):\n",
      "<tf.Tensor 'SquaredExponential-cc63fa57-449/lengthscales/IsVariableInitialized:0' shape=() dtype=bool>\n",
      "If you want to mark it as used call its \"mark_used()\" method.\n",
      "It was originally created here:\n",
      "  File \"/home/emmanuel/.conda/envs/dl_py36/lib/python3.6/site-packages/IPython/core/interactiveshell.py\", line 3316, in run_code\n",
      "    return outflag  File \"<ipython-input-53-d2d7c739ed38>\", line 18, in <module>\n",
      "    gp_model.fit(xtrain, ytrain)  File \"/home/emmanuel/projects/2019_ocean/src/models/gpflow_gpu.py\", line 130, in fit\n",
      "    self.model = gpflow.models.SVGP(X, Y, kern, lik, feat=feature, minibatch_size=mb_size)  File \"/home/emmanuel/projects/2019_ocean/src/models/gpflow_gpu.py\", line 123, in <listcomp>\n",
      "    kern_list = [gpflow.kernels.RBF(X.shape[1], lengthscales=float(X.shape[1])**0.5) for _ in range(p_outputs)]  File \"/home/emmanuel/.conda/envs/dl_py36/lib/python3.6/site-packages/gpflow/core/compilable.py\", line 91, in __init__\n",
      "    self.initialize(force=True)  File \"/home/emmanuel/.conda/envs/dl_py36/lib/python3.6/site-packages/gpflow/core/node.py\", line 156, in build\n",
      "    self._build()  File \"/home/emmanuel/.conda/envs/dl_py36/lib/python3.6/site-packages/gpflow/params/parameterized.py\", line 302, in _build\n",
      "    self._prior_tensor = self._build_prior(priors)  File \"/home/emmanuel/.conda/envs/dl_py36/lib/python3.6/site-packages/gpflow/core/node.py\", line 156, in build\n",
      "    self._build()  File \"/home/emmanuel/.conda/envs/dl_py36/lib/python3.6/site-packages/gpflow/params/parameter.py\", line 370, in _build\n",
      "    self._prior_tensor = prior  File \"/home/emmanuel/.conda/envs/dl_py36/lib/python3.6/site-packages/tensorflow/python/util/tf_should_use.py\", line 193, in wrapped\n",
      "    return _add_should_use_warning(fn(*args, **kwargs))\n",
      "==================================\n"
     ]
    },
    {
     "name": "stdout",
     "output_type": "stream",
     "text": [
      "ERROR:tensorflow:==================================\n",
      "Object was never used (type <class 'tensorflow.python.framework.ops.Tensor'>):\n",
      "<tf.Tensor 'SquaredExponential-073e19f5-446/variance/IsVariableInitialized:0' shape=() dtype=bool>\n",
      "If you want to mark it as used call its \"mark_used()\" method.\n",
      "It was originally created here:\n",
      "  File \"/home/emmanuel/.conda/envs/dl_py36/lib/python3.6/site-packages/IPython/core/interactiveshell.py\", line 3316, in run_code\n",
      "    return outflag  File \"<ipython-input-53-d2d7c739ed38>\", line 18, in <module>\n",
      "    gp_model.fit(xtrain, ytrain)  File \"/home/emmanuel/projects/2019_ocean/src/models/gpflow_gpu.py\", line 130, in fit\n",
      "    self.model = gpflow.models.SVGP(X, Y, kern, lik, feat=feature, minibatch_size=mb_size)  File \"/home/emmanuel/projects/2019_ocean/src/models/gpflow_gpu.py\", line 123, in <listcomp>\n",
      "    kern_list = [gpflow.kernels.RBF(X.shape[1], lengthscales=float(X.shape[1])**0.5) for _ in range(p_outputs)]  File \"/home/emmanuel/.conda/envs/dl_py36/lib/python3.6/site-packages/gpflow/core/compilable.py\", line 91, in __init__\n",
      "    self.initialize(force=True)  File \"/home/emmanuel/.conda/envs/dl_py36/lib/python3.6/site-packages/gpflow/core/node.py\", line 156, in build\n",
      "    self._build()  File \"/home/emmanuel/.conda/envs/dl_py36/lib/python3.6/site-packages/gpflow/params/parameterized.py\", line 302, in _build\n",
      "    self._prior_tensor = self._build_prior(priors)  File \"/home/emmanuel/.conda/envs/dl_py36/lib/python3.6/site-packages/gpflow/core/node.py\", line 156, in build\n",
      "    self._build()  File \"/home/emmanuel/.conda/envs/dl_py36/lib/python3.6/site-packages/gpflow/params/parameter.py\", line 370, in _build\n",
      "    self._prior_tensor = prior  File \"/home/emmanuel/.conda/envs/dl_py36/lib/python3.6/site-packages/tensorflow/python/util/tf_should_use.py\", line 193, in wrapped\n",
      "    return _add_should_use_warning(fn(*args, **kwargs))\n",
      "==================================\n"
     ]
    },
    {
     "name": "stderr",
     "output_type": "stream",
     "text": [
      "ERROR:tensorflow:==================================\n",
      "Object was never used (type <class 'tensorflow.python.framework.ops.Tensor'>):\n",
      "<tf.Tensor 'SquaredExponential-073e19f5-446/variance/IsVariableInitialized:0' shape=() dtype=bool>\n",
      "If you want to mark it as used call its \"mark_used()\" method.\n",
      "It was originally created here:\n",
      "  File \"/home/emmanuel/.conda/envs/dl_py36/lib/python3.6/site-packages/IPython/core/interactiveshell.py\", line 3316, in run_code\n",
      "    return outflag  File \"<ipython-input-53-d2d7c739ed38>\", line 18, in <module>\n",
      "    gp_model.fit(xtrain, ytrain)  File \"/home/emmanuel/projects/2019_ocean/src/models/gpflow_gpu.py\", line 130, in fit\n",
      "    self.model = gpflow.models.SVGP(X, Y, kern, lik, feat=feature, minibatch_size=mb_size)  File \"/home/emmanuel/projects/2019_ocean/src/models/gpflow_gpu.py\", line 123, in <listcomp>\n",
      "    kern_list = [gpflow.kernels.RBF(X.shape[1], lengthscales=float(X.shape[1])**0.5) for _ in range(p_outputs)]  File \"/home/emmanuel/.conda/envs/dl_py36/lib/python3.6/site-packages/gpflow/core/compilable.py\", line 91, in __init__\n",
      "    self.initialize(force=True)  File \"/home/emmanuel/.conda/envs/dl_py36/lib/python3.6/site-packages/gpflow/core/node.py\", line 156, in build\n",
      "    self._build()  File \"/home/emmanuel/.conda/envs/dl_py36/lib/python3.6/site-packages/gpflow/params/parameterized.py\", line 302, in _build\n",
      "    self._prior_tensor = self._build_prior(priors)  File \"/home/emmanuel/.conda/envs/dl_py36/lib/python3.6/site-packages/gpflow/core/node.py\", line 156, in build\n",
      "    self._build()  File \"/home/emmanuel/.conda/envs/dl_py36/lib/python3.6/site-packages/gpflow/params/parameter.py\", line 370, in _build\n",
      "    self._prior_tensor = prior  File \"/home/emmanuel/.conda/envs/dl_py36/lib/python3.6/site-packages/tensorflow/python/util/tf_should_use.py\", line 193, in wrapped\n",
      "    return _add_should_use_warning(fn(*args, **kwargs))\n",
      "==================================\n"
     ]
    },
    {
     "name": "stdout",
     "output_type": "stream",
     "text": [
      "ERROR:tensorflow:==================================\n",
      "Object was never used (type <class 'tensorflow.python.framework.ops.Tensor'>):\n",
      "<tf.Tensor 'SquaredExponential-073e19f5-446/lengthscales/IsVariableInitialized:0' shape=() dtype=bool>\n",
      "If you want to mark it as used call its \"mark_used()\" method.\n",
      "It was originally created here:\n",
      "  File \"/home/emmanuel/.conda/envs/dl_py36/lib/python3.6/site-packages/IPython/core/interactiveshell.py\", line 3316, in run_code\n",
      "    return outflag  File \"<ipython-input-53-d2d7c739ed38>\", line 18, in <module>\n",
      "    gp_model.fit(xtrain, ytrain)  File \"/home/emmanuel/projects/2019_ocean/src/models/gpflow_gpu.py\", line 130, in fit\n",
      "    self.model = gpflow.models.SVGP(X, Y, kern, lik, feat=feature, minibatch_size=mb_size)  File \"/home/emmanuel/projects/2019_ocean/src/models/gpflow_gpu.py\", line 123, in <listcomp>\n",
      "    kern_list = [gpflow.kernels.RBF(X.shape[1], lengthscales=float(X.shape[1])**0.5) for _ in range(p_outputs)]  File \"/home/emmanuel/.conda/envs/dl_py36/lib/python3.6/site-packages/gpflow/core/compilable.py\", line 91, in __init__\n",
      "    self.initialize(force=True)  File \"/home/emmanuel/.conda/envs/dl_py36/lib/python3.6/site-packages/gpflow/core/node.py\", line 156, in build\n",
      "    self._build()  File \"/home/emmanuel/.conda/envs/dl_py36/lib/python3.6/site-packages/gpflow/params/parameterized.py\", line 302, in _build\n",
      "    self._prior_tensor = self._build_prior(priors)  File \"/home/emmanuel/.conda/envs/dl_py36/lib/python3.6/site-packages/gpflow/core/node.py\", line 156, in build\n",
      "    self._build()  File \"/home/emmanuel/.conda/envs/dl_py36/lib/python3.6/site-packages/gpflow/params/parameter.py\", line 370, in _build\n",
      "    self._prior_tensor = prior  File \"/home/emmanuel/.conda/envs/dl_py36/lib/python3.6/site-packages/tensorflow/python/util/tf_should_use.py\", line 193, in wrapped\n",
      "    return _add_should_use_warning(fn(*args, **kwargs))\n",
      "==================================\n"
     ]
    },
    {
     "name": "stderr",
     "output_type": "stream",
     "text": [
      "ERROR:tensorflow:==================================\n",
      "Object was never used (type <class 'tensorflow.python.framework.ops.Tensor'>):\n",
      "<tf.Tensor 'SquaredExponential-073e19f5-446/lengthscales/IsVariableInitialized:0' shape=() dtype=bool>\n",
      "If you want to mark it as used call its \"mark_used()\" method.\n",
      "It was originally created here:\n",
      "  File \"/home/emmanuel/.conda/envs/dl_py36/lib/python3.6/site-packages/IPython/core/interactiveshell.py\", line 3316, in run_code\n",
      "    return outflag  File \"<ipython-input-53-d2d7c739ed38>\", line 18, in <module>\n",
      "    gp_model.fit(xtrain, ytrain)  File \"/home/emmanuel/projects/2019_ocean/src/models/gpflow_gpu.py\", line 130, in fit\n",
      "    self.model = gpflow.models.SVGP(X, Y, kern, lik, feat=feature, minibatch_size=mb_size)  File \"/home/emmanuel/projects/2019_ocean/src/models/gpflow_gpu.py\", line 123, in <listcomp>\n",
      "    kern_list = [gpflow.kernels.RBF(X.shape[1], lengthscales=float(X.shape[1])**0.5) for _ in range(p_outputs)]  File \"/home/emmanuel/.conda/envs/dl_py36/lib/python3.6/site-packages/gpflow/core/compilable.py\", line 91, in __init__\n",
      "    self.initialize(force=True)  File \"/home/emmanuel/.conda/envs/dl_py36/lib/python3.6/site-packages/gpflow/core/node.py\", line 156, in build\n",
      "    self._build()  File \"/home/emmanuel/.conda/envs/dl_py36/lib/python3.6/site-packages/gpflow/params/parameterized.py\", line 302, in _build\n",
      "    self._prior_tensor = self._build_prior(priors)  File \"/home/emmanuel/.conda/envs/dl_py36/lib/python3.6/site-packages/gpflow/core/node.py\", line 156, in build\n",
      "    self._build()  File \"/home/emmanuel/.conda/envs/dl_py36/lib/python3.6/site-packages/gpflow/params/parameter.py\", line 370, in _build\n",
      "    self._prior_tensor = prior  File \"/home/emmanuel/.conda/envs/dl_py36/lib/python3.6/site-packages/tensorflow/python/util/tf_should_use.py\", line 193, in wrapped\n",
      "    return _add_should_use_warning(fn(*args, **kwargs))\n",
      "==================================\n"
     ]
    },
    {
     "name": "stdout",
     "output_type": "stream",
     "text": [
      "ERROR:tensorflow:==================================\n",
      "Object was never used (type <class 'tensorflow.python.framework.ops.Tensor'>):\n",
      "<tf.Tensor 'SquaredExponential-0a302487-443/variance/IsVariableInitialized:0' shape=() dtype=bool>\n",
      "If you want to mark it as used call its \"mark_used()\" method.\n",
      "It was originally created here:\n",
      "  File \"/home/emmanuel/.conda/envs/dl_py36/lib/python3.6/site-packages/IPython/core/interactiveshell.py\", line 3316, in run_code\n",
      "    return outflag  File \"<ipython-input-53-d2d7c739ed38>\", line 18, in <module>\n",
      "    gp_model.fit(xtrain, ytrain)  File \"/home/emmanuel/projects/2019_ocean/src/models/gpflow_gpu.py\", line 130, in fit\n",
      "    self.model = gpflow.models.SVGP(X, Y, kern, lik, feat=feature, minibatch_size=mb_size)  File \"/home/emmanuel/projects/2019_ocean/src/models/gpflow_gpu.py\", line 123, in <listcomp>\n",
      "    kern_list = [gpflow.kernels.RBF(X.shape[1], lengthscales=float(X.shape[1])**0.5) for _ in range(p_outputs)]  File \"/home/emmanuel/.conda/envs/dl_py36/lib/python3.6/site-packages/gpflow/core/compilable.py\", line 91, in __init__\n",
      "    self.initialize(force=True)  File \"/home/emmanuel/.conda/envs/dl_py36/lib/python3.6/site-packages/gpflow/core/node.py\", line 156, in build\n",
      "    self._build()  File \"/home/emmanuel/.conda/envs/dl_py36/lib/python3.6/site-packages/gpflow/params/parameterized.py\", line 302, in _build\n",
      "    self._prior_tensor = self._build_prior(priors)  File \"/home/emmanuel/.conda/envs/dl_py36/lib/python3.6/site-packages/gpflow/core/node.py\", line 156, in build\n",
      "    self._build()  File \"/home/emmanuel/.conda/envs/dl_py36/lib/python3.6/site-packages/gpflow/params/parameter.py\", line 370, in _build\n",
      "    self._prior_tensor = prior  File \"/home/emmanuel/.conda/envs/dl_py36/lib/python3.6/site-packages/tensorflow/python/util/tf_should_use.py\", line 193, in wrapped\n",
      "    return _add_should_use_warning(fn(*args, **kwargs))\n",
      "==================================\n"
     ]
    },
    {
     "name": "stderr",
     "output_type": "stream",
     "text": [
      "ERROR:tensorflow:==================================\n",
      "Object was never used (type <class 'tensorflow.python.framework.ops.Tensor'>):\n",
      "<tf.Tensor 'SquaredExponential-0a302487-443/variance/IsVariableInitialized:0' shape=() dtype=bool>\n",
      "If you want to mark it as used call its \"mark_used()\" method.\n",
      "It was originally created here:\n",
      "  File \"/home/emmanuel/.conda/envs/dl_py36/lib/python3.6/site-packages/IPython/core/interactiveshell.py\", line 3316, in run_code\n",
      "    return outflag  File \"<ipython-input-53-d2d7c739ed38>\", line 18, in <module>\n",
      "    gp_model.fit(xtrain, ytrain)  File \"/home/emmanuel/projects/2019_ocean/src/models/gpflow_gpu.py\", line 130, in fit\n",
      "    self.model = gpflow.models.SVGP(X, Y, kern, lik, feat=feature, minibatch_size=mb_size)  File \"/home/emmanuel/projects/2019_ocean/src/models/gpflow_gpu.py\", line 123, in <listcomp>\n",
      "    kern_list = [gpflow.kernels.RBF(X.shape[1], lengthscales=float(X.shape[1])**0.5) for _ in range(p_outputs)]  File \"/home/emmanuel/.conda/envs/dl_py36/lib/python3.6/site-packages/gpflow/core/compilable.py\", line 91, in __init__\n",
      "    self.initialize(force=True)  File \"/home/emmanuel/.conda/envs/dl_py36/lib/python3.6/site-packages/gpflow/core/node.py\", line 156, in build\n",
      "    self._build()  File \"/home/emmanuel/.conda/envs/dl_py36/lib/python3.6/site-packages/gpflow/params/parameterized.py\", line 302, in _build\n",
      "    self._prior_tensor = self._build_prior(priors)  File \"/home/emmanuel/.conda/envs/dl_py36/lib/python3.6/site-packages/gpflow/core/node.py\", line 156, in build\n",
      "    self._build()  File \"/home/emmanuel/.conda/envs/dl_py36/lib/python3.6/site-packages/gpflow/params/parameter.py\", line 370, in _build\n",
      "    self._prior_tensor = prior  File \"/home/emmanuel/.conda/envs/dl_py36/lib/python3.6/site-packages/tensorflow/python/util/tf_should_use.py\", line 193, in wrapped\n",
      "    return _add_should_use_warning(fn(*args, **kwargs))\n",
      "==================================\n"
     ]
    },
    {
     "name": "stdout",
     "output_type": "stream",
     "text": [
      "ERROR:tensorflow:==================================\n",
      "Object was never used (type <class 'tensorflow.python.framework.ops.Tensor'>):\n",
      "<tf.Tensor 'SquaredExponential-0a302487-443/lengthscales/IsVariableInitialized:0' shape=() dtype=bool>\n",
      "If you want to mark it as used call its \"mark_used()\" method.\n",
      "It was originally created here:\n",
      "  File \"/home/emmanuel/.conda/envs/dl_py36/lib/python3.6/site-packages/IPython/core/interactiveshell.py\", line 3316, in run_code\n",
      "    return outflag  File \"<ipython-input-53-d2d7c739ed38>\", line 18, in <module>\n",
      "    gp_model.fit(xtrain, ytrain)  File \"/home/emmanuel/projects/2019_ocean/src/models/gpflow_gpu.py\", line 130, in fit\n",
      "    self.model = gpflow.models.SVGP(X, Y, kern, lik, feat=feature, minibatch_size=mb_size)  File \"/home/emmanuel/projects/2019_ocean/src/models/gpflow_gpu.py\", line 123, in <listcomp>\n",
      "    kern_list = [gpflow.kernels.RBF(X.shape[1], lengthscales=float(X.shape[1])**0.5) for _ in range(p_outputs)]  File \"/home/emmanuel/.conda/envs/dl_py36/lib/python3.6/site-packages/gpflow/core/compilable.py\", line 91, in __init__\n",
      "    self.initialize(force=True)  File \"/home/emmanuel/.conda/envs/dl_py36/lib/python3.6/site-packages/gpflow/core/node.py\", line 156, in build\n",
      "    self._build()  File \"/home/emmanuel/.conda/envs/dl_py36/lib/python3.6/site-packages/gpflow/params/parameterized.py\", line 302, in _build\n",
      "    self._prior_tensor = self._build_prior(priors)  File \"/home/emmanuel/.conda/envs/dl_py36/lib/python3.6/site-packages/gpflow/core/node.py\", line 156, in build\n",
      "    self._build()  File \"/home/emmanuel/.conda/envs/dl_py36/lib/python3.6/site-packages/gpflow/params/parameter.py\", line 370, in _build\n",
      "    self._prior_tensor = prior  File \"/home/emmanuel/.conda/envs/dl_py36/lib/python3.6/site-packages/tensorflow/python/util/tf_should_use.py\", line 193, in wrapped\n",
      "    return _add_should_use_warning(fn(*args, **kwargs))\n",
      "==================================\n"
     ]
    },
    {
     "name": "stderr",
     "output_type": "stream",
     "text": [
      "ERROR:tensorflow:==================================\n",
      "Object was never used (type <class 'tensorflow.python.framework.ops.Tensor'>):\n",
      "<tf.Tensor 'SquaredExponential-0a302487-443/lengthscales/IsVariableInitialized:0' shape=() dtype=bool>\n",
      "If you want to mark it as used call its \"mark_used()\" method.\n",
      "It was originally created here:\n",
      "  File \"/home/emmanuel/.conda/envs/dl_py36/lib/python3.6/site-packages/IPython/core/interactiveshell.py\", line 3316, in run_code\n",
      "    return outflag  File \"<ipython-input-53-d2d7c739ed38>\", line 18, in <module>\n",
      "    gp_model.fit(xtrain, ytrain)  File \"/home/emmanuel/projects/2019_ocean/src/models/gpflow_gpu.py\", line 130, in fit\n",
      "    self.model = gpflow.models.SVGP(X, Y, kern, lik, feat=feature, minibatch_size=mb_size)  File \"/home/emmanuel/projects/2019_ocean/src/models/gpflow_gpu.py\", line 123, in <listcomp>\n",
      "    kern_list = [gpflow.kernels.RBF(X.shape[1], lengthscales=float(X.shape[1])**0.5) for _ in range(p_outputs)]  File \"/home/emmanuel/.conda/envs/dl_py36/lib/python3.6/site-packages/gpflow/core/compilable.py\", line 91, in __init__\n",
      "    self.initialize(force=True)  File \"/home/emmanuel/.conda/envs/dl_py36/lib/python3.6/site-packages/gpflow/core/node.py\", line 156, in build\n",
      "    self._build()  File \"/home/emmanuel/.conda/envs/dl_py36/lib/python3.6/site-packages/gpflow/params/parameterized.py\", line 302, in _build\n",
      "    self._prior_tensor = self._build_prior(priors)  File \"/home/emmanuel/.conda/envs/dl_py36/lib/python3.6/site-packages/gpflow/core/node.py\", line 156, in build\n",
      "    self._build()  File \"/home/emmanuel/.conda/envs/dl_py36/lib/python3.6/site-packages/gpflow/params/parameter.py\", line 370, in _build\n",
      "    self._prior_tensor = prior  File \"/home/emmanuel/.conda/envs/dl_py36/lib/python3.6/site-packages/tensorflow/python/util/tf_should_use.py\", line 193, in wrapped\n",
      "    return _add_should_use_warning(fn(*args, **kwargs))\n",
      "==================================\n"
     ]
    },
    {
     "name": "stdout",
     "output_type": "stream",
     "text": [
      "ERROR:tensorflow:==================================\n",
      "Object was never used (type <class 'tensorflow.python.framework.ops.Tensor'>):\n",
      "<tf.Tensor 'SquaredExponential-14363597-440/variance/IsVariableInitialized:0' shape=() dtype=bool>\n",
      "If you want to mark it as used call its \"mark_used()\" method.\n",
      "It was originally created here:\n",
      "  File \"/home/emmanuel/.conda/envs/dl_py36/lib/python3.6/site-packages/IPython/core/interactiveshell.py\", line 3316, in run_code\n",
      "    return outflag  File \"<ipython-input-53-d2d7c739ed38>\", line 18, in <module>\n",
      "    gp_model.fit(xtrain, ytrain)  File \"/home/emmanuel/projects/2019_ocean/src/models/gpflow_gpu.py\", line 130, in fit\n",
      "    self.model = gpflow.models.SVGP(X, Y, kern, lik, feat=feature, minibatch_size=mb_size)  File \"/home/emmanuel/projects/2019_ocean/src/models/gpflow_gpu.py\", line 123, in <listcomp>\n",
      "    kern_list = [gpflow.kernels.RBF(X.shape[1], lengthscales=float(X.shape[1])**0.5) for _ in range(p_outputs)]  File \"/home/emmanuel/.conda/envs/dl_py36/lib/python3.6/site-packages/gpflow/core/compilable.py\", line 91, in __init__\n",
      "    self.initialize(force=True)  File \"/home/emmanuel/.conda/envs/dl_py36/lib/python3.6/site-packages/gpflow/core/node.py\", line 156, in build\n",
      "    self._build()  File \"/home/emmanuel/.conda/envs/dl_py36/lib/python3.6/site-packages/gpflow/params/parameterized.py\", line 302, in _build\n",
      "    self._prior_tensor = self._build_prior(priors)  File \"/home/emmanuel/.conda/envs/dl_py36/lib/python3.6/site-packages/gpflow/core/node.py\", line 156, in build\n",
      "    self._build()  File \"/home/emmanuel/.conda/envs/dl_py36/lib/python3.6/site-packages/gpflow/params/parameter.py\", line 370, in _build\n",
      "    self._prior_tensor = prior  File \"/home/emmanuel/.conda/envs/dl_py36/lib/python3.6/site-packages/tensorflow/python/util/tf_should_use.py\", line 193, in wrapped\n",
      "    return _add_should_use_warning(fn(*args, **kwargs))\n",
      "==================================\n"
     ]
    },
    {
     "name": "stderr",
     "output_type": "stream",
     "text": [
      "ERROR:tensorflow:==================================\n",
      "Object was never used (type <class 'tensorflow.python.framework.ops.Tensor'>):\n",
      "<tf.Tensor 'SquaredExponential-14363597-440/variance/IsVariableInitialized:0' shape=() dtype=bool>\n",
      "If you want to mark it as used call its \"mark_used()\" method.\n",
      "It was originally created here:\n",
      "  File \"/home/emmanuel/.conda/envs/dl_py36/lib/python3.6/site-packages/IPython/core/interactiveshell.py\", line 3316, in run_code\n",
      "    return outflag  File \"<ipython-input-53-d2d7c739ed38>\", line 18, in <module>\n",
      "    gp_model.fit(xtrain, ytrain)  File \"/home/emmanuel/projects/2019_ocean/src/models/gpflow_gpu.py\", line 130, in fit\n",
      "    self.model = gpflow.models.SVGP(X, Y, kern, lik, feat=feature, minibatch_size=mb_size)  File \"/home/emmanuel/projects/2019_ocean/src/models/gpflow_gpu.py\", line 123, in <listcomp>\n",
      "    kern_list = [gpflow.kernels.RBF(X.shape[1], lengthscales=float(X.shape[1])**0.5) for _ in range(p_outputs)]  File \"/home/emmanuel/.conda/envs/dl_py36/lib/python3.6/site-packages/gpflow/core/compilable.py\", line 91, in __init__\n",
      "    self.initialize(force=True)  File \"/home/emmanuel/.conda/envs/dl_py36/lib/python3.6/site-packages/gpflow/core/node.py\", line 156, in build\n",
      "    self._build()  File \"/home/emmanuel/.conda/envs/dl_py36/lib/python3.6/site-packages/gpflow/params/parameterized.py\", line 302, in _build\n",
      "    self._prior_tensor = self._build_prior(priors)  File \"/home/emmanuel/.conda/envs/dl_py36/lib/python3.6/site-packages/gpflow/core/node.py\", line 156, in build\n",
      "    self._build()  File \"/home/emmanuel/.conda/envs/dl_py36/lib/python3.6/site-packages/gpflow/params/parameter.py\", line 370, in _build\n",
      "    self._prior_tensor = prior  File \"/home/emmanuel/.conda/envs/dl_py36/lib/python3.6/site-packages/tensorflow/python/util/tf_should_use.py\", line 193, in wrapped\n",
      "    return _add_should_use_warning(fn(*args, **kwargs))\n",
      "==================================\n"
     ]
    },
    {
     "name": "stdout",
     "output_type": "stream",
     "text": [
      "ERROR:tensorflow:==================================\n",
      "Object was never used (type <class 'tensorflow.python.framework.ops.Tensor'>):\n",
      "<tf.Tensor 'SquaredExponential-14363597-440/lengthscales/IsVariableInitialized:0' shape=() dtype=bool>\n",
      "If you want to mark it as used call its \"mark_used()\" method.\n",
      "It was originally created here:\n",
      "  File \"/home/emmanuel/.conda/envs/dl_py36/lib/python3.6/site-packages/IPython/core/interactiveshell.py\", line 3316, in run_code\n",
      "    return outflag  File \"<ipython-input-53-d2d7c739ed38>\", line 18, in <module>\n",
      "    gp_model.fit(xtrain, ytrain)  File \"/home/emmanuel/projects/2019_ocean/src/models/gpflow_gpu.py\", line 130, in fit\n",
      "    self.model = gpflow.models.SVGP(X, Y, kern, lik, feat=feature, minibatch_size=mb_size)  File \"/home/emmanuel/projects/2019_ocean/src/models/gpflow_gpu.py\", line 123, in <listcomp>\n",
      "    kern_list = [gpflow.kernels.RBF(X.shape[1], lengthscales=float(X.shape[1])**0.5) for _ in range(p_outputs)]  File \"/home/emmanuel/.conda/envs/dl_py36/lib/python3.6/site-packages/gpflow/core/compilable.py\", line 91, in __init__\n",
      "    self.initialize(force=True)  File \"/home/emmanuel/.conda/envs/dl_py36/lib/python3.6/site-packages/gpflow/core/node.py\", line 156, in build\n",
      "    self._build()  File \"/home/emmanuel/.conda/envs/dl_py36/lib/python3.6/site-packages/gpflow/params/parameterized.py\", line 302, in _build\n",
      "    self._prior_tensor = self._build_prior(priors)  File \"/home/emmanuel/.conda/envs/dl_py36/lib/python3.6/site-packages/gpflow/core/node.py\", line 156, in build\n",
      "    self._build()  File \"/home/emmanuel/.conda/envs/dl_py36/lib/python3.6/site-packages/gpflow/params/parameter.py\", line 370, in _build\n",
      "    self._prior_tensor = prior  File \"/home/emmanuel/.conda/envs/dl_py36/lib/python3.6/site-packages/tensorflow/python/util/tf_should_use.py\", line 193, in wrapped\n",
      "    return _add_should_use_warning(fn(*args, **kwargs))\n",
      "==================================\n"
     ]
    },
    {
     "name": "stderr",
     "output_type": "stream",
     "text": [
      "ERROR:tensorflow:==================================\n",
      "Object was never used (type <class 'tensorflow.python.framework.ops.Tensor'>):\n",
      "<tf.Tensor 'SquaredExponential-14363597-440/lengthscales/IsVariableInitialized:0' shape=() dtype=bool>\n",
      "If you want to mark it as used call its \"mark_used()\" method.\n",
      "It was originally created here:\n",
      "  File \"/home/emmanuel/.conda/envs/dl_py36/lib/python3.6/site-packages/IPython/core/interactiveshell.py\", line 3316, in run_code\n",
      "    return outflag  File \"<ipython-input-53-d2d7c739ed38>\", line 18, in <module>\n",
      "    gp_model.fit(xtrain, ytrain)  File \"/home/emmanuel/projects/2019_ocean/src/models/gpflow_gpu.py\", line 130, in fit\n",
      "    self.model = gpflow.models.SVGP(X, Y, kern, lik, feat=feature, minibatch_size=mb_size)  File \"/home/emmanuel/projects/2019_ocean/src/models/gpflow_gpu.py\", line 123, in <listcomp>\n",
      "    kern_list = [gpflow.kernels.RBF(X.shape[1], lengthscales=float(X.shape[1])**0.5) for _ in range(p_outputs)]  File \"/home/emmanuel/.conda/envs/dl_py36/lib/python3.6/site-packages/gpflow/core/compilable.py\", line 91, in __init__\n",
      "    self.initialize(force=True)  File \"/home/emmanuel/.conda/envs/dl_py36/lib/python3.6/site-packages/gpflow/core/node.py\", line 156, in build\n",
      "    self._build()  File \"/home/emmanuel/.conda/envs/dl_py36/lib/python3.6/site-packages/gpflow/params/parameterized.py\", line 302, in _build\n",
      "    self._prior_tensor = self._build_prior(priors)  File \"/home/emmanuel/.conda/envs/dl_py36/lib/python3.6/site-packages/gpflow/core/node.py\", line 156, in build\n",
      "    self._build()  File \"/home/emmanuel/.conda/envs/dl_py36/lib/python3.6/site-packages/gpflow/params/parameter.py\", line 370, in _build\n",
      "    self._prior_tensor = prior  File \"/home/emmanuel/.conda/envs/dl_py36/lib/python3.6/site-packages/tensorflow/python/util/tf_should_use.py\", line 193, in wrapped\n",
      "    return _add_should_use_warning(fn(*args, **kwargs))\n",
      "==================================\n"
     ]
    },
    {
     "name": "stdout",
     "output_type": "stream",
     "text": [
      "ERROR:tensorflow:==================================\n",
      "Object was never used (type <class 'tensorflow.python.framework.ops.Tensor'>):\n",
      "<tf.Tensor 'SquaredExponential-2c117ee9-437/variance/IsVariableInitialized:0' shape=() dtype=bool>\n",
      "If you want to mark it as used call its \"mark_used()\" method.\n",
      "It was originally created here:\n",
      "  File \"/home/emmanuel/.conda/envs/dl_py36/lib/python3.6/site-packages/IPython/core/interactiveshell.py\", line 3316, in run_code\n",
      "    return outflag  File \"<ipython-input-53-d2d7c739ed38>\", line 18, in <module>\n",
      "    gp_model.fit(xtrain, ytrain)  File \"/home/emmanuel/projects/2019_ocean/src/models/gpflow_gpu.py\", line 130, in fit\n",
      "    self.model = gpflow.models.SVGP(X, Y, kern, lik, feat=feature, minibatch_size=mb_size)  File \"/home/emmanuel/projects/2019_ocean/src/models/gpflow_gpu.py\", line 123, in <listcomp>\n",
      "    kern_list = [gpflow.kernels.RBF(X.shape[1], lengthscales=float(X.shape[1])**0.5) for _ in range(p_outputs)]  File \"/home/emmanuel/.conda/envs/dl_py36/lib/python3.6/site-packages/gpflow/core/compilable.py\", line 91, in __init__\n",
      "    self.initialize(force=True)  File \"/home/emmanuel/.conda/envs/dl_py36/lib/python3.6/site-packages/gpflow/core/node.py\", line 156, in build\n",
      "    self._build()  File \"/home/emmanuel/.conda/envs/dl_py36/lib/python3.6/site-packages/gpflow/params/parameterized.py\", line 302, in _build\n",
      "    self._prior_tensor = self._build_prior(priors)  File \"/home/emmanuel/.conda/envs/dl_py36/lib/python3.6/site-packages/gpflow/core/node.py\", line 156, in build\n",
      "    self._build()  File \"/home/emmanuel/.conda/envs/dl_py36/lib/python3.6/site-packages/gpflow/params/parameter.py\", line 370, in _build\n",
      "    self._prior_tensor = prior  File \"/home/emmanuel/.conda/envs/dl_py36/lib/python3.6/site-packages/tensorflow/python/util/tf_should_use.py\", line 193, in wrapped\n",
      "    return _add_should_use_warning(fn(*args, **kwargs))\n",
      "==================================\n"
     ]
    },
    {
     "name": "stderr",
     "output_type": "stream",
     "text": [
      "ERROR:tensorflow:==================================\n",
      "Object was never used (type <class 'tensorflow.python.framework.ops.Tensor'>):\n",
      "<tf.Tensor 'SquaredExponential-2c117ee9-437/variance/IsVariableInitialized:0' shape=() dtype=bool>\n",
      "If you want to mark it as used call its \"mark_used()\" method.\n",
      "It was originally created here:\n",
      "  File \"/home/emmanuel/.conda/envs/dl_py36/lib/python3.6/site-packages/IPython/core/interactiveshell.py\", line 3316, in run_code\n",
      "    return outflag  File \"<ipython-input-53-d2d7c739ed38>\", line 18, in <module>\n",
      "    gp_model.fit(xtrain, ytrain)  File \"/home/emmanuel/projects/2019_ocean/src/models/gpflow_gpu.py\", line 130, in fit\n",
      "    self.model = gpflow.models.SVGP(X, Y, kern, lik, feat=feature, minibatch_size=mb_size)  File \"/home/emmanuel/projects/2019_ocean/src/models/gpflow_gpu.py\", line 123, in <listcomp>\n",
      "    kern_list = [gpflow.kernels.RBF(X.shape[1], lengthscales=float(X.shape[1])**0.5) for _ in range(p_outputs)]  File \"/home/emmanuel/.conda/envs/dl_py36/lib/python3.6/site-packages/gpflow/core/compilable.py\", line 91, in __init__\n",
      "    self.initialize(force=True)  File \"/home/emmanuel/.conda/envs/dl_py36/lib/python3.6/site-packages/gpflow/core/node.py\", line 156, in build\n",
      "    self._build()  File \"/home/emmanuel/.conda/envs/dl_py36/lib/python3.6/site-packages/gpflow/params/parameterized.py\", line 302, in _build\n",
      "    self._prior_tensor = self._build_prior(priors)  File \"/home/emmanuel/.conda/envs/dl_py36/lib/python3.6/site-packages/gpflow/core/node.py\", line 156, in build\n",
      "    self._build()  File \"/home/emmanuel/.conda/envs/dl_py36/lib/python3.6/site-packages/gpflow/params/parameter.py\", line 370, in _build\n",
      "    self._prior_tensor = prior  File \"/home/emmanuel/.conda/envs/dl_py36/lib/python3.6/site-packages/tensorflow/python/util/tf_should_use.py\", line 193, in wrapped\n",
      "    return _add_should_use_warning(fn(*args, **kwargs))\n",
      "==================================\n"
     ]
    },
    {
     "name": "stdout",
     "output_type": "stream",
     "text": [
      "ERROR:tensorflow:==================================\n",
      "Object was never used (type <class 'tensorflow.python.framework.ops.Tensor'>):\n",
      "<tf.Tensor 'SquaredExponential-2c117ee9-437/lengthscales/IsVariableInitialized:0' shape=() dtype=bool>\n",
      "If you want to mark it as used call its \"mark_used()\" method.\n",
      "It was originally created here:\n",
      "  File \"/home/emmanuel/.conda/envs/dl_py36/lib/python3.6/site-packages/IPython/core/interactiveshell.py\", line 3316, in run_code\n",
      "    return outflag  File \"<ipython-input-53-d2d7c739ed38>\", line 18, in <module>\n",
      "    gp_model.fit(xtrain, ytrain)  File \"/home/emmanuel/projects/2019_ocean/src/models/gpflow_gpu.py\", line 130, in fit\n",
      "    self.model = gpflow.models.SVGP(X, Y, kern, lik, feat=feature, minibatch_size=mb_size)  File \"/home/emmanuel/projects/2019_ocean/src/models/gpflow_gpu.py\", line 123, in <listcomp>\n",
      "    kern_list = [gpflow.kernels.RBF(X.shape[1], lengthscales=float(X.shape[1])**0.5) for _ in range(p_outputs)]  File \"/home/emmanuel/.conda/envs/dl_py36/lib/python3.6/site-packages/gpflow/core/compilable.py\", line 91, in __init__\n",
      "    self.initialize(force=True)  File \"/home/emmanuel/.conda/envs/dl_py36/lib/python3.6/site-packages/gpflow/core/node.py\", line 156, in build\n",
      "    self._build()  File \"/home/emmanuel/.conda/envs/dl_py36/lib/python3.6/site-packages/gpflow/params/parameterized.py\", line 302, in _build\n",
      "    self._prior_tensor = self._build_prior(priors)  File \"/home/emmanuel/.conda/envs/dl_py36/lib/python3.6/site-packages/gpflow/core/node.py\", line 156, in build\n",
      "    self._build()  File \"/home/emmanuel/.conda/envs/dl_py36/lib/python3.6/site-packages/gpflow/params/parameter.py\", line 370, in _build\n",
      "    self._prior_tensor = prior  File \"/home/emmanuel/.conda/envs/dl_py36/lib/python3.6/site-packages/tensorflow/python/util/tf_should_use.py\", line 193, in wrapped\n",
      "    return _add_should_use_warning(fn(*args, **kwargs))\n",
      "==================================\n"
     ]
    },
    {
     "name": "stderr",
     "output_type": "stream",
     "text": [
      "ERROR:tensorflow:==================================\n",
      "Object was never used (type <class 'tensorflow.python.framework.ops.Tensor'>):\n",
      "<tf.Tensor 'SquaredExponential-2c117ee9-437/lengthscales/IsVariableInitialized:0' shape=() dtype=bool>\n",
      "If you want to mark it as used call its \"mark_used()\" method.\n",
      "It was originally created here:\n",
      "  File \"/home/emmanuel/.conda/envs/dl_py36/lib/python3.6/site-packages/IPython/core/interactiveshell.py\", line 3316, in run_code\n",
      "    return outflag  File \"<ipython-input-53-d2d7c739ed38>\", line 18, in <module>\n",
      "    gp_model.fit(xtrain, ytrain)  File \"/home/emmanuel/projects/2019_ocean/src/models/gpflow_gpu.py\", line 130, in fit\n",
      "    self.model = gpflow.models.SVGP(X, Y, kern, lik, feat=feature, minibatch_size=mb_size)  File \"/home/emmanuel/projects/2019_ocean/src/models/gpflow_gpu.py\", line 123, in <listcomp>\n",
      "    kern_list = [gpflow.kernels.RBF(X.shape[1], lengthscales=float(X.shape[1])**0.5) for _ in range(p_outputs)]  File \"/home/emmanuel/.conda/envs/dl_py36/lib/python3.6/site-packages/gpflow/core/compilable.py\", line 91, in __init__\n",
      "    self.initialize(force=True)  File \"/home/emmanuel/.conda/envs/dl_py36/lib/python3.6/site-packages/gpflow/core/node.py\", line 156, in build\n",
      "    self._build()  File \"/home/emmanuel/.conda/envs/dl_py36/lib/python3.6/site-packages/gpflow/params/parameterized.py\", line 302, in _build\n",
      "    self._prior_tensor = self._build_prior(priors)  File \"/home/emmanuel/.conda/envs/dl_py36/lib/python3.6/site-packages/gpflow/core/node.py\", line 156, in build\n",
      "    self._build()  File \"/home/emmanuel/.conda/envs/dl_py36/lib/python3.6/site-packages/gpflow/params/parameter.py\", line 370, in _build\n",
      "    self._prior_tensor = prior  File \"/home/emmanuel/.conda/envs/dl_py36/lib/python3.6/site-packages/tensorflow/python/util/tf_should_use.py\", line 193, in wrapped\n",
      "    return _add_should_use_warning(fn(*args, **kwargs))\n",
      "==================================\n"
     ]
    },
    {
     "ename": "KeyboardInterrupt",
     "evalue": "",
     "output_type": "error",
     "traceback": [
      "\u001b[0;31m---------------------------------------------------------------------------\u001b[0m",
      "\u001b[0;31mInvalidArgumentError\u001b[0m                      Traceback (most recent call last)",
      "\u001b[0;32m~/.conda/envs/dl_py36/lib/python3.6/site-packages/tensorflow/python/framework/ops.py\u001b[0m in \u001b[0;36mget_attr\u001b[0;34m(self, name)\u001b[0m\n\u001b[1;32m   2408\u001b[0m       \u001b[0;32mwith\u001b[0m \u001b[0mc_api_util\u001b[0m\u001b[0;34m.\u001b[0m\u001b[0mtf_buffer\u001b[0m\u001b[0;34m(\u001b[0m\u001b[0;34m)\u001b[0m \u001b[0;32mas\u001b[0m \u001b[0mbuf\u001b[0m\u001b[0;34m:\u001b[0m\u001b[0;34m\u001b[0m\u001b[0;34m\u001b[0m\u001b[0m\n\u001b[0;32m-> 2409\u001b[0;31m         \u001b[0mc_api\u001b[0m\u001b[0;34m.\u001b[0m\u001b[0mTF_OperationGetAttrValueProto\u001b[0m\u001b[0;34m(\u001b[0m\u001b[0mself\u001b[0m\u001b[0;34m.\u001b[0m\u001b[0m_c_op\u001b[0m\u001b[0;34m,\u001b[0m \u001b[0mname\u001b[0m\u001b[0;34m,\u001b[0m \u001b[0mbuf\u001b[0m\u001b[0;34m)\u001b[0m\u001b[0;34m\u001b[0m\u001b[0;34m\u001b[0m\u001b[0m\n\u001b[0m\u001b[1;32m   2410\u001b[0m         \u001b[0mdata\u001b[0m \u001b[0;34m=\u001b[0m \u001b[0mc_api\u001b[0m\u001b[0;34m.\u001b[0m\u001b[0mTF_GetBuffer\u001b[0m\u001b[0;34m(\u001b[0m\u001b[0mbuf\u001b[0m\u001b[0;34m)\u001b[0m\u001b[0;34m\u001b[0m\u001b[0;34m\u001b[0m\u001b[0m\n",
      "\u001b[0;31mInvalidArgumentError\u001b[0m: Operation 'SVGP-dd93669f-736/conditional/Sum_19' has no attr named '_XlaCompile'.",
      "\nDuring handling of the above exception, another exception occurred:\n",
      "\u001b[0;31mValueError\u001b[0m                                Traceback (most recent call last)",
      "\u001b[0;32m~/.conda/envs/dl_py36/lib/python3.6/site-packages/tensorflow/python/ops/gradients_impl.py\u001b[0m in \u001b[0;36m_MaybeCompile\u001b[0;34m(scope, op, func, grad_fn)\u001b[0m\n\u001b[1;32m    414\u001b[0m     \u001b[0;32mtry\u001b[0m\u001b[0;34m:\u001b[0m\u001b[0;34m\u001b[0m\u001b[0;34m\u001b[0m\u001b[0m\n\u001b[0;32m--> 415\u001b[0;31m       \u001b[0mxla_compile\u001b[0m \u001b[0;34m=\u001b[0m \u001b[0mop\u001b[0m\u001b[0;34m.\u001b[0m\u001b[0mget_attr\u001b[0m\u001b[0;34m(\u001b[0m\u001b[0;34m\"_XlaCompile\"\u001b[0m\u001b[0;34m)\u001b[0m\u001b[0;34m\u001b[0m\u001b[0;34m\u001b[0m\u001b[0m\n\u001b[0m\u001b[1;32m    416\u001b[0m       xla_separate_compiled_gradients = op.get_attr(\n",
      "\u001b[0;32m~/.conda/envs/dl_py36/lib/python3.6/site-packages/tensorflow/python/framework/ops.py\u001b[0m in \u001b[0;36mget_attr\u001b[0;34m(self, name)\u001b[0m\n\u001b[1;32m   2412\u001b[0m       \u001b[0;31m# Convert to ValueError for backwards compatibility.\u001b[0m\u001b[0;34m\u001b[0m\u001b[0;34m\u001b[0m\u001b[0;34m\u001b[0m\u001b[0m\n\u001b[0;32m-> 2413\u001b[0;31m       \u001b[0;32mraise\u001b[0m \u001b[0mValueError\u001b[0m\u001b[0;34m(\u001b[0m\u001b[0mstr\u001b[0m\u001b[0;34m(\u001b[0m\u001b[0me\u001b[0m\u001b[0;34m)\u001b[0m\u001b[0;34m)\u001b[0m\u001b[0;34m\u001b[0m\u001b[0;34m\u001b[0m\u001b[0m\n\u001b[0m\u001b[1;32m   2414\u001b[0m     \u001b[0mx\u001b[0m \u001b[0;34m=\u001b[0m \u001b[0mattr_value_pb2\u001b[0m\u001b[0;34m.\u001b[0m\u001b[0mAttrValue\u001b[0m\u001b[0;34m(\u001b[0m\u001b[0;34m)\u001b[0m\u001b[0;34m\u001b[0m\u001b[0;34m\u001b[0m\u001b[0m\n",
      "\u001b[0;31mValueError\u001b[0m: Operation 'SVGP-dd93669f-736/conditional/Sum_19' has no attr named '_XlaCompile'.",
      "\nDuring handling of the above exception, another exception occurred:\n",
      "\u001b[0;31mKeyboardInterrupt\u001b[0m                         Traceback (most recent call last)",
      "\u001b[0;32m<ipython-input-63-4fa9e5a9f15e>\u001b[0m in \u001b[0;36m<module>\u001b[0;34m\u001b[0m\n\u001b[1;32m     16\u001b[0m \u001b[0;31m# Fit Model to Data\u001b[0m\u001b[0;34m\u001b[0m\u001b[0;34m\u001b[0m\u001b[0;34m\u001b[0m\u001b[0m\n\u001b[1;32m     17\u001b[0m \u001b[0mt0\u001b[0m \u001b[0;34m=\u001b[0m \u001b[0mtime\u001b[0m\u001b[0;34m.\u001b[0m\u001b[0mtime\u001b[0m\u001b[0;34m(\u001b[0m\u001b[0;34m)\u001b[0m\u001b[0;34m\u001b[0m\u001b[0;34m\u001b[0m\u001b[0m\n\u001b[0;32m---> 18\u001b[0;31m \u001b[0mmogp_model\u001b[0m\u001b[0;34m.\u001b[0m\u001b[0mfit\u001b[0m\u001b[0;34m(\u001b[0m\u001b[0mxtrain\u001b[0m\u001b[0;34m,\u001b[0m \u001b[0mytrain\u001b[0m\u001b[0;34m)\u001b[0m\u001b[0;34m\u001b[0m\u001b[0;34m\u001b[0m\u001b[0m\n\u001b[0m\u001b[1;32m     19\u001b[0m \u001b[0mt1\u001b[0m \u001b[0;34m=\u001b[0m \u001b[0mtime\u001b[0m\u001b[0;34m.\u001b[0m\u001b[0mtime\u001b[0m\u001b[0;34m(\u001b[0m\u001b[0;34m)\u001b[0m \u001b[0;34m-\u001b[0m \u001b[0mt0\u001b[0m\u001b[0;34m\u001b[0m\u001b[0;34m\u001b[0m\u001b[0m\n\u001b[1;32m     20\u001b[0m \u001b[0;34m\u001b[0m\u001b[0m\n",
      "\u001b[0;32m~/projects/2019_ocean/src/models/gpflow_gpu.py\u001b[0m in \u001b[0;36mfit\u001b[0;34m(self, X, Y)\u001b[0m\n\u001b[1;32m    134\u001b[0m             \u001b[0mself\u001b[0m\u001b[0;34m.\u001b[0m\u001b[0mmodel\u001b[0m\u001b[0;34m.\u001b[0m\u001b[0mq_sqrt\u001b[0m\u001b[0;34m.\u001b[0m\u001b[0mset_trainable\u001b[0m\u001b[0;34m(\u001b[0m\u001b[0;32mFalse\u001b[0m\u001b[0;34m)\u001b[0m\u001b[0;34m\u001b[0m\u001b[0;34m\u001b[0m\u001b[0m\n\u001b[1;32m    135\u001b[0m             \u001b[0mself\u001b[0m\u001b[0;34m.\u001b[0m\u001b[0mng\u001b[0m \u001b[0;34m=\u001b[0m \u001b[0mgpflow\u001b[0m\u001b[0;34m.\u001b[0m\u001b[0mtrain\u001b[0m\u001b[0;34m.\u001b[0m\u001b[0mNatGradOptimizer\u001b[0m\u001b[0;34m(\u001b[0m\u001b[0mgamma\u001b[0m\u001b[0;34m=\u001b[0m\u001b[0mself\u001b[0m\u001b[0;34m.\u001b[0m\u001b[0mgamma\u001b[0m\u001b[0;34m)\u001b[0m\u001b[0;34m.\u001b[0m\u001b[0mmake_optimize_tensor\u001b[0m\u001b[0;34m(\u001b[0m\u001b[0mself\u001b[0m\u001b[0;34m.\u001b[0m\u001b[0mmodel\u001b[0m\u001b[0;34m,\u001b[0m \u001b[0mvar_list\u001b[0m\u001b[0;34m=\u001b[0m\u001b[0mvar_list\u001b[0m\u001b[0;34m)\u001b[0m\u001b[0;34m\u001b[0m\u001b[0;34m\u001b[0m\u001b[0m\n\u001b[0;32m--> 136\u001b[0;31m             \u001b[0mself\u001b[0m\u001b[0;34m.\u001b[0m\u001b[0madam\u001b[0m \u001b[0;34m=\u001b[0m \u001b[0mgpflow\u001b[0m\u001b[0;34m.\u001b[0m\u001b[0mtrain\u001b[0m\u001b[0;34m.\u001b[0m\u001b[0mAdamOptimizer\u001b[0m\u001b[0;34m(\u001b[0m\u001b[0mself\u001b[0m\u001b[0;34m.\u001b[0m\u001b[0madam_lr\u001b[0m\u001b[0;34m)\u001b[0m\u001b[0;34m.\u001b[0m\u001b[0mmake_optimize_tensor\u001b[0m\u001b[0;34m(\u001b[0m\u001b[0mself\u001b[0m\u001b[0;34m.\u001b[0m\u001b[0mmodel\u001b[0m\u001b[0;34m)\u001b[0m\u001b[0;34m\u001b[0m\u001b[0;34m\u001b[0m\u001b[0m\n\u001b[0m\u001b[1;32m    137\u001b[0m \u001b[0;34m\u001b[0m\u001b[0m\n\u001b[1;32m    138\u001b[0m             \u001b[0mself\u001b[0m\u001b[0;34m.\u001b[0m\u001b[0msess\u001b[0m \u001b[0;34m=\u001b[0m \u001b[0mself\u001b[0m\u001b[0;34m.\u001b[0m\u001b[0mmodel\u001b[0m\u001b[0;34m.\u001b[0m\u001b[0menquire_session\u001b[0m\u001b[0;34m(\u001b[0m\u001b[0;34m)\u001b[0m\u001b[0;34m\u001b[0m\u001b[0;34m\u001b[0m\u001b[0m\n",
      "\u001b[0;32m~/.conda/envs/dl_py36/lib/python3.6/site-packages/gpflow/training/tensorflow_optimizer.py\u001b[0m in \u001b[0;36mmake_optimize_tensor\u001b[0;34m(self, model, session, var_list, **kwargs)\u001b[0m\n\u001b[1;32m     52\u001b[0m         \u001b[0;31m# Create optimizer variables before initialization.\u001b[0m\u001b[0;34m\u001b[0m\u001b[0;34m\u001b[0m\u001b[0;34m\u001b[0m\u001b[0m\n\u001b[1;32m     53\u001b[0m         \u001b[0;32mwith\u001b[0m \u001b[0msession\u001b[0m\u001b[0;34m.\u001b[0m\u001b[0mas_default\u001b[0m\u001b[0;34m(\u001b[0m\u001b[0;34m)\u001b[0m\u001b[0;34m:\u001b[0m\u001b[0;34m\u001b[0m\u001b[0;34m\u001b[0m\u001b[0m\n\u001b[0;32m---> 54\u001b[0;31m             \u001b[0mminimize\u001b[0m \u001b[0;34m=\u001b[0m \u001b[0mself\u001b[0m\u001b[0;34m.\u001b[0m\u001b[0moptimizer\u001b[0m\u001b[0;34m.\u001b[0m\u001b[0mminimize\u001b[0m\u001b[0;34m(\u001b[0m\u001b[0mobjective\u001b[0m\u001b[0;34m,\u001b[0m \u001b[0mvar_list\u001b[0m\u001b[0;34m=\u001b[0m\u001b[0mfull_var_list\u001b[0m\u001b[0;34m,\u001b[0m \u001b[0;34m**\u001b[0m\u001b[0mkwargs\u001b[0m\u001b[0;34m)\u001b[0m\u001b[0;34m\u001b[0m\u001b[0;34m\u001b[0m\u001b[0m\n\u001b[0m\u001b[1;32m     55\u001b[0m             \u001b[0mmodel\u001b[0m\u001b[0;34m.\u001b[0m\u001b[0minitialize\u001b[0m\u001b[0;34m(\u001b[0m\u001b[0msession\u001b[0m\u001b[0;34m=\u001b[0m\u001b[0msession\u001b[0m\u001b[0;34m)\u001b[0m\u001b[0;34m\u001b[0m\u001b[0;34m\u001b[0m\u001b[0m\n\u001b[1;32m     56\u001b[0m             \u001b[0mself\u001b[0m\u001b[0;34m.\u001b[0m\u001b[0m_initialize_optimizer\u001b[0m\u001b[0;34m(\u001b[0m\u001b[0msession\u001b[0m\u001b[0;34m)\u001b[0m\u001b[0;34m\u001b[0m\u001b[0;34m\u001b[0m\u001b[0m\n",
      "\u001b[0;32m~/.conda/envs/dl_py36/lib/python3.6/site-packages/tensorflow/python/training/optimizer.py\u001b[0m in \u001b[0;36mminimize\u001b[0;34m(self, loss, global_step, var_list, gate_gradients, aggregation_method, colocate_gradients_with_ops, name, grad_loss)\u001b[0m\n\u001b[1;32m    401\u001b[0m         \u001b[0maggregation_method\u001b[0m\u001b[0;34m=\u001b[0m\u001b[0maggregation_method\u001b[0m\u001b[0;34m,\u001b[0m\u001b[0;34m\u001b[0m\u001b[0;34m\u001b[0m\u001b[0m\n\u001b[1;32m    402\u001b[0m         \u001b[0mcolocate_gradients_with_ops\u001b[0m\u001b[0;34m=\u001b[0m\u001b[0mcolocate_gradients_with_ops\u001b[0m\u001b[0;34m,\u001b[0m\u001b[0;34m\u001b[0m\u001b[0;34m\u001b[0m\u001b[0m\n\u001b[0;32m--> 403\u001b[0;31m         grad_loss=grad_loss)\n\u001b[0m\u001b[1;32m    404\u001b[0m \u001b[0;34m\u001b[0m\u001b[0m\n\u001b[1;32m    405\u001b[0m     \u001b[0mvars_with_grad\u001b[0m \u001b[0;34m=\u001b[0m \u001b[0;34m[\u001b[0m\u001b[0mv\u001b[0m \u001b[0;32mfor\u001b[0m \u001b[0mg\u001b[0m\u001b[0;34m,\u001b[0m \u001b[0mv\u001b[0m \u001b[0;32min\u001b[0m \u001b[0mgrads_and_vars\u001b[0m \u001b[0;32mif\u001b[0m \u001b[0mg\u001b[0m \u001b[0;32mis\u001b[0m \u001b[0;32mnot\u001b[0m \u001b[0;32mNone\u001b[0m\u001b[0;34m]\u001b[0m\u001b[0;34m\u001b[0m\u001b[0;34m\u001b[0m\u001b[0m\n",
      "\u001b[0;32m~/.conda/envs/dl_py36/lib/python3.6/site-packages/tensorflow/python/training/optimizer.py\u001b[0m in \u001b[0;36mcompute_gradients\u001b[0;34m(self, loss, var_list, gate_gradients, aggregation_method, colocate_gradients_with_ops, grad_loss)\u001b[0m\n\u001b[1;32m    510\u001b[0m         \u001b[0mgate_gradients\u001b[0m\u001b[0;34m=\u001b[0m\u001b[0;34m(\u001b[0m\u001b[0mgate_gradients\u001b[0m \u001b[0;34m==\u001b[0m \u001b[0mOptimizer\u001b[0m\u001b[0;34m.\u001b[0m\u001b[0mGATE_OP\u001b[0m\u001b[0;34m)\u001b[0m\u001b[0;34m,\u001b[0m\u001b[0;34m\u001b[0m\u001b[0;34m\u001b[0m\u001b[0m\n\u001b[1;32m    511\u001b[0m         \u001b[0maggregation_method\u001b[0m\u001b[0;34m=\u001b[0m\u001b[0maggregation_method\u001b[0m\u001b[0;34m,\u001b[0m\u001b[0;34m\u001b[0m\u001b[0;34m\u001b[0m\u001b[0m\n\u001b[0;32m--> 512\u001b[0;31m         colocate_gradients_with_ops=colocate_gradients_with_ops)\n\u001b[0m\u001b[1;32m    513\u001b[0m     \u001b[0;32mif\u001b[0m \u001b[0mgate_gradients\u001b[0m \u001b[0;34m==\u001b[0m \u001b[0mOptimizer\u001b[0m\u001b[0;34m.\u001b[0m\u001b[0mGATE_GRAPH\u001b[0m\u001b[0;34m:\u001b[0m\u001b[0;34m\u001b[0m\u001b[0;34m\u001b[0m\u001b[0m\n\u001b[1;32m    514\u001b[0m       \u001b[0mgrads\u001b[0m \u001b[0;34m=\u001b[0m \u001b[0mcontrol_flow_ops\u001b[0m\u001b[0;34m.\u001b[0m\u001b[0mtuple\u001b[0m\u001b[0;34m(\u001b[0m\u001b[0mgrads\u001b[0m\u001b[0;34m)\u001b[0m\u001b[0;34m\u001b[0m\u001b[0;34m\u001b[0m\u001b[0m\n",
      "\u001b[0;32m~/.conda/envs/dl_py36/lib/python3.6/site-packages/tensorflow/python/ops/gradients_impl.py\u001b[0m in \u001b[0;36mgradients\u001b[0;34m(ys, xs, grad_ys, name, colocate_gradients_with_ops, gate_gradients, aggregation_method, stop_gradients, unconnected_gradients)\u001b[0m\n\u001b[1;32m    662\u001b[0m     return _GradientsHelper(ys, xs, grad_ys, name, colocate_gradients_with_ops,\n\u001b[1;32m    663\u001b[0m                             \u001b[0mgate_gradients\u001b[0m\u001b[0;34m,\u001b[0m \u001b[0maggregation_method\u001b[0m\u001b[0;34m,\u001b[0m \u001b[0mstop_gradients\u001b[0m\u001b[0;34m,\u001b[0m\u001b[0;34m\u001b[0m\u001b[0;34m\u001b[0m\u001b[0m\n\u001b[0;32m--> 664\u001b[0;31m                             unconnected_gradients)\n\u001b[0m\u001b[1;32m    665\u001b[0m \u001b[0;34m\u001b[0m\u001b[0m\n\u001b[1;32m    666\u001b[0m \u001b[0;34m\u001b[0m\u001b[0m\n",
      "\u001b[0;32m~/.conda/envs/dl_py36/lib/python3.6/site-packages/tensorflow/python/ops/gradients_impl.py\u001b[0m in \u001b[0;36m_GradientsHelper\u001b[0;34m(ys, xs, grad_ys, name, colocate_gradients_with_ops, gate_gradients, aggregation_method, stop_gradients, unconnected_gradients, src_graph)\u001b[0m\n\u001b[1;32m    963\u001b[0m                 \u001b[0;31m# functions.\u001b[0m\u001b[0;34m\u001b[0m\u001b[0;34m\u001b[0m\u001b[0;34m\u001b[0m\u001b[0m\n\u001b[1;32m    964\u001b[0m                 in_grads = _MaybeCompile(grad_scope, op, func_call,\n\u001b[0;32m--> 965\u001b[0;31m                                          lambda: grad_fn(op, *out_grads))\n\u001b[0m\u001b[1;32m    966\u001b[0m               \u001b[0;32melse\u001b[0m\u001b[0;34m:\u001b[0m\u001b[0;34m\u001b[0m\u001b[0;34m\u001b[0m\u001b[0m\n\u001b[1;32m    967\u001b[0m                 \u001b[0;31m# For function call ops, we add a 'SymbolicGradient'\u001b[0m\u001b[0;34m\u001b[0m\u001b[0;34m\u001b[0m\u001b[0;34m\u001b[0m\u001b[0m\n",
      "\u001b[0;32m~/.conda/envs/dl_py36/lib/python3.6/site-packages/tensorflow/python/ops/gradients_impl.py\u001b[0m in \u001b[0;36m_MaybeCompile\u001b[0;34m(scope, op, func, grad_fn)\u001b[0m\n\u001b[1;32m    418\u001b[0m       \u001b[0mxla_scope\u001b[0m \u001b[0;34m=\u001b[0m \u001b[0mop\u001b[0m\u001b[0;34m.\u001b[0m\u001b[0mget_attr\u001b[0m\u001b[0;34m(\u001b[0m\u001b[0;34m\"_XlaScope\"\u001b[0m\u001b[0;34m)\u001b[0m\u001b[0;34m.\u001b[0m\u001b[0mdecode\u001b[0m\u001b[0;34m(\u001b[0m\u001b[0;34m)\u001b[0m\u001b[0;34m\u001b[0m\u001b[0;34m\u001b[0m\u001b[0m\n\u001b[1;32m    419\u001b[0m     \u001b[0;32mexcept\u001b[0m \u001b[0mValueError\u001b[0m\u001b[0;34m:\u001b[0m\u001b[0;34m\u001b[0m\u001b[0;34m\u001b[0m\u001b[0m\n\u001b[0;32m--> 420\u001b[0;31m       \u001b[0;32mreturn\u001b[0m \u001b[0mgrad_fn\u001b[0m\u001b[0;34m(\u001b[0m\u001b[0;34m)\u001b[0m  \u001b[0;31m# Exit early\u001b[0m\u001b[0;34m\u001b[0m\u001b[0;34m\u001b[0m\u001b[0m\n\u001b[0m\u001b[1;32m    421\u001b[0m \u001b[0;34m\u001b[0m\u001b[0m\n\u001b[1;32m    422\u001b[0m   \u001b[0;32mif\u001b[0m \u001b[0;32mnot\u001b[0m \u001b[0mxla_compile\u001b[0m\u001b[0;34m:\u001b[0m\u001b[0;34m\u001b[0m\u001b[0;34m\u001b[0m\u001b[0m\n",
      "\u001b[0;32m~/.conda/envs/dl_py36/lib/python3.6/site-packages/tensorflow/python/ops/gradients_impl.py\u001b[0m in \u001b[0;36m<lambda>\u001b[0;34m()\u001b[0m\n\u001b[1;32m    963\u001b[0m                 \u001b[0;31m# functions.\u001b[0m\u001b[0;34m\u001b[0m\u001b[0;34m\u001b[0m\u001b[0;34m\u001b[0m\u001b[0m\n\u001b[1;32m    964\u001b[0m                 in_grads = _MaybeCompile(grad_scope, op, func_call,\n\u001b[0;32m--> 965\u001b[0;31m                                          lambda: grad_fn(op, *out_grads))\n\u001b[0m\u001b[1;32m    966\u001b[0m               \u001b[0;32melse\u001b[0m\u001b[0;34m:\u001b[0m\u001b[0;34m\u001b[0m\u001b[0;34m\u001b[0m\u001b[0m\n\u001b[1;32m    967\u001b[0m                 \u001b[0;31m# For function call ops, we add a 'SymbolicGradient'\u001b[0m\u001b[0;34m\u001b[0m\u001b[0;34m\u001b[0m\u001b[0;34m\u001b[0m\u001b[0m\n",
      "\u001b[0;32m~/.conda/envs/dl_py36/lib/python3.6/site-packages/tensorflow/python/ops/math_grad.py\u001b[0m in \u001b[0;36m_SumGrad\u001b[0;34m(op, grad)\u001b[0m\n\u001b[1;32m     79\u001b[0m   \u001b[0;31m# sense.\u001b[0m\u001b[0;34m\u001b[0m\u001b[0;34m\u001b[0m\u001b[0;34m\u001b[0m\u001b[0m\n\u001b[1;32m     80\u001b[0m   \u001b[0;32mwith\u001b[0m \u001b[0mops\u001b[0m\u001b[0;34m.\u001b[0m\u001b[0mcolocate_with\u001b[0m\u001b[0;34m(\u001b[0m\u001b[0minput_shape\u001b[0m\u001b[0;34m)\u001b[0m\u001b[0;34m:\u001b[0m\u001b[0;34m\u001b[0m\u001b[0;34m\u001b[0m\u001b[0m\n\u001b[0;32m---> 81\u001b[0;31m     \u001b[0moutput_shape_kept_dims\u001b[0m \u001b[0;34m=\u001b[0m \u001b[0mmath_ops\u001b[0m\u001b[0;34m.\u001b[0m\u001b[0mreduced_shape\u001b[0m\u001b[0;34m(\u001b[0m\u001b[0minput_shape\u001b[0m\u001b[0;34m,\u001b[0m \u001b[0mop\u001b[0m\u001b[0;34m.\u001b[0m\u001b[0minputs\u001b[0m\u001b[0;34m[\u001b[0m\u001b[0;36m1\u001b[0m\u001b[0;34m]\u001b[0m\u001b[0;34m)\u001b[0m\u001b[0;34m\u001b[0m\u001b[0;34m\u001b[0m\u001b[0m\n\u001b[0m\u001b[1;32m     82\u001b[0m     \u001b[0mtile_scaling\u001b[0m \u001b[0;34m=\u001b[0m \u001b[0m_safe_shape_div\u001b[0m\u001b[0;34m(\u001b[0m\u001b[0minput_shape\u001b[0m\u001b[0;34m,\u001b[0m \u001b[0moutput_shape_kept_dims\u001b[0m\u001b[0;34m)\u001b[0m\u001b[0;34m\u001b[0m\u001b[0;34m\u001b[0m\u001b[0m\n\u001b[1;32m     83\u001b[0m   \u001b[0mgrad\u001b[0m \u001b[0;34m=\u001b[0m \u001b[0marray_ops\u001b[0m\u001b[0;34m.\u001b[0m\u001b[0mreshape\u001b[0m\u001b[0;34m(\u001b[0m\u001b[0mgrad\u001b[0m\u001b[0;34m,\u001b[0m \u001b[0moutput_shape_kept_dims\u001b[0m\u001b[0;34m)\u001b[0m\u001b[0;34m\u001b[0m\u001b[0;34m\u001b[0m\u001b[0m\n",
      "\u001b[0;32m~/.conda/envs/dl_py36/lib/python3.6/site-packages/tensorflow/python/ops/math_ops.py\u001b[0m in \u001b[0;36mreduced_shape\u001b[0;34m(input_shape, axes)\u001b[0m\n\u001b[1;32m   3072\u001b[0m   return gen_data_flow_ops.dynamic_stitch(  # [2, 1, 1, 7]\n\u001b[1;32m   3073\u001b[0m       [\n\u001b[0;32m-> 3074\u001b[0;31m           \u001b[0mrange\u001b[0m\u001b[0;34m(\u001b[0m\u001b[0minput_rank\u001b[0m\u001b[0;34m)\u001b[0m\u001b[0;34m,\u001b[0m  \u001b[0;31m# [0, 1, 2, 3]\u001b[0m\u001b[0;34m\u001b[0m\u001b[0;34m\u001b[0m\u001b[0m\n\u001b[0m\u001b[1;32m   3075\u001b[0m           \u001b[0maxes\u001b[0m\u001b[0;34m\u001b[0m\u001b[0;34m\u001b[0m\u001b[0m\n\u001b[1;32m   3076\u001b[0m       ],  # [1, 2]\n",
      "\u001b[0;32m~/.conda/envs/dl_py36/lib/python3.6/site-packages/tensorflow/python/ops/math_ops.py\u001b[0m in \u001b[0;36mrange\u001b[0;34m(start, limit, delta, dtype, name)\u001b[0m\n\u001b[1;32m   1197\u001b[0m       \u001b[0mdelta\u001b[0m \u001b[0;34m=\u001b[0m \u001b[0mcast\u001b[0m\u001b[0;34m(\u001b[0m\u001b[0mdelta\u001b[0m\u001b[0;34m,\u001b[0m \u001b[0minferred_dtype\u001b[0m\u001b[0;34m)\u001b[0m\u001b[0;34m\u001b[0m\u001b[0;34m\u001b[0m\u001b[0m\n\u001b[1;32m   1198\u001b[0m \u001b[0;34m\u001b[0m\u001b[0m\n\u001b[0;32m-> 1199\u001b[0;31m     \u001b[0;32mreturn\u001b[0m \u001b[0mgen_math_ops\u001b[0m\u001b[0;34m.\u001b[0m\u001b[0m_range\u001b[0m\u001b[0;34m(\u001b[0m\u001b[0mstart\u001b[0m\u001b[0;34m,\u001b[0m \u001b[0mlimit\u001b[0m\u001b[0;34m,\u001b[0m \u001b[0mdelta\u001b[0m\u001b[0;34m,\u001b[0m \u001b[0mname\u001b[0m\u001b[0;34m=\u001b[0m\u001b[0mname\u001b[0m\u001b[0;34m)\u001b[0m\u001b[0;34m\u001b[0m\u001b[0;34m\u001b[0m\u001b[0m\n\u001b[0m\u001b[1;32m   1200\u001b[0m \u001b[0;34m\u001b[0m\u001b[0m\n\u001b[1;32m   1201\u001b[0m \u001b[0;34m\u001b[0m\u001b[0m\n",
      "\u001b[0;32m~/.conda/envs/dl_py36/lib/python3.6/site-packages/tensorflow/python/ops/gen_math_ops.py\u001b[0m in \u001b[0;36m_range\u001b[0;34m(start, limit, delta, name)\u001b[0m\n\u001b[1;32m   6744\u001b[0m   \u001b[0;31m# Add nodes to the TensorFlow graph.\u001b[0m\u001b[0;34m\u001b[0m\u001b[0;34m\u001b[0m\u001b[0;34m\u001b[0m\u001b[0m\n\u001b[1;32m   6745\u001b[0m   _, _, _op = _op_def_lib._apply_op_helper(\n\u001b[0;32m-> 6746\u001b[0;31m         \"Range\", start=start, limit=limit, delta=delta, name=name)\n\u001b[0m\u001b[1;32m   6747\u001b[0m   \u001b[0m_result\u001b[0m \u001b[0;34m=\u001b[0m \u001b[0m_op\u001b[0m\u001b[0;34m.\u001b[0m\u001b[0moutputs\u001b[0m\u001b[0;34m[\u001b[0m\u001b[0;34m:\u001b[0m\u001b[0;34m]\u001b[0m\u001b[0;34m\u001b[0m\u001b[0;34m\u001b[0m\u001b[0m\n\u001b[1;32m   6748\u001b[0m   \u001b[0m_inputs_flat\u001b[0m \u001b[0;34m=\u001b[0m \u001b[0m_op\u001b[0m\u001b[0;34m.\u001b[0m\u001b[0minputs\u001b[0m\u001b[0;34m\u001b[0m\u001b[0;34m\u001b[0m\u001b[0m\n",
      "\u001b[0;32m~/.conda/envs/dl_py36/lib/python3.6/site-packages/tensorflow/python/framework/op_def_library.py\u001b[0m in \u001b[0;36m_apply_op_helper\u001b[0;34m(self, op_type_name, name, **keywords)\u001b[0m\n\u001b[1;32m    787\u001b[0m                          \u001b[0minput_types\u001b[0m\u001b[0;34m=\u001b[0m\u001b[0minput_types\u001b[0m\u001b[0;34m,\u001b[0m \u001b[0mattrs\u001b[0m\u001b[0;34m=\u001b[0m\u001b[0mattr_protos\u001b[0m\u001b[0;34m,\u001b[0m\u001b[0;34m\u001b[0m\u001b[0;34m\u001b[0m\u001b[0m\n\u001b[1;32m    788\u001b[0m                          op_def=op_def)\n\u001b[0;32m--> 789\u001b[0;31m       \u001b[0;32mreturn\u001b[0m \u001b[0moutput_structure\u001b[0m\u001b[0;34m,\u001b[0m \u001b[0mop_def\u001b[0m\u001b[0;34m.\u001b[0m\u001b[0mis_stateful\u001b[0m\u001b[0;34m,\u001b[0m \u001b[0mop\u001b[0m\u001b[0;34m\u001b[0m\u001b[0;34m\u001b[0m\u001b[0m\n\u001b[0m\u001b[1;32m    790\u001b[0m \u001b[0;34m\u001b[0m\u001b[0m\n\u001b[1;32m    791\u001b[0m \u001b[0;31m# pylint: enable=invalid-name\u001b[0m\u001b[0;34m\u001b[0m\u001b[0;34m\u001b[0m\u001b[0;34m\u001b[0m\u001b[0m\n",
      "\u001b[0;32m~/.conda/envs/dl_py36/lib/python3.6/site-packages/tensorflow/python/framework/ops.py\u001b[0m in \u001b[0;36m__exit__\u001b[0;34m(self, type_arg, value_arg, traceback_arg)\u001b[0m\n\u001b[1;32m   6098\u001b[0m     \u001b[0;32melse\u001b[0m\u001b[0;34m:\u001b[0m\u001b[0;34m\u001b[0m\u001b[0;34m\u001b[0m\u001b[0m\n\u001b[1;32m   6099\u001b[0m       \u001b[0mself\u001b[0m\u001b[0;34m.\u001b[0m\u001b[0m_name_scope\u001b[0m\u001b[0;34m.\u001b[0m\u001b[0m__exit__\u001b[0m\u001b[0;34m(\u001b[0m\u001b[0mtype_arg\u001b[0m\u001b[0;34m,\u001b[0m \u001b[0mvalue_arg\u001b[0m\u001b[0;34m,\u001b[0m \u001b[0mtraceback_arg\u001b[0m\u001b[0;34m)\u001b[0m\u001b[0;34m\u001b[0m\u001b[0;34m\u001b[0m\u001b[0m\n\u001b[0;32m-> 6100\u001b[0;31m       \u001b[0mself\u001b[0m\u001b[0;34m.\u001b[0m\u001b[0m_g_manager\u001b[0m\u001b[0;34m.\u001b[0m\u001b[0m__exit__\u001b[0m\u001b[0;34m(\u001b[0m\u001b[0mtype_arg\u001b[0m\u001b[0;34m,\u001b[0m \u001b[0mvalue_arg\u001b[0m\u001b[0;34m,\u001b[0m \u001b[0mtraceback_arg\u001b[0m\u001b[0;34m)\u001b[0m\u001b[0;34m\u001b[0m\u001b[0;34m\u001b[0m\u001b[0m\n\u001b[0m\u001b[1;32m   6101\u001b[0m     \u001b[0;32mreturn\u001b[0m \u001b[0;32mFalse\u001b[0m  \u001b[0;31m# False values do not suppress exceptions\u001b[0m\u001b[0;34m\u001b[0m\u001b[0;34m\u001b[0m\u001b[0m\n\u001b[1;32m   6102\u001b[0m \u001b[0;34m\u001b[0m\u001b[0m\n",
      "\u001b[0;32m~/.conda/envs/dl_py36/lib/python3.6/contextlib.py\u001b[0m in \u001b[0;36m__exit__\u001b[0;34m(self, type, value, traceback)\u001b[0m\n\u001b[1;32m     86\u001b[0m         \u001b[0;32mif\u001b[0m \u001b[0mtype\u001b[0m \u001b[0;32mis\u001b[0m \u001b[0;32mNone\u001b[0m\u001b[0;34m:\u001b[0m\u001b[0;34m\u001b[0m\u001b[0;34m\u001b[0m\u001b[0m\n\u001b[1;32m     87\u001b[0m             \u001b[0;32mtry\u001b[0m\u001b[0;34m:\u001b[0m\u001b[0;34m\u001b[0m\u001b[0;34m\u001b[0m\u001b[0m\n\u001b[0;32m---> 88\u001b[0;31m                 \u001b[0mnext\u001b[0m\u001b[0;34m(\u001b[0m\u001b[0mself\u001b[0m\u001b[0;34m.\u001b[0m\u001b[0mgen\u001b[0m\u001b[0;34m)\u001b[0m\u001b[0;34m\u001b[0m\u001b[0;34m\u001b[0m\u001b[0m\n\u001b[0m\u001b[1;32m     89\u001b[0m             \u001b[0;32mexcept\u001b[0m \u001b[0mStopIteration\u001b[0m\u001b[0;34m:\u001b[0m\u001b[0;34m\u001b[0m\u001b[0;34m\u001b[0m\u001b[0m\n\u001b[1;32m     90\u001b[0m                 \u001b[0;32mreturn\u001b[0m \u001b[0;32mFalse\u001b[0m\u001b[0;34m\u001b[0m\u001b[0;34m\u001b[0m\u001b[0m\n",
      "\u001b[0;32m~/.conda/envs/dl_py36/lib/python3.6/site-packages/tensorflow/python/framework/ops.py\u001b[0m in \u001b[0;36mget_controller\u001b[0;34m(self, default)\u001b[0m\n\u001b[1;32m   5251\u001b[0m       with super(_DefaultGraphStack, self).get_controller(\n\u001b[1;32m   5252\u001b[0m           default) as g, context.graph_mode():\n\u001b[0;32m-> 5253\u001b[0;31m         \u001b[0;32myield\u001b[0m \u001b[0mg\u001b[0m\u001b[0;34m\u001b[0m\u001b[0;34m\u001b[0m\u001b[0m\n\u001b[0m\u001b[1;32m   5254\u001b[0m     \u001b[0;32mfinally\u001b[0m\u001b[0;34m:\u001b[0m\u001b[0;34m\u001b[0m\u001b[0;34m\u001b[0m\u001b[0m\n\u001b[1;32m   5255\u001b[0m       \u001b[0;31m# If an exception is raised here it may be hiding a related exception in\u001b[0m\u001b[0;34m\u001b[0m\u001b[0;34m\u001b[0m\u001b[0;34m\u001b[0m\u001b[0m\n",
      "\u001b[0;31mKeyboardInterrupt\u001b[0m: "
     ]
    }
   ],
   "source": [
    "# Good practice\n",
    "gpflow.reset_default_graph_and_session()\n",
    "\n",
    "# Initialize Model\n",
    "mogp_model = MOSVGP(\n",
    "    num_inducing=TestArgs.num_inducing,\n",
    "    iterations=TestArgs.iterations,\n",
    "    small_iterations=TestArgs.small_iterations,\n",
    "    adam_lr=TestArgs.adam_lr,\n",
    "    gamma=TestArgs.gamma,\n",
    "    minibatch_size=TestArgs.minibatch_size,\n",
    "    initial_likelihood_var=TestArgs.initial_likelihood_var,\n",
    "    seed=TestArgs.seed\n",
    ")\n",
    "\n",
    "# Fit Model to Data\n",
    "t0 = time.time()\n",
    "mogp_model.fit(xtrain, ytrain)\n",
    "t1 = time.time() - t0\n",
    "\n",
    "print(\n",
    "    f\"Training Time: {t1:.3} seconds\"\n",
    ")"
   ]
  },
  {
   "cell_type": "code",
   "execution_count": null,
   "metadata": {},
   "outputs": [],
   "source": [
    "# Predict with test set\n",
    "t0 = time.time()\n",
    "ypred, ystd = mogp_model.predict(xtest, return_std=True)\n",
    "t1 = time.time() - t0\n",
    "# Get Stats\n",
    "mae = mean_absolute_error(ypred, ytest)\n",
    "mse = mean_squared_error(ypred, ytest)\n",
    "rmse = np.sqrt(mse)\n",
    "r2 = r2_score(ypred, ytest)\n",
    "\n",
    "print(\n",
    "    f\"GP Model:\\n\"\n",
    "    f\"MAE: {mae:.3f}\\nMSE: {mse:.3f}\\nRMSE: {rmse:.3f}\\nR2: {r2:.3f}\" \n",
    "    f\" \\nTime: {t1:.3} seconds\"\n",
    ")"
   ]
  },
  {
   "cell_type": "code",
   "execution_count": null,
   "metadata": {},
   "outputs": [],
   "source": []
  }
 ],
 "metadata": {
  "kernelspec": {
   "display_name": "Python [conda env:ml4ocn]",
   "language": "python",
   "name": "conda-env-ml4ocn-py"
  },
  "language_info": {
   "codemirror_mode": {
    "name": "ipython",
    "version": 3
   },
   "file_extension": ".py",
   "mimetype": "text/x-python",
   "name": "python",
   "nbconvert_exporter": "python",
   "pygments_lexer": "ipython3",
   "version": "3.6.8"
  }
 },
 "nbformat": 4,
 "nbformat_minor": 2
}
