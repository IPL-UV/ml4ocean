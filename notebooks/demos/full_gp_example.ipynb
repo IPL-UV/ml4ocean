{
 "cells": [
  {
   "cell_type": "markdown",
   "metadata": {},
   "source": [
    "# Full GP Example"
   ]
  },
  {
   "cell_type": "markdown",
   "metadata": {},
   "source": [
    "This is a walk-through of a full example using the GP algorithm. This algorithm is a bit expensive to train but I think it is a good starting point. We can upgrade this method to more sparse methods so that we can train"
   ]
  },
  {
   "cell_type": "code",
   "execution_count": 1,
   "metadata": {},
   "outputs": [],
   "source": [
    "import numpy as np\n",
    "from sklearn.datasets import make_regression\n",
    "from sklearn.model_selection import train_test_split\n",
    "from sklearn.base import clone\n",
    "from sklearn.decomposition import PCA\n",
    "from sklearn.gaussian_process import GaussianProcessRegressor\n",
    "from sklearn.gaussian_process.kernels import WhiteKernel, ConstantKernel, RBF\n",
    "from sklearn.multioutput import MultiOutputRegressor\n",
    "from sklearn.compose import TransformedTargetRegressor\n",
    "from sklearn.metrics import mean_absolute_error, mean_squared_error, r2_score\n",
    "import time as time"
   ]
  },
  {
   "cell_type": "code",
   "execution_count": 2,
   "metadata": {},
   "outputs": [
    {
     "ename": "ModuleNotFoundError",
     "evalue": "No module named 'src'",
     "output_type": "error",
     "traceback": [
      "\u001b[0;31m---------------------------------------------------------------------------\u001b[0m",
      "\u001b[0;31mModuleNotFoundError\u001b[0m                       Traceback (most recent call last)",
      "\u001b[0;32m<ipython-input-2-fb82ad241d94>\u001b[0m in \u001b[0;36m<module>\u001b[0;34m\u001b[0m\n\u001b[1;32m      2\u001b[0m \u001b[0msys\u001b[0m\u001b[0;34m.\u001b[0m\u001b[0mpath\u001b[0m\u001b[0;34m.\u001b[0m\u001b[0minsert\u001b[0m\u001b[0;34m(\u001b[0m\u001b[0;36m0\u001b[0m\u001b[0;34m,\u001b[0m \u001b[0;34m\"/Users/eman/Documents/code_projects/ml4ocean\"\u001b[0m\u001b[0;34m)\u001b[0m\u001b[0;34m\u001b[0m\u001b[0;34m\u001b[0m\u001b[0m\n\u001b[1;32m      3\u001b[0m \u001b[0;34m\u001b[0m\u001b[0m\n\u001b[0;32m----> 4\u001b[0;31m \u001b[0;32mfrom\u001b[0m \u001b[0msrc\u001b[0m\u001b[0;34m.\u001b[0m\u001b[0mmodels\u001b[0m\u001b[0;34m.\u001b[0m\u001b[0mutils\u001b[0m \u001b[0;32mimport\u001b[0m \u001b[0mMultiTaskGP\u001b[0m\u001b[0;34m,\u001b[0m \u001b[0mPCATargetTransform\u001b[0m\u001b[0;34m\u001b[0m\u001b[0;34m\u001b[0m\u001b[0m\n\u001b[0m",
      "\u001b[0;31mModuleNotFoundError\u001b[0m: No module named 'src'"
     ]
    }
   ],
   "source": [
    "import sys\n",
    "sys.path.insert(0, \"/Users/eman/Documents/code_projects/ml4ocean\")\n",
    "\n",
    "from src.models.utils import MultiTaskGP, PCATargetTransform"
   ]
  },
  {
   "cell_type": "code",
   "execution_count": 3,
   "metadata": {},
   "outputs": [],
   "source": [
    "# Make Fake Dataset\n",
    "X, y = make_regression(\n",
    "    n_samples=1000, \n",
    "    n_features=10,    # Total Features\n",
    "    n_informative=3,   # Informative Features \n",
    "    n_targets=10,\n",
    "    bias=10,\n",
    "    noise=0.8,\n",
    "    random_state=123\n",
    "\n",
    ")\n",
    "\n",
    "# Training and Testing\n",
    "xtrain, xtest, ytrain, ytest = train_test_split(X, y, train_size=500, random_state=123)"
   ]
  },
  {
   "cell_type": "markdown",
   "metadata": {},
   "source": [
    "## GP - Standard"
   ]
  },
  {
   "cell_type": "code",
   "execution_count": 94,
   "metadata": {},
   "outputs": [],
   "source": [
    "# define kernel function\n",
    "kernel = ConstantKernel() * RBF() + WhiteKernel()\n",
    "\n",
    "# define GP model\n",
    "gp_model = GaussianProcessRegressor(\n",
    "    kernel=kernel,            # kernel function (very important)\n",
    "    normalize_y=True,         # good standard practice\n",
    "    random_state=123,         # reproducibility\n",
    "    n_restarts_optimizer=10,  # good practice (avoids local minima)\n",
    ")\n",
    "\n",
    "\n",
    "# train GP Model\n",
    "t0 = time.time()\n",
    "gp_model.fit(xtrain, ytrain)\n",
    "t1 = time.time() - t0\n",
    "\n",
    "# Predictions\n",
    "ypred, ystd = gp_model.predict(xtest, return_std=True)\n"
   ]
  },
  {
   "cell_type": "code",
   "execution_count": 95,
   "metadata": {},
   "outputs": [
    {
     "name": "stdout",
     "output_type": "stream",
     "text": [
      "MAE: 0.697\n",
      "MSE: 0.762\n",
      "RMSE: 0.873\n",
      "R2: 1.000 \n",
      "Time: 10.6 seconds\n"
     ]
    }
   ],
   "source": [
    "# Get Stats\n",
    "mae = mean_absolute_error(ypred, ytest)\n",
    "mse = mean_squared_error(ypred, ytest)\n",
    "rmse = np.sqrt(mse)\n",
    "r2 = r2_score(ypred, ytest)\n",
    "\n",
    "print(\n",
    "    f\"MAE: {mae:.3f}\\nMSE: {mse:.3f}\\nRMSE: {rmse:.3f}\\nR2: {r2:.3f}\" \n",
    "    f\" \\nTime: {t1:.3} seconds\"\n",
    ")"
   ]
  },
  {
   "cell_type": "markdown",
   "metadata": {},
   "source": [
    "## GP - MultiOutput w. PCA Transformer (Manually)"
   ]
  },
  {
   "cell_type": "code",
   "execution_count": 96,
   "metadata": {},
   "outputs": [],
   "source": [
    "# define kernel function\n",
    "kernel = ConstantKernel() * RBF() + WhiteKernel()\n",
    "\n",
    "# define GP model\n",
    "gp_model = GaussianProcessRegressor(\n",
    "    kernel=kernel,            # kernel function (very important)\n",
    "    normalize_y=True,         # good standard practice\n",
    "    random_state=123,         # reproducibility\n",
    "    n_restarts_optimizer=10,  # good practice (avoids local minima)\n",
    ")\n",
    "\n",
    "# Define target transformer\n",
    "pca_model = PCA(n_components=3)\n",
    "\n",
    "# Transform Targes\n",
    "ytrain_red = pca_model.fit_transform(ytrain)\n",
    "\n",
    "\n",
    "# train GP Model\n",
    "t0 = time.time()\n",
    "gp_model.fit(xtrain, ytrain_red)\n",
    "t1 = time.time() - t0\n",
    "\n",
    "# Predictions\n",
    "ypred_red, ystd = gp_model.predict(xtest, return_std=True)\n",
    "\n",
    "# Inverse transform predictions\n",
    "ypred = pca_model.inverse_transform(ypred_red)"
   ]
  },
  {
   "cell_type": "code",
   "execution_count": 97,
   "metadata": {},
   "outputs": [
    {
     "name": "stdout",
     "output_type": "stream",
     "text": [
      "MAE: 0.690\n",
      "MSE: 0.748\n",
      "RMSE: 0.865\n",
      "R2: 1.000 \n",
      "Time: 5.88 seconds\n"
     ]
    }
   ],
   "source": [
    "# Get Stats\n",
    "mae = mean_absolute_error(ypred, ytest)\n",
    "mse = mean_squared_error(ypred, ytest)\n",
    "rmse = np.sqrt(mse)\n",
    "r2 = r2_score(ypred, ytest)\n",
    "\n",
    "print(\n",
    "    f\"MAE: {mae:.3f}\\nMSE: {mse:.3f}\\nRMSE: {rmse:.3f}\\nR2: {r2:.3f}\" \n",
    "    f\" \\nTime: {t1:.3} seconds\"\n",
    ")"
   ]
  },
  {
   "cell_type": "markdown",
   "metadata": {},
   "source": [
    "#### w. TargetTransformerClass\n",
    "\n",
    "**Note**: This does not give confidence intervals. I will have to modify the code-base later for this to work."
   ]
  },
  {
   "cell_type": "code",
   "execution_count": 99,
   "metadata": {},
   "outputs": [
    {
     "name": "stdout",
     "output_type": "stream",
     "text": [
      "MAE: 0.690\n",
      "MSE: 0.748\n",
      "RMSE: 0.865\n",
      "R2: 1.000 \n",
      "Time: 6.01 seconds\n"
     ]
    }
   ],
   "source": [
    "# define kernel function\n",
    "kernel = ConstantKernel() * RBF() + WhiteKernel()\n",
    "\n",
    "# define GP model\n",
    "gp_model = GaussianProcessRegressor(\n",
    "    kernel=kernel,            # kernel function (very important)\n",
    "    normalize_y=True,         # good standard practice\n",
    "    random_state=123,         # reproducibility\n",
    "    n_restarts_optimizer=10,  # good practice (avoids local minima)\n",
    ")\n",
    "\n",
    "# Define target transformer\n",
    "pca_model = PCA(n_components=3)\n",
    "\n",
    "\n",
    "# Define Wrapper for target transformation\n",
    "full_regressor = TransformedTargetRegressor(\n",
    "    regressor=gp_model,\n",
    "    transformer=pca_model,   # same number of components as informative\n",
    "    check_inverse=False                 # PCA is not a direct inverse transformation\n",
    "\n",
    ")\n",
    "\n",
    "# train GP Model\n",
    "t0 = time.time()\n",
    "full_regressor.fit(xtrain, ytrain)\n",
    "t1 = time.time() - t0\n",
    "\n",
    "# Predictions\n",
    "ypred = full_regressor.predict(xtest)\n",
    "\n",
    "# Get Stats\n",
    "mae = mean_absolute_error(ypred, ytest)\n",
    "mse = mean_squared_error(ypred, ytest)\n",
    "rmse = np.sqrt(mse)\n",
    "r2 = r2_score(ypred, ytest)\n",
    "\n",
    "print(\n",
    "    f\"MAE: {mae:.3f}\\nMSE: {mse:.3f}\\nRMSE: {rmse:.3f}\\nR2: {r2:.3f}\" \n",
    "    f\" \\nTime: {t1:.3} seconds\"\n",
    ")"
   ]
  },
  {
   "cell_type": "markdown",
   "metadata": {},
   "source": [
    "## GP - Multitask w. PCA Transformer"
   ]
  },
  {
   "cell_type": "markdown",
   "metadata": {},
   "source": [
    "**Note**: still a working progress..."
   ]
  },
  {
   "cell_type": "code",
   "execution_count": 102,
   "metadata": {},
   "outputs": [
    {
     "name": "stdout",
     "output_type": "stream",
     "text": [
      "GP Model:\n",
      "MAE: 67.818\n",
      "MSE: 7901.428\n",
      "RMSE: 88.890\n",
      "R2: -10.353 \n",
      "Time: 12.9 seconds\n"
     ]
    }
   ],
   "source": [
    "# define kernel function\n",
    "kernel = ConstantKernel() * RBF() + WhiteKernel()\n",
    "\n",
    "# define GP model\n",
    "gp_model = GaussianProcessRegressor(\n",
    "    kernel=kernel,            # kernel function (very important)\n",
    "    normalize_y=True,         # good standard practice\n",
    "    random_state=123,         # reproducibility\n",
    "    n_restarts_optimizer=10,  # good practice (avoids local minima)\n",
    ")\n",
    "\n",
    "# Define Multioutput function\n",
    "gp_model_multi = MultiOutputRegressor(\n",
    "    gp_model, \n",
    "    n_jobs=1,              # Number of cores to use to parallelize the training\n",
    ")\n",
    "\n",
    "# Define target transformer\n",
    "pca_model = PCA(n_components=3)\n",
    "\n",
    "# Define Wrapper for target transformation\n",
    "full_regressor = TransformedTargetRegressor(\n",
    "    regressor=gp_model_multi,\n",
    "    transformer=pca_model,   # same number of components as informative\n",
    "    check_inverse=False                 # PCA is not a direct inverse transformation\n",
    "\n",
    ")\n",
    "\n",
    "\n",
    "# Fit Model\n",
    "t0 = time.time()\n",
    "full_regressor.fit(xtrain, ytrain)\n",
    "t1 = time.time() - t0\n",
    "\n",
    "# Predict with test set\n",
    "ypred = full_regressor.predict(xtest)\n",
    "\n",
    "# Get Stats\n",
    "mae = mean_absolute_error(ypred, ytest)\n",
    "mse = mean_squared_error(ypred, ytest)\n",
    "rmse = np.sqrt(mse)\n",
    "r2 = r2_score(ypred, ytest)\n",
    "\n",
    "print(\n",
    "    f\"GP Model:\\n\"\n",
    "    f\"MAE: {mae:.3f}\\nMSE: {mse:.3f}\\nRMSE: {rmse:.3f}\\nR2: {r2:.3f}\" \n",
    "    f\" \\nTime: {t1:.3} seconds\"\n",
    ")"
   ]
  },
  {
   "cell_type": "markdown",
   "metadata": {},
   "source": [
    "Interestingly enough, we got worse results for this model than the previous. Probably because of the uninformative features for each layer. It makes me skeptical to use the multi-task GP."
   ]
  },
  {
   "cell_type": "code",
   "execution_count": null,
   "metadata": {},
   "outputs": [],
   "source": []
  }
 ],
 "metadata": {
  "kernelspec": {
   "display_name": "Python [conda env:ml4ocn]",
   "language": "python",
   "name": "conda-env-ml4ocn-py"
  },
  "language_info": {
   "codemirror_mode": {
    "name": "ipython",
    "version": 3
   },
   "file_extension": ".py",
   "mimetype": "text/x-python",
   "name": "python",
   "nbconvert_exporter": "python",
   "pygments_lexer": "ipython3",
   "version": "3.6.7"
  }
 },
 "nbformat": 4,
 "nbformat_minor": 2
}
