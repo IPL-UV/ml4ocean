{
 "cells": [
  {
   "cell_type": "markdown",
   "metadata": {},
   "source": [
    "# PCA Target Transformation"
   ]
  },
  {
   "cell_type": "markdown",
   "metadata": {},
   "source": [
    "This notebook is a simple demonstration of the `TransformedTargetRegressor` found in the [sklearn library](https://scikit-learn.org/stable/modules/generated/sklearn.compose.TransformedTargetRegressor.html). It's usefull if we have a multidimensional labels/output vector and we wish to reduce the dimensionality of that vector. We can use many different transformations but for out application, we chose to use the PCA transformation."
   ]
  },
  {
   "cell_type": "code",
   "execution_count": 17,
   "metadata": {},
   "outputs": [],
   "source": [
    "import numpy as np\n",
    "from sklearn.datasets import make_regression\n",
    "from sklearn.model_selection import train_test_split\n",
    "from sklearn.decomposition import PCA\n",
    "from sklearn.linear_model import LinearRegression\n",
    "from sklearn.compose import TransformedTargetRegressor\n",
    "from sklearn.metrics import mean_absolute_error, mean_squared_error, r2_score\n",
    "import time as time"
   ]
  },
  {
   "cell_type": "code",
   "execution_count": 14,
   "metadata": {},
   "outputs": [],
   "source": [
    "# Make Fake Dataset\n",
    "X, y = make_regression(\n",
    "    n_samples=10000, \n",
    "    n_features=1000,    # Total Features\n",
    "    n_informative=10,   # Informative Features \n",
    "    n_targets=100,\n",
    "    bias=100,\n",
    "    noise=0.8,\n",
    "    random_state=123\n",
    ")\n",
    "\n",
    "# Training and Testing\n",
    "xtrain, xtest, ytrain, ytest = train_test_split(X, y, train_size=5000, random_state=123)"
   ]
  },
  {
   "cell_type": "markdown",
   "metadata": {},
   "source": [
    "## Test I - Standard MultiOutput"
   ]
  },
  {
   "cell_type": "code",
   "execution_count": 18,
   "metadata": {},
   "outputs": [
    {
     "name": "stdout",
     "output_type": "stream",
     "text": [
      "MAE: 0.713\n",
      "MSE: 0.799\n",
      "RMSE: 0.894\n",
      "R2: 1.000 \n",
      "Time: 0.639 seconds\n"
     ]
    }
   ],
   "source": [
    "# Initialize Model\n",
    "linear_model = LinearRegression()\n",
    "\n",
    "# Fit model to data\n",
    "t0 = time.time()\n",
    "linear_model.fit(xtrain, ytrain)\n",
    "t1 = time.time() - t0\n",
    "\n",
    "# predict new datapoints\n",
    "ypred = linear_model.predict(xtest)\n",
    "\n",
    "# Get Stats\n",
    "mae = mean_absolute_error(ypred, ytest)\n",
    "mse = mean_squared_error(ypred, ytest)\n",
    "rmse = np.sqrt(mse)\n",
    "r2 = r2_score(ypred, ytest)\n",
    "\n",
    "print(\n",
    "    f\"MAE: {mae:.3f}\\nMSE: {mse:.3f}\\nRMSE: {rmse:.3f}\\nR2: {r2:.3f}\" \n",
    "    f\" \\nTime: {t1:.3} seconds\"\n",
    ")"
   ]
  },
  {
   "cell_type": "markdown",
   "metadata": {},
   "source": [
    "## Test II - PCA Transformation"
   ]
  },
  {
   "cell_type": "code",
   "execution_count": 19,
   "metadata": {},
   "outputs": [
    {
     "name": "stdout",
     "output_type": "stream",
     "text": [
      "MAE: 0.647\n",
      "MSE: 0.657\n",
      "RMSE: 0.811\n",
      "R2: 1.000 \n",
      "Time: 0.639 seconds\n"
     ]
    }
   ],
   "source": [
    "# Define ml model\n",
    "linear_model = LinearRegression()\n",
    "\n",
    "# Define target transformer\n",
    "pca_model = PCA(n_components=10)\n",
    "\n",
    "# Define Wrapper for target transformation\n",
    "full_regressor = TransformedTargetRegressor(\n",
    "    regressor=linear_model,\n",
    "    transformer=pca_model,   # same number of components as informative\n",
    "    check_inverse=False                 # PCA is not a direct inverse transformation\n",
    "\n",
    ")\n",
    "\n",
    "# Fit Regressor to data\n",
    "full_regressor.fit(xtrain, ytrain)\n",
    "\n",
    "# Predict on new inputs\n",
    "ypred = full_regressor.predict(xtest)\n",
    "\n",
    "# Get Stats\n",
    "mae = mean_absolute_error(ypred, ytest)\n",
    "mse = mean_squared_error(ypred, ytest)\n",
    "rmse = np.sqrt(mse)\n",
    "r2 = r2_score(ypred, ytest)\n",
    "\n",
    "# Print Results\n",
    "print(\n",
    "    f\"MAE: {mae:.3f}\\nMSE: {mse:.3f}\\nRMSE: {rmse:.3f}\\nR2: {r2:.3f}\" \n",
    "    f\" \\nTime: {t1:.3} seconds\"\n",
    ")"
   ]
  },
  {
   "cell_type": "markdown",
   "metadata": {},
   "source": [
    "Significantly lower MAE, MSE and RMSE than without the target transformation. Worth keeping in ML toolbox for the future."
   ]
  },
  {
   "cell_type": "code",
   "execution_count": null,
   "metadata": {},
   "outputs": [],
   "source": []
  }
 ],
 "metadata": {
  "kernelspec": {
   "display_name": "Python [conda env:sci_py36]",
   "language": "python",
   "name": "conda-env-sci_py36-py"
  },
  "language_info": {
   "codemirror_mode": {
    "name": "ipython",
    "version": 3
   },
   "file_extension": ".py",
   "mimetype": "text/x-python",
   "name": "python",
   "nbconvert_exporter": "python",
   "pygments_lexer": "ipython3",
   "version": "3.6.8"
  }
 },
 "nbformat": 4,
 "nbformat_minor": 2
}
