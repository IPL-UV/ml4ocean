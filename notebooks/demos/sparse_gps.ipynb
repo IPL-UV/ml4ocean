{
 "cells": [
  {
   "cell_type": "markdown",
   "metadata": {},
   "source": [
    "# More Scalable GPs"
   ]
  },
  {
   "cell_type": "markdown",
   "metadata": {},
   "source": [
    "In this notebook I will demonstrate a few implementations of some more advanced and scalable GPs. These methods use approximations via inducing inputs (a smart subset of the data to represent the entire dataset). This allows the GP algorithms to run in $\\mathcal{O}(NM^2)$ instead of $\\mathcal{O}(N^3)$ where $N$ are the number of samples and $M$ are the number of inducing inputs.\n",
    "\n",
    "The algorithms to be used below are as follows:\n",
    "* Sparse GP - FITC Approximation (**TODO**)\n",
    "* Sparse GP - VFE Approximation (**Done**)"
   ]
  },
  {
   "cell_type": "code",
   "execution_count": 1,
   "metadata": {},
   "outputs": [],
   "source": [
    "import numpy as np\n",
    "from sklearn.datasets import make_regression\n",
    "from sklearn.model_selection import train_test_split\n",
    "from sklearn.base import clone\n",
    "from sklearn.decomposition import PCA\n",
    "# from sklearn.multioutput import MultiOutputRegressor\n",
    "from sklearn.compose import TransformedTargetRegressor\n",
    "from sklearn.metrics import mean_absolute_error, mean_squared_error, r2_score\n",
    "from sklearn.utils.estimator_checks import check_estimator\n",
    "import time as time\n",
    "\n",
    "%load_ext autoreload\n",
    "%autoreload 2"
   ]
  },
  {
   "cell_type": "code",
   "execution_count": 2,
   "metadata": {},
   "outputs": [],
   "source": [
    "# check_estimator(SVGP)"
   ]
  },
  {
   "cell_type": "markdown",
   "metadata": {},
   "source": [
    "#### Import Module\n",
    "\n",
    "So here you need to add the path to the models directory. There are automated ways to do this but just for a simple case, you can just manually add the directoy whenever you start the notebook. See below."
   ]
  },
  {
   "cell_type": "code",
   "execution_count": 7,
   "metadata": {},
   "outputs": [
    {
     "name": "stdout",
     "output_type": "stream",
     "text": [
      "The autoreload extension is already loaded. To reload it, use:\n",
      "  %reload_ext autoreload\n"
     ]
    }
   ],
   "source": [
    "import sys\n",
    "\n",
    "# Add the path to the models\n",
    "sys.path.insert(0, '/Users/eman/Documents/code_projects/ml4ocean')\n",
    "sys.path.insert(0, '/home/emmanuel/projects/2019_ocean')\n",
    "from src.models.utils import MultiTaskGP\n",
    "\n",
    "# Import the GP Functions\n",
    "from src.models.gpy import SGP, SVGP\n",
    "import GPy\n",
    "\n",
    "%load_ext autoreload\n",
    "%autoreload 2"
   ]
  },
  {
   "cell_type": "code",
   "execution_count": 8,
   "metadata": {},
   "outputs": [
    {
     "data": {
      "text/plain": [
       "((1000, 20), (1000, 30))"
      ]
     },
     "execution_count": 8,
     "metadata": {},
     "output_type": "execute_result"
    }
   ],
   "source": [
    "# Make Fake Dataset\n",
    "X, y = make_regression(\n",
    "    n_samples=10000, \n",
    "    n_features=20,    # Total Features\n",
    "    n_informative=3,   # Informative Features \n",
    "    n_targets=30,\n",
    "    bias=10,\n",
    "    noise=0.8,\n",
    "    random_state=123\n",
    "\n",
    ")\n",
    "train_size = 1000\n",
    "\n",
    "# Training and Testing\n",
    "xtrain, xtest, ytrain, ytest = train_test_split(\n",
    "    X, y, train_size=train_size, random_state=123\n",
    ")\n",
    "\n",
    "xtrain.shape, ytrain.shape"
   ]
  },
  {
   "cell_type": "markdown",
   "metadata": {},
   "source": [
    "### Sparse Variational GP - MultiOutput (Shared Kernel, Shared Outputs)"
   ]
  },
  {
   "cell_type": "code",
   "execution_count": 10,
   "metadata": {},
   "outputs": [
    {
     "name": "stdout",
     "output_type": "stream",
     "text": [
      "Optimization restart 1/1, f = 144299.94022295417\n",
      " Training Time: 15.4 seconds\n"
     ]
    }
   ],
   "source": [
    "# Define Kernel Function\n",
    "input_dimensions = X.shape[1]\n",
    "kernel = GPy.kern.RBF(\n",
    "    input_dim=input_dimensions, \n",
    "    ARD=False\n",
    ")\n",
    "\n",
    "# define GP model\n",
    "n_inducing = 25\n",
    "gp_model = SVGP(\n",
    "    kernel=kernel,\n",
    "    n_inducing=n_inducing,\n",
    "    max_iters=300, \n",
    "    optimizer='lbfgs',\n",
    "    verbose=True,\n",
    "    n_restarts=1\n",
    ")\n",
    "\n",
    "\n",
    "# train GP Model\n",
    "# print(xtrain, ytrain)\n",
    "t0 = time.time()\n",
    "gp_model.fit(xtrain, ytrain)\n",
    "t1 = time.time() - t0\n",
    "\n",
    "# Predictions\n",
    "ypred, ystd = gp_model.predict(xtest, return_std=True)\n",
    "\n",
    "print(\n",
    "#     f\"MAE: {mae:.3f}\\nMSE: {mse:.3f}\\nRMSE: {rmse:.3f}\\nR2: {r2:.3f}\" \n",
    "    f\"Training Time: {t1:.3} seconds\"\n",
    ")"
   ]
  },
  {
   "cell_type": "code",
   "execution_count": 11,
   "metadata": {},
   "outputs": [
    {
     "data": {
      "text/plain": [
       "((9000, 30), (9000,))"
      ]
     },
     "execution_count": 11,
     "metadata": {},
     "output_type": "execute_result"
    }
   ],
   "source": [
    "ypred.shape, ystd.shape"
   ]
  },
  {
   "cell_type": "code",
   "execution_count": 80,
   "metadata": {},
   "outputs": [
    {
     "data": {
      "text/html": [
       "<style type=\"text/css\">\n",
       ".pd{\n",
       "    font-family: \"Courier New\", Courier, monospace !important;\n",
       "    width: 100%;\n",
       "    padding: 3px;\n",
       "}\n",
       "</style>\n",
       "\n",
       "<p class=pd>\n",
       "<b>Model</b>: sparse_gp<br>\n",
       "<b>Objective</b>: 6854.572594443336<br>\n",
       "<b>Number of Parameters</b>: 128<br>\n",
       "<b>Number of Optimization Parameters</b>: 128<br>\n",
       "<b>Updates</b>: True<br>\n",
       "</p>\n",
       "<style type=\"text/css\">\n",
       ".tg  {font-family:\"Courier New\", Courier, monospace !important;padding:2px 3px;word-break:normal;border-collapse:collapse;border-spacing:0;border-color:#DCDCDC;margin:0px auto;width:100%;}\n",
       ".tg td{font-family:\"Courier New\", Courier, monospace !important;font-weight:bold;color:#444;background-color:#F7FDFA;border-style:solid;border-width:1px;overflow:hidden;word-break:normal;border-color:#DCDCDC;}\n",
       ".tg th{font-family:\"Courier New\", Courier, monospace !important;font-weight:normal;color:#fff;background-color:#26ADE4;border-style:solid;border-width:1px;overflow:hidden;word-break:normal;border-color:#DCDCDC;}\n",
       ".tg .tg-left{font-family:\"Courier New\", Courier, monospace !important;font-weight:normal;text-align:left;}\n",
       ".tg .tg-center{font-family:\"Courier New\", Courier, monospace !important;font-weight:normal;text-align:center;}\n",
       ".tg .tg-right{font-family:\"Courier New\", Courier, monospace !important;font-weight:normal;text-align:right;}\n",
       "</style>\n",
       "<table class=\"tg\"><tr><th><b>  sparse_gp.             </b></th><th><b>             value</b></th><th><b>constraints</b></th><th><b>priors</b></th></tr>\n",
       "<tr><td class=tg-left>  inducing inputs        </td><td class=tg-right>           (25, 5)</td><td class=tg-center>           </td><td class=tg-center>      </td></tr>\n",
       "<tr><td class=tg-left>  rbf.variance           </td><td class=tg-right> 2164.632845275789</td><td class=tg-center>    +ve    </td><td class=tg-center>      </td></tr>\n",
       "<tr><td class=tg-left>  rbf.lengthscale        </td><td class=tg-right>12.569418735667357</td><td class=tg-center>    +ve    </td><td class=tg-center>      </td></tr>\n",
       "<tr><td class=tg-left>  Gaussian_noise.variance</td><td class=tg-right> 2.629578115381894</td><td class=tg-center>    +ve    </td><td class=tg-center>      </td></tr>\n",
       "</table>"
      ],
      "text/plain": [
       "<GPy.models.sparse_gp_regression.SparseGPRegression at 0x1a36239860>"
      ]
     },
     "execution_count": 80,
     "metadata": {},
     "output_type": "execute_result"
    }
   ],
   "source": [
    "gp_model.display_model()"
   ]
  },
  {
   "cell_type": "code",
   "execution_count": 81,
   "metadata": {},
   "outputs": [
    {
     "name": "stdout",
     "output_type": "stream",
     "text": [
      "MAE: 0.955\n",
      "MSE: 1.717\n",
      "RMSE: 1.310\n",
      "R2: 1.000 \n",
      "Time: 4.77 seconds\n"
     ]
    }
   ],
   "source": [
    "# Get Stats\n",
    "mae = mean_absolute_error(ypred, ytest)\n",
    "mse = mean_squared_error(ypred, ytest)\n",
    "rmse = np.sqrt(mse)\n",
    "r2 = r2_score(ypred, ytest)\n",
    "\n",
    "print(\n",
    "    f\"MAE: {mae:.3f}\\nMSE: {mse:.3f}\\nRMSE: {rmse:.3f}\\nR2: {r2:.3f}\" \n",
    "    f\" \\nTime: {t1:.3} seconds\"\n",
    ")"
   ]
  },
  {
   "cell_type": "markdown",
   "metadata": {},
   "source": [
    "### SVGP - Multi-Task"
   ]
  },
  {
   "cell_type": "code",
   "execution_count": 82,
   "metadata": {},
   "outputs": [
    {
     "name": "stdout",
     "output_type": "stream",
     "text": [
      "25\n",
      "25\n",
      "25\n",
      "25\n",
      "25\n",
      "Training \n",
      "Time: 8.95 seconds\n"
     ]
    }
   ],
   "source": [
    "# Define Kernel Function\n",
    "input_dimensions = X.shape[1]\n",
    "kernel = GPy.kern.RBF(\n",
    "    input_dim=input_dimensions, \n",
    "    ARD=False\n",
    ")\n",
    "\n",
    "# define GP model\n",
    "n_inducing = 25\n",
    "gp_model = SVGP(\n",
    "    kernel=kernel,\n",
    "    n_inducing=n_inducing,\n",
    "    max_iters=300, \n",
    "    optimizer='lbfgs',\n",
    "    verbose=False,\n",
    "    n_restarts=0\n",
    ")\n",
    "\n",
    "# Define Multioutput function\n",
    "gp_model_multi = MultiTaskGP(\n",
    "    gp_model, \n",
    "    n_jobs=1,              # Number of cores to use to parallelize the training\n",
    ")\n",
    "\n",
    "# train GP Model\n",
    "t0 = time.time()\n",
    "gp_model_multi.fit(xtrain, ytrain)\n",
    "t1 = time.time() - t0\n",
    "\n",
    "print(\n",
    "    f\"Training \\nTime: {t1:.3} seconds\"\n",
    ")"
   ]
  },
  {
   "cell_type": "code",
   "execution_count": 83,
   "metadata": {},
   "outputs": [
    {
     "data": {
      "text/plain": [
       "((500, 5), (500,))"
      ]
     },
     "execution_count": 83,
     "metadata": {},
     "output_type": "execute_result"
    }
   ],
   "source": [
    "ypred1.shape, ystd.shape"
   ]
  },
  {
   "cell_type": "code",
   "execution_count": 84,
   "metadata": {},
   "outputs": [
    {
     "name": "stdout",
     "output_type": "stream",
     "text": [
      "return std\n",
      "(500, 5) (500, 5)\n",
      "Dont return std\n",
      "GP Model:\n",
      "MAE: 5.150\n",
      "MSE: 77.381\n",
      "RMSE: 8.797\n",
      "R2: 0.992 \n",
      "Time: 0.00756 seconds\n"
     ]
    }
   ],
   "source": [
    "# Predict with test set\n",
    "t0 = time.time()\n",
    "ypred1, ystd = gp_model_multi.predict(xtest, return_std=True)\n",
    "print(ypred.shape, ystd.shape)\n",
    "ypred2 = gp_model_multi.predict(xtest)\n",
    "np.testing.assert_array_equal(ypred1, ypred2)\n",
    "t1 = time.time() - t0\n",
    "# Get Stats\n",
    "mae = mean_absolute_error(ypred2, ytest)\n",
    "mse = mean_squared_error(ypred2, ytest)\n",
    "rmse = np.sqrt(mse)\n",
    "r2 = r2_score(ypred2, ytest)\n",
    "\n",
    "print(\n",
    "    f\"GP Model:\\n\"\n",
    "    f\"MAE: {mae:.3f}\\nMSE: {mse:.3f}\\nRMSE: {rmse:.3f}\\nR2: {r2:.3f}\" \n",
    "    f\" \\nTime: {t1:.3} seconds\"\n",
    ")"
   ]
  },
  {
   "cell_type": "code",
   "execution_count": 85,
   "metadata": {},
   "outputs": [
    {
     "name": "stdout",
     "output_type": "stream",
     "text": [
      "MAE: 0.955\n",
      "MSE: 1.717\n",
      "RMSE: 1.310\n",
      "R2: 1.000 \n",
      "Time: 0.00756 seconds\n"
     ]
    }
   ],
   "source": [
    "# Get Stats\n",
    "mae = mean_absolute_error(ypred, ytest)\n",
    "mse = mean_squared_error(ypred, ytest)\n",
    "rmse = np.sqrt(mse)\n",
    "r2 = r2_score(ypred, ytest)\n",
    "\n",
    "print(\n",
    "    f\"MAE: {mae:.3f}\\nMSE: {mse:.3f}\\nRMSE: {rmse:.3f}\\nR2: {r2:.3f}\" \n",
    "    f\" \\nTime: {t1:.3} seconds\"\n",
    ")"
   ]
  },
  {
   "cell_type": "code",
   "execution_count": null,
   "metadata": {},
   "outputs": [],
   "source": [
    "# Inverse transform predictions\n",
    "# ypred = pca_model.inverse_transform(ypred_red)"
   ]
  },
  {
   "cell_type": "code",
   "execution_count": null,
   "metadata": {},
   "outputs": [],
   "source": []
  },
  {
   "cell_type": "code",
   "execution_count": null,
   "metadata": {},
   "outputs": [],
   "source": []
  },
  {
   "cell_type": "code",
   "execution_count": null,
   "metadata": {},
   "outputs": [],
   "source": [
    "# Define target transformer\n",
    "pca_model = PCA(n_components=3)\n",
    "\n",
    "# Transform Targes\n",
    "ytrain_red = pca_model.fit_transform(ytrain)"
   ]
  }
 ],
 "metadata": {
  "kernelspec": {
   "display_name": "Python [conda env:2019_ml_ocean_gpu]",
   "language": "python",
   "name": "conda-env-2019_ml_ocean_gpu-py"
  },
  "language_info": {
   "codemirror_mode": {
    "name": "ipython",
    "version": 3
   },
   "file_extension": ".py",
   "mimetype": "text/x-python",
   "name": "python",
   "nbconvert_exporter": "python",
   "pygments_lexer": "ipython3",
   "version": "3.6.8"
  }
 },
 "nbformat": 4,
 "nbformat_minor": 2
}
