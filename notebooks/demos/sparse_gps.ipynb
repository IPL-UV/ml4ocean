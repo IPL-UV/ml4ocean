{
 "cells": [
  {
   "cell_type": "markdown",
   "metadata": {},
   "source": [
    "# More Scalable GPs"
   ]
  },
  {
   "cell_type": "markdown",
   "metadata": {},
   "source": [
    "In this notebook I will demonstrate a few implementations of some more advanced and scalable GPs. These methods use approximations via inducing inputs (a smart subset of the data to represent the entire dataset). This allows the GP algorithms to run in $\\mathcal{O}(NM^2)$ instead of $\\mathcal{O}(N^3)$ where $N$ are the number of samples and $M$ are the number of inducing inputs.\n",
    "\n",
    "The algorithms to be used below are as follows:\n",
    "* Sparse GP - FITC Approximation (**TODO**)\n",
    "* Sparse GP - VFE Approximation (**Done**)"
   ]
  },
  {
   "cell_type": "code",
   "execution_count": 24,
   "metadata": {},
   "outputs": [],
   "source": [
    "import numpy as np\n",
    "from sklearn.datasets import make_regression\n",
    "from sklearn.model_selection import train_test_split\n",
    "from sklearn.base import clone\n",
    "from sklearn.decomposition import PCA\n",
    "from sklearn.multioutput import MultiOutputRegressor\n",
    "from sklearn.compose import TransformedTargetRegressor\n",
    "from sklearn.metrics import mean_absolute_error, mean_squared_error, r2_score\n",
    "import time as time"
   ]
  },
  {
   "cell_type": "markdown",
   "metadata": {},
   "source": [
    "#### Import Module\n",
    "\n",
    "So here you need to add the path to the models directory. There are automated ways to do this but just for a simple case, you can just manually add the directoy whenever you start the notebook. See below."
   ]
  },
  {
   "cell_type": "code",
   "execution_count": 25,
   "metadata": {},
   "outputs": [
    {
     "name": "stdout",
     "output_type": "stream",
     "text": [
      "The autoreload extension is already loaded. To reload it, use:\n",
      "  %reload_ext autoreload\n"
     ]
    }
   ],
   "source": [
    "import sys\n",
    "\n",
    "# Add the path to the models\n",
    "sys.path.insert(0, '/Users/eman/Documents/code_projects/ml4ocean')\n",
    "\n",
    "# Import the GP Functions\n",
    "from src.models.gpy import SGP, SVGP\n",
    "import GPy\n",
    "\n",
    "%load_ext autoreload\n",
    "%autoreload 2"
   ]
  },
  {
   "cell_type": "code",
   "execution_count": 26,
   "metadata": {},
   "outputs": [
    {
     "name": "stderr",
     "output_type": "stream",
     "text": [
      " /Users/eman/anaconda3/envs/sci_py36/lib/python3.6/site-packages/sklearn/model_selection/_split.py:2179: FutureWarning:From version 0.21, test_size will always complement train_size unless both are specified.\n"
     ]
    },
    {
     "data": {
      "text/plain": [
       "((2000, 10), (2000, 10))"
      ]
     },
     "execution_count": 26,
     "metadata": {},
     "output_type": "execute_result"
    }
   ],
   "source": [
    "# Make Fake Dataset\n",
    "X, y = make_regression(\n",
    "    n_samples=5000, \n",
    "    n_features=10,    # Total Features\n",
    "    n_informative=3,   # Informative Features \n",
    "    n_targets=10,\n",
    "    bias=10,\n",
    "    noise=0.8,\n",
    "    random_state=123\n",
    "\n",
    ")\n",
    "train_size = 2000\n",
    "\n",
    "# Training and Testing\n",
    "xtrain, xtest, ytrain, ytest = train_test_split(\n",
    "    X, y, train_size=train_size, random_state=123\n",
    ")\n",
    "\n",
    "xtrain.shape, ytrain.shape"
   ]
  },
  {
   "cell_type": "markdown",
   "metadata": {},
   "source": [
    "### Sparse Variational GP"
   ]
  },
  {
   "cell_type": "code",
   "execution_count": 30,
   "metadata": {},
   "outputs": [
    {
     "name": "stderr",
     "output_type": "stream",
     "text": [
      " /Users/eman/anaconda3/envs/sci_py36/lib/python3.6/site-packages/GPy/kern/src/stationary.py:168: RuntimeWarning:overflow encountered in true_divide\n",
      " /Users/eman/anaconda3/envs/sci_py36/lib/python3.6/site-packages/GPy/kern/src/rbf.py:54: RuntimeWarning:invalid value encountered in multiply\n"
     ]
    },
    {
     "name": "stdout",
     "output_type": "stream",
     "text": [
      "Optimization restart 1/3, f = 26394.87495869398\n",
      "Optimization restart 2/3, f = 26847.46038106084\n",
      "Optimization restart 3/3, f = 26004.22769281268\n"
     ]
    }
   ],
   "source": [
    "# Define Kernel Function\n",
    "input_dimensions = X.shape[1]\n",
    "kernel = GPy.kern.RBF(\n",
    "    input_dim=input_dimensions, \n",
    "    ARD=False\n",
    ")\n",
    "\n",
    "# define GP model\n",
    "n_inducing = 100\n",
    "gp_model = SVGP(\n",
    "    kernel=kernel,\n",
    "    n_inducing=n_inducing,\n",
    "    max_iters=300, \n",
    "    optimizer='lbfgs',\n",
    "    verbose=True,\n",
    "    n_restarts=3\n",
    ")\n",
    "\n",
    "\n",
    "# train GP Model\n",
    "# print(xtrain, ytrain)\n",
    "t0 = time.time()\n",
    "gp_model.fit(xtrain, ytrain)\n",
    "t1 = time.time() - t0\n",
    "\n",
    "# Predictions\n",
    "ypred, ystd = gp_model.predict(xtest, return_std=True)"
   ]
  },
  {
   "cell_type": "code",
   "execution_count": 31,
   "metadata": {},
   "outputs": [
    {
     "data": {
      "text/html": [
       "<style type=\"text/css\">\n",
       ".pd{\n",
       "    font-family: \"Courier New\", Courier, monospace !important;\n",
       "    width: 100%;\n",
       "    padding: 3px;\n",
       "}\n",
       "</style>\n",
       "\n",
       "<p class=pd>\n",
       "<b>Model</b>: sparse_gp<br>\n",
       "<b>Objective</b>: 26004.22769281268<br>\n",
       "<b>Number of Parameters</b>: 1003<br>\n",
       "<b>Number of Optimization Parameters</b>: 1003<br>\n",
       "<b>Updates</b>: True<br>\n",
       "</p>\n",
       "<style type=\"text/css\">\n",
       ".tg  {font-family:\"Courier New\", Courier, monospace !important;padding:2px 3px;word-break:normal;border-collapse:collapse;border-spacing:0;border-color:#DCDCDC;margin:0px auto;width:100%;}\n",
       ".tg td{font-family:\"Courier New\", Courier, monospace !important;font-weight:bold;color:#444;background-color:#F7FDFA;border-style:solid;border-width:1px;overflow:hidden;word-break:normal;border-color:#DCDCDC;}\n",
       ".tg th{font-family:\"Courier New\", Courier, monospace !important;font-weight:normal;color:#fff;background-color:#26ADE4;border-style:solid;border-width:1px;overflow:hidden;word-break:normal;border-color:#DCDCDC;}\n",
       ".tg .tg-left{font-family:\"Courier New\", Courier, monospace !important;font-weight:normal;text-align:left;}\n",
       ".tg .tg-center{font-family:\"Courier New\", Courier, monospace !important;font-weight:normal;text-align:center;}\n",
       ".tg .tg-right{font-family:\"Courier New\", Courier, monospace !important;font-weight:normal;text-align:right;}\n",
       "</style>\n",
       "<table class=\"tg\"><tr><th><b>  sparse_gp.             </b></th><th><b>             value</b></th><th><b>constraints</b></th><th><b>priors</b></th></tr>\n",
       "<tr><td class=tg-left>  inducing inputs        </td><td class=tg-right>         (100, 10)</td><td class=tg-center>           </td><td class=tg-center>      </td></tr>\n",
       "<tr><td class=tg-left>  rbf.variance           </td><td class=tg-right>5568539.0740072485</td><td class=tg-center>    +ve    </td><td class=tg-center>      </td></tr>\n",
       "<tr><td class=tg-left>  rbf.lengthscale        </td><td class=tg-right>321.43264291430154</td><td class=tg-center>    +ve    </td><td class=tg-center>      </td></tr>\n",
       "<tr><td class=tg-left>  Gaussian_noise.variance</td><td class=tg-right>0.6690238780760511</td><td class=tg-center>    +ve    </td><td class=tg-center>      </td></tr>\n",
       "</table>"
      ],
      "text/plain": [
       "<GPy.models.sparse_gp_regression.SparseGPRegression at 0x1a2c3d6a58>"
      ]
     },
     "execution_count": 31,
     "metadata": {},
     "output_type": "execute_result"
    }
   ],
   "source": [
    "gp_model.display_model()"
   ]
  },
  {
   "cell_type": "code",
   "execution_count": 32,
   "metadata": {},
   "outputs": [
    {
     "name": "stdout",
     "output_type": "stream",
     "text": [
      "MAE: 0.641\n",
      "MSE: 0.643\n",
      "RMSE: 0.802\n",
      "R2: 1.000 \n",
      "Time: 1.44e+02 seconds\n"
     ]
    }
   ],
   "source": [
    "# Get Stats\n",
    "mae = mean_absolute_error(ypred, ytest)\n",
    "mse = mean_squared_error(ypred, ytest)\n",
    "rmse = np.sqrt(mse)\n",
    "r2 = r2_score(ypred, ytest)\n",
    "\n",
    "print(\n",
    "    f\"MAE: {mae:.3f}\\nMSE: {mse:.3f}\\nRMSE: {rmse:.3f}\\nR2: {r2:.3f}\" \n",
    "    f\" \\nTime: {t1:.3} seconds\"\n",
    ")"
   ]
  },
  {
   "cell_type": "markdown",
   "metadata": {},
   "source": [
    "### SVGP - MultiOutput w. PCA Transformer (Manually)"
   ]
  },
  {
   "cell_type": "code",
   "execution_count": 22,
   "metadata": {},
   "outputs": [
    {
     "name": "stdout",
     "output_type": "stream",
     "text": [
      "Running L-BFGS-B (Scipy implementation) Code:\n",
      "  runtime   i     f              |g|        \n",
      "    00s15  001   1.053726e+08   4.435381e+15 \n",
      "    01s21  013   2.425162e+06   3.022081e+09 \n",
      "    03s32  033   3.278976e+04   6.144264e+04 \n",
      "    10s59  112   2.825658e+04   5.701109e+04 \n",
      "    25s36  257   1.017394e+04   8.367080e+04 \n",
      "    29s50  291   8.752625e+03   6.245622e+03 \n",
      "    30s84  302   8.418246e+03   2.687379e+03 \n",
      "Runtime:     30s84\n",
      "Optimization status: Maximum number of f evaluations reached\n",
      "\n"
     ]
    }
   ],
   "source": [
    "# Define Kernel Function\n",
    "input_dimensions = X.shape[1]\n",
    "kernel = GPy.kern.RBF(\n",
    "    input_dim=input_dimensions, \n",
    "    ARD=False\n",
    ")\n",
    "\n",
    "# define GP model\n",
    "n_inducing = 100\n",
    "gp_model = SVGP(\n",
    "    kernel=kernel,\n",
    "    n_inducing=n_inducing,\n",
    "    max_iters=300, \n",
    "    optimizer='lbfgs',\n",
    "    verbose=True\n",
    ")\n",
    "\n",
    "# Define target transformer\n",
    "pca_model = PCA(n_components=3)\n",
    "\n",
    "# Transform Targes\n",
    "ytrain_red = pca_model.fit_transform(ytrain)\n",
    "\n",
    "\n",
    "# train GP Model\n",
    "t0 = time.time()\n",
    "gp_model.fit(xtrain, ytrain_red)\n",
    "t1 = time.time() - t0\n",
    "\n",
    "# Predictions\n",
    "ypred_red, ystd = gp_model.predict(xtest, return_std=True)\n",
    "\n",
    "# Inverse transform predictions\n",
    "ypred = pca_model.inverse_transform(ypred_red)"
   ]
  },
  {
   "cell_type": "code",
   "execution_count": 23,
   "metadata": {},
   "outputs": [
    {
     "name": "stdout",
     "output_type": "stream",
     "text": [
      "MAE: 0.640\n",
      "MSE: 0.640\n",
      "RMSE: 0.800\n",
      "R2: 1.000 \n",
      "Time: 31.1 seconds\n"
     ]
    }
   ],
   "source": [
    "# Get Stats\n",
    "mae = mean_absolute_error(ypred, ytest)\n",
    "mse = mean_squared_error(ypred, ytest)\n",
    "rmse = np.sqrt(mse)\n",
    "r2 = r2_score(ypred, ytest)\n",
    "\n",
    "print(\n",
    "    f\"MAE: {mae:.3f}\\nMSE: {mse:.3f}\\nRMSE: {rmse:.3f}\\nR2: {r2:.3f}\" \n",
    "    f\" \\nTime: {t1:.3} seconds\"\n",
    ")"
   ]
  },
  {
   "cell_type": "code",
   "execution_count": null,
   "metadata": {},
   "outputs": [],
   "source": []
  }
 ],
 "metadata": {
  "kernelspec": {
   "display_name": "Python 3",
   "language": "python",
   "name": "python3"
  },
  "language_info": {
   "codemirror_mode": {
    "name": "ipython",
    "version": 3
   },
   "file_extension": ".py",
   "mimetype": "text/x-python",
   "name": "python",
   "nbconvert_exporter": "python",
   "pygments_lexer": "ipython3",
   "version": "3.6.8"
  }
 },
 "nbformat": 4,
 "nbformat_minor": 2
}
