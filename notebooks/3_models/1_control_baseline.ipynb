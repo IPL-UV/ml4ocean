{
 "cells": [
  {
   "cell_type": "markdown",
   "metadata": {},
   "source": [
    "# Control Group - Full Pipeline"
   ]
  },
  {
   "cell_type": "markdown",
   "metadata": {},
   "source": [
    "### Steps:\n",
    "\n",
    "1. Load Control Group\n",
    "2. Split Data (train, test)\n",
    "2. Transform Variables\n",
    "    * Normalize\n",
    "    * Coordinate Transform: lat, lon -> x,y,z\n",
    "    * Circular Transform: doy -> radians\n",
    "3. Apply ML Models"
   ]
  },
  {
   "cell_type": "code",
   "execution_count": 377,
   "metadata": {},
   "outputs": [
    {
     "name": "stdout",
     "output_type": "stream",
     "text": [
      "The autoreload extension is already loaded. To reload it, use:\n",
      "  %reload_ext autoreload\n"
     ]
    }
   ],
   "source": [
    "import sys\n",
    "import numpy as np\n",
    "sys.path.insert(0, '/home/emmanuel/projects/2020_ml_ocn/ml4ocean/src')\n",
    "\n",
    "from data.make_dataset import DataLoad\n",
    "from features.build_features import times_2_cycles, geo_2_cartesian\n",
    "\n",
    "%load_ext autoreload\n",
    "%autoreload 2"
   ]
  },
  {
   "cell_type": "markdown",
   "metadata": {},
   "source": [
    "### Step I - Load Data"
   ]
  },
  {
   "cell_type": "code",
   "execution_count": 380,
   "metadata": {},
   "outputs": [
    {
     "data": {
      "text/plain": [
       "(3022, 11)"
      ]
     },
     "execution_count": 380,
     "metadata": {},
     "output_type": "execute_result"
    }
   ],
   "source": [
    "dataloader = DataLoad()\n",
    "\n",
    "X, y = dataloader.load_control_data('na')\n",
    "\n",
    "X = X[dataloader.core_vars + dataloader.loc_vars]\n",
    "y = y.drop(dataloader.meta_vars, axis=1)\n",
    "\n",
    "X.shape"
   ]
  },
  {
   "cell_type": "markdown",
   "metadata": {},
   "source": [
    "### Step II - Coordinate Transform: lat, lon -> x, y, z"
   ]
  },
  {
   "cell_type": "code",
   "execution_count": 381,
   "metadata": {},
   "outputs": [
    {
     "data": {
      "text/html": [
       "<div>\n",
       "<style scoped>\n",
       "    .dataframe tbody tr th:only-of-type {\n",
       "        vertical-align: middle;\n",
       "    }\n",
       "\n",
       "    .dataframe tbody tr th {\n",
       "        vertical-align: top;\n",
       "    }\n",
       "\n",
       "    .dataframe thead th {\n",
       "        text-align: right;\n",
       "    }\n",
       "</style>\n",
       "<table border=\"1\" class=\"dataframe\">\n",
       "  <thead>\n",
       "    <tr style=\"text-align: right;\">\n",
       "      <th></th>\n",
       "      <th>sla</th>\n",
       "      <th>PAR</th>\n",
       "      <th>RHO_WN_412</th>\n",
       "      <th>RHO_WN_443</th>\n",
       "      <th>RHO_WN_490</th>\n",
       "      <th>RHO_WN_555</th>\n",
       "      <th>RHO_WN_670</th>\n",
       "      <th>MLD</th>\n",
       "      <th>doy</th>\n",
       "      <th>x</th>\n",
       "      <th>y</th>\n",
       "      <th>z</th>\n",
       "    </tr>\n",
       "  </thead>\n",
       "  <tbody>\n",
       "    <tr>\n",
       "      <th>count</th>\n",
       "      <td>3022.000000</td>\n",
       "      <td>3022.000000</td>\n",
       "      <td>3022.000000</td>\n",
       "      <td>3022.000000</td>\n",
       "      <td>3022.000000</td>\n",
       "      <td>3022.000000</td>\n",
       "      <td>3022.000000</td>\n",
       "      <td>3022.000000</td>\n",
       "      <td>3022.000000</td>\n",
       "      <td>3022.000000</td>\n",
       "      <td>3022.000000</td>\n",
       "      <td>3022.000000</td>\n",
       "    </tr>\n",
       "    <tr>\n",
       "      <th>mean</th>\n",
       "      <td>-1.023435</td>\n",
       "      <td>42.587315</td>\n",
       "      <td>0.017911</td>\n",
       "      <td>0.015458</td>\n",
       "      <td>0.013138</td>\n",
       "      <td>0.006466</td>\n",
       "      <td>0.000970</td>\n",
       "      <td>92.319656</td>\n",
       "      <td>165.976837</td>\n",
       "      <td>0.424498</td>\n",
       "      <td>-0.278527</td>\n",
       "      <td>0.803373</td>\n",
       "    </tr>\n",
       "    <tr>\n",
       "      <th>std</th>\n",
       "      <td>6.241974</td>\n",
       "      <td>13.341398</td>\n",
       "      <td>0.010524</td>\n",
       "      <td>0.007983</td>\n",
       "      <td>0.005180</td>\n",
       "      <td>0.002834</td>\n",
       "      <td>0.000447</td>\n",
       "      <td>145.681095</td>\n",
       "      <td>69.581352</td>\n",
       "      <td>0.166646</td>\n",
       "      <td>0.175314</td>\n",
       "      <td>0.195811</td>\n",
       "    </tr>\n",
       "    <tr>\n",
       "      <th>min</th>\n",
       "      <td>-47.530300</td>\n",
       "      <td>7.658160</td>\n",
       "      <td>0.000789</td>\n",
       "      <td>0.001000</td>\n",
       "      <td>0.001829</td>\n",
       "      <td>0.002191</td>\n",
       "      <td>0.000004</td>\n",
       "      <td>10.000000</td>\n",
       "      <td>1.000000</td>\n",
       "      <td>0.102689</td>\n",
       "      <td>-0.723914</td>\n",
       "      <td>0.121478</td>\n",
       "    </tr>\n",
       "    <tr>\n",
       "      <th>25%</th>\n",
       "      <td>-4.710750</td>\n",
       "      <td>33.493225</td>\n",
       "      <td>0.010973</td>\n",
       "      <td>0.010070</td>\n",
       "      <td>0.010000</td>\n",
       "      <td>0.004785</td>\n",
       "      <td>0.000662</td>\n",
       "      <td>20.000000</td>\n",
       "      <td>116.000000</td>\n",
       "      <td>0.333212</td>\n",
       "      <td>-0.409115</td>\n",
       "      <td>0.806248</td>\n",
       "    </tr>\n",
       "    <tr>\n",
       "      <th>50%</th>\n",
       "      <td>-1.061400</td>\n",
       "      <td>44.568950</td>\n",
       "      <td>0.014952</td>\n",
       "      <td>0.013515</td>\n",
       "      <td>0.012166</td>\n",
       "      <td>0.005929</td>\n",
       "      <td>0.000991</td>\n",
       "      <td>40.000000</td>\n",
       "      <td>161.000000</td>\n",
       "      <td>0.396892</td>\n",
       "      <td>-0.284740</td>\n",
       "      <td>0.869006</td>\n",
       "    </tr>\n",
       "    <tr>\n",
       "      <th>75%</th>\n",
       "      <td>2.866325</td>\n",
       "      <td>53.848125</td>\n",
       "      <td>0.021841</td>\n",
       "      <td>0.018442</td>\n",
       "      <td>0.015337</td>\n",
       "      <td>0.007369</td>\n",
       "      <td>0.001151</td>\n",
       "      <td>82.000000</td>\n",
       "      <td>218.000000</td>\n",
       "      <td>0.475388</td>\n",
       "      <td>-0.174620</td>\n",
       "      <td>0.905730</td>\n",
       "    </tr>\n",
       "    <tr>\n",
       "      <th>max</th>\n",
       "      <td>29.168600</td>\n",
       "      <td>63.337100</td>\n",
       "      <td>0.063060</td>\n",
       "      <td>0.052012</td>\n",
       "      <td>0.053483</td>\n",
       "      <td>0.036277</td>\n",
       "      <td>0.005287</td>\n",
       "      <td>995.000000</td>\n",
       "      <td>366.000000</td>\n",
       "      <td>0.896169</td>\n",
       "      <td>0.080525</td>\n",
       "      <td>0.980676</td>\n",
       "    </tr>\n",
       "  </tbody>\n",
       "</table>\n",
       "</div>"
      ],
      "text/plain": [
       "               sla          PAR   RHO_WN_412   RHO_WN_443   RHO_WN_490  \\\n",
       "count  3022.000000  3022.000000  3022.000000  3022.000000  3022.000000   \n",
       "mean     -1.023435    42.587315     0.017911     0.015458     0.013138   \n",
       "std       6.241974    13.341398     0.010524     0.007983     0.005180   \n",
       "min     -47.530300     7.658160     0.000789     0.001000     0.001829   \n",
       "25%      -4.710750    33.493225     0.010973     0.010070     0.010000   \n",
       "50%      -1.061400    44.568950     0.014952     0.013515     0.012166   \n",
       "75%       2.866325    53.848125     0.021841     0.018442     0.015337   \n",
       "max      29.168600    63.337100     0.063060     0.052012     0.053483   \n",
       "\n",
       "        RHO_WN_555   RHO_WN_670          MLD          doy            x  \\\n",
       "count  3022.000000  3022.000000  3022.000000  3022.000000  3022.000000   \n",
       "mean      0.006466     0.000970    92.319656   165.976837     0.424498   \n",
       "std       0.002834     0.000447   145.681095    69.581352     0.166646   \n",
       "min       0.002191     0.000004    10.000000     1.000000     0.102689   \n",
       "25%       0.004785     0.000662    20.000000   116.000000     0.333212   \n",
       "50%       0.005929     0.000991    40.000000   161.000000     0.396892   \n",
       "75%       0.007369     0.001151    82.000000   218.000000     0.475388   \n",
       "max       0.036277     0.005287   995.000000   366.000000     0.896169   \n",
       "\n",
       "                 y            z  \n",
       "count  3022.000000  3022.000000  \n",
       "mean     -0.278527     0.803373  \n",
       "std       0.175314     0.195811  \n",
       "min      -0.723914     0.121478  \n",
       "25%      -0.409115     0.806248  \n",
       "50%      -0.284740     0.869006  \n",
       "75%      -0.174620     0.905730  \n",
       "max       0.080525     0.980676  "
      ]
     },
     "execution_count": 381,
     "metadata": {},
     "output_type": "execute_result"
    }
   ],
   "source": [
    "X = geo_2_cartesian(X)\n",
    "X.describe()"
   ]
  },
  {
   "cell_type": "markdown",
   "metadata": {},
   "source": [
    "### Step III - DOY Transform: doy -> sin, cos"
   ]
  },
  {
   "cell_type": "code",
   "execution_count": 374,
   "metadata": {},
   "outputs": [
    {
     "data": {
      "text/html": [
       "<div>\n",
       "<style scoped>\n",
       "    .dataframe tbody tr th:only-of-type {\n",
       "        vertical-align: middle;\n",
       "    }\n",
       "\n",
       "    .dataframe tbody tr th {\n",
       "        vertical-align: top;\n",
       "    }\n",
       "\n",
       "    .dataframe thead th {\n",
       "        text-align: right;\n",
       "    }\n",
       "</style>\n",
       "<table border=\"1\" class=\"dataframe\">\n",
       "  <thead>\n",
       "    <tr style=\"text-align: right;\">\n",
       "      <th></th>\n",
       "      <th>sla</th>\n",
       "      <th>PAR</th>\n",
       "      <th>RHO_WN_412</th>\n",
       "      <th>RHO_WN_443</th>\n",
       "      <th>RHO_WN_490</th>\n",
       "      <th>RHO_WN_555</th>\n",
       "      <th>RHO_WN_670</th>\n",
       "      <th>MLD</th>\n",
       "      <th>lat</th>\n",
       "      <th>lon</th>\n",
       "      <th>doy_sin</th>\n",
       "      <th>doy_cos</th>\n",
       "    </tr>\n",
       "  </thead>\n",
       "  <tbody>\n",
       "    <tr>\n",
       "      <th>count</th>\n",
       "      <td>3022.000000</td>\n",
       "      <td>3022.000000</td>\n",
       "      <td>3022.000000</td>\n",
       "      <td>3022.000000</td>\n",
       "      <td>3022.000000</td>\n",
       "      <td>3022.000000</td>\n",
       "      <td>3022.000000</td>\n",
       "      <td>3022.000000</td>\n",
       "      <td>3022.000000</td>\n",
       "      <td>3022.000000</td>\n",
       "      <td>3022.000000</td>\n",
       "      <td>3022.000000</td>\n",
       "    </tr>\n",
       "    <tr>\n",
       "      <th>mean</th>\n",
       "      <td>-1.023435</td>\n",
       "      <td>42.587315</td>\n",
       "      <td>0.017911</td>\n",
       "      <td>0.015458</td>\n",
       "      <td>0.013138</td>\n",
       "      <td>0.006466</td>\n",
       "      <td>0.000970</td>\n",
       "      <td>92.319656</td>\n",
       "      <td>56.252418</td>\n",
       "      <td>-31.638079</td>\n",
       "      <td>0.158825</td>\n",
       "      <td>-0.450884</td>\n",
       "    </tr>\n",
       "    <tr>\n",
       "      <th>std</th>\n",
       "      <td>6.241974</td>\n",
       "      <td>13.341398</td>\n",
       "      <td>0.010524</td>\n",
       "      <td>0.007983</td>\n",
       "      <td>0.005180</td>\n",
       "      <td>0.002834</td>\n",
       "      <td>0.000447</td>\n",
       "      <td>145.681095</td>\n",
       "      <td>15.925331</td>\n",
       "      <td>19.597311</td>\n",
       "      <td>0.695279</td>\n",
       "      <td>0.536955</td>\n",
       "    </tr>\n",
       "    <tr>\n",
       "      <th>min</th>\n",
       "      <td>-47.530300</td>\n",
       "      <td>7.658160</td>\n",
       "      <td>0.000789</td>\n",
       "      <td>0.001000</td>\n",
       "      <td>0.001829</td>\n",
       "      <td>0.002191</td>\n",
       "      <td>0.000004</td>\n",
       "      <td>10.000000</td>\n",
       "      <td>6.977381</td>\n",
       "      <td>-69.448892</td>\n",
       "      <td>-0.999991</td>\n",
       "      <td>-0.999963</td>\n",
       "    </tr>\n",
       "    <tr>\n",
       "      <th>25%</th>\n",
       "      <td>-4.710750</td>\n",
       "      <td>33.493225</td>\n",
       "      <td>0.010973</td>\n",
       "      <td>0.010070</td>\n",
       "      <td>0.010000</td>\n",
       "      <td>0.004785</td>\n",
       "      <td>0.000662</td>\n",
       "      <td>20.000000</td>\n",
       "      <td>53.730976</td>\n",
       "      <td>-46.425321</td>\n",
       "      <td>-0.530730</td>\n",
       "      <td>-0.882048</td>\n",
       "    </tr>\n",
       "    <tr>\n",
       "      <th>50%</th>\n",
       "      <td>-1.061400</td>\n",
       "      <td>44.568950</td>\n",
       "      <td>0.014952</td>\n",
       "      <td>0.013515</td>\n",
       "      <td>0.012166</td>\n",
       "      <td>0.005929</td>\n",
       "      <td>0.000991</td>\n",
       "      <td>40.000000</td>\n",
       "      <td>60.343318</td>\n",
       "      <td>-32.953007</td>\n",
       "      <td>0.313107</td>\n",
       "      <td>-0.618671</td>\n",
       "    </tr>\n",
       "    <tr>\n",
       "      <th>75%</th>\n",
       "      <td>2.866325</td>\n",
       "      <td>53.848125</td>\n",
       "      <td>0.021841</td>\n",
       "      <td>0.018442</td>\n",
       "      <td>0.015337</td>\n",
       "      <td>0.007369</td>\n",
       "      <td>0.001151</td>\n",
       "      <td>82.000000</td>\n",
       "      <td>64.921750</td>\n",
       "      <td>-21.808543</td>\n",
       "      <td>0.826354</td>\n",
       "      <td>-0.200891</td>\n",
       "    </tr>\n",
       "    <tr>\n",
       "      <th>max</th>\n",
       "      <td>29.168600</td>\n",
       "      <td>63.337100</td>\n",
       "      <td>0.063060</td>\n",
       "      <td>0.052012</td>\n",
       "      <td>0.053483</td>\n",
       "      <td>0.036277</td>\n",
       "      <td>0.005287</td>\n",
       "      <td>995.000000</td>\n",
       "      <td>78.718000</td>\n",
       "      <td>13.466999</td>\n",
       "      <td>0.999991</td>\n",
       "      <td>1.000000</td>\n",
       "    </tr>\n",
       "  </tbody>\n",
       "</table>\n",
       "</div>"
      ],
      "text/plain": [
       "               sla          PAR   RHO_WN_412   RHO_WN_443   RHO_WN_490  \\\n",
       "count  3022.000000  3022.000000  3022.000000  3022.000000  3022.000000   \n",
       "mean     -1.023435    42.587315     0.017911     0.015458     0.013138   \n",
       "std       6.241974    13.341398     0.010524     0.007983     0.005180   \n",
       "min     -47.530300     7.658160     0.000789     0.001000     0.001829   \n",
       "25%      -4.710750    33.493225     0.010973     0.010070     0.010000   \n",
       "50%      -1.061400    44.568950     0.014952     0.013515     0.012166   \n",
       "75%       2.866325    53.848125     0.021841     0.018442     0.015337   \n",
       "max      29.168600    63.337100     0.063060     0.052012     0.053483   \n",
       "\n",
       "        RHO_WN_555   RHO_WN_670          MLD          lat          lon  \\\n",
       "count  3022.000000  3022.000000  3022.000000  3022.000000  3022.000000   \n",
       "mean      0.006466     0.000970    92.319656    56.252418   -31.638079   \n",
       "std       0.002834     0.000447   145.681095    15.925331    19.597311   \n",
       "min       0.002191     0.000004    10.000000     6.977381   -69.448892   \n",
       "25%       0.004785     0.000662    20.000000    53.730976   -46.425321   \n",
       "50%       0.005929     0.000991    40.000000    60.343318   -32.953007   \n",
       "75%       0.007369     0.001151    82.000000    64.921750   -21.808543   \n",
       "max       0.036277     0.005287   995.000000    78.718000    13.466999   \n",
       "\n",
       "           doy_sin      doy_cos  \n",
       "count  3022.000000  3022.000000  \n",
       "mean      0.158825    -0.450884  \n",
       "std       0.695279     0.536955  \n",
       "min      -0.999991    -0.999963  \n",
       "25%      -0.530730    -0.882048  \n",
       "50%       0.313107    -0.618671  \n",
       "75%       0.826354    -0.200891  \n",
       "max       0.999991     1.000000  "
      ]
     },
     "execution_count": 374,
     "metadata": {},
     "output_type": "execute_result"
    }
   ],
   "source": [
    "times = ['doy']\n",
    "X = times_2_cycles(X, times)\n",
    "X.describe()"
   ]
  },
  {
   "cell_type": "markdown",
   "metadata": {},
   "source": [
    "### Step IV - Log Transform, y"
   ]
  },
  {
   "cell_type": "code",
   "execution_count": 281,
   "metadata": {},
   "outputs": [],
   "source": [
    "y_log = np.log(y)"
   ]
  },
  {
   "cell_type": "markdown",
   "metadata": {},
   "source": [
    "### PCA Transform Spectrum"
   ]
  },
  {
   "cell_type": "code",
   "execution_count": null,
   "metadata": {},
   "outputs": [],
   "source": [
    "def pcaspectrum(df: pd.DataFrame, n_components=2)-> pd.DataFrame:\n",
    "    cols = ['RHO_WN_412', 'RHO_WN_443', 'RHO_WN_490', 'RHO_WN_555', 'RHO_WN_670']\n",
    "    \n",
    "    # cartesian coordinates\n",
    "    dat = \n",
    "    df['doy_sin'] = np.sin(df['doy'] * const)\n",
    "    df['doy_cos'] = np.cos(df['doy'] * const)\n",
    "\n",
    "    df = df.drop(['doy'], axis=1)\n",
    "\n",
    "    return df"
   ]
  },
  {
   "cell_type": "code",
   "execution_count": null,
   "metadata": {},
   "outputs": [],
   "source": [
    "X = X.drop(columns=[''])"
   ]
  },
  {
   "cell_type": "markdown",
   "metadata": {},
   "source": [
    "### Step V - Train Test"
   ]
  },
  {
   "cell_type": "code",
   "execution_count": 333,
   "metadata": {},
   "outputs": [],
   "source": [
    "from sklearn.model_selection import train_test_split\n",
    "\n",
    "\n",
    "random_state = 123\n",
    "train_size = 0.8\n",
    "\n",
    "xtrain, xtest, ytrain, ytest = train_test_split(\n",
    "    X, y, train_size=train_size, random_state=random_state\n",
    ")"
   ]
  },
  {
   "cell_type": "markdown",
   "metadata": {},
   "source": [
    "### Step VI - Normalize Data"
   ]
  },
  {
   "cell_type": "code",
   "execution_count": 334,
   "metadata": {},
   "outputs": [],
   "source": [
    "from sklearn.preprocessing import StandardScaler, Normalizer\n",
    "\n",
    "# Normalize inputs \n",
    "x_transformer = StandardScaler(with_mean=True, with_std=True)\n",
    "# x_transformer = Normalizer(norm='max')\n",
    "\n",
    "x_= x_transformer.fit_transform(xtrain[dataloader.core_vars])\n",
    "xt_ = x_transformer.transform(xtest[dataloader.core_vars])\n",
    "\n",
    "xtrain_norm = xtrain.copy()\n",
    "xtrain_norm.loc[:, dataloader.core_vars] = x_.copy()\n",
    "xtest_norm = xtest.copy()\n",
    "xtest_norm.loc[:, dataloader.core_vars] = xt_\n",
    "\n",
    "# Normalize Outputs\n",
    "y_transformer = StandardScaler(with_mean=True, with_std=True)\n",
    "\n",
    "ytrain_norm = y_transformer.fit_transform(ytrain)\n",
    "ytest_norm = y_transformer.transform(ytest)"
   ]
  },
  {
   "cell_type": "code",
   "execution_count": 335,
   "metadata": {},
   "outputs": [
    {
     "data": {
      "text/html": [
       "<div>\n",
       "<style scoped>\n",
       "    .dataframe tbody tr th:only-of-type {\n",
       "        vertical-align: middle;\n",
       "    }\n",
       "\n",
       "    .dataframe tbody tr th {\n",
       "        vertical-align: top;\n",
       "    }\n",
       "\n",
       "    .dataframe thead th {\n",
       "        text-align: right;\n",
       "    }\n",
       "</style>\n",
       "<table border=\"1\" class=\"dataframe\">\n",
       "  <thead>\n",
       "    <tr style=\"text-align: right;\">\n",
       "      <th></th>\n",
       "      <th>sla</th>\n",
       "      <th>PAR</th>\n",
       "      <th>RHO_WN_412</th>\n",
       "      <th>RHO_WN_443</th>\n",
       "      <th>RHO_WN_490</th>\n",
       "      <th>RHO_WN_555</th>\n",
       "      <th>RHO_WN_670</th>\n",
       "      <th>MLD</th>\n",
       "      <th>x</th>\n",
       "      <th>y</th>\n",
       "      <th>z</th>\n",
       "      <th>doy_sin</th>\n",
       "      <th>doy_cos</th>\n",
       "    </tr>\n",
       "  </thead>\n",
       "  <tbody>\n",
       "    <tr>\n",
       "      <th>count</th>\n",
       "      <td>2.417000e+03</td>\n",
       "      <td>2.417000e+03</td>\n",
       "      <td>2.417000e+03</td>\n",
       "      <td>2.417000e+03</td>\n",
       "      <td>2.417000e+03</td>\n",
       "      <td>2.417000e+03</td>\n",
       "      <td>2.417000e+03</td>\n",
       "      <td>2.417000e+03</td>\n",
       "      <td>2417.000000</td>\n",
       "      <td>2417.000000</td>\n",
       "      <td>2417.000000</td>\n",
       "      <td>2417.000000</td>\n",
       "      <td>2417.000000</td>\n",
       "    </tr>\n",
       "    <tr>\n",
       "      <th>mean</th>\n",
       "      <td>2.939771e-17</td>\n",
       "      <td>1.763863e-16</td>\n",
       "      <td>1.844707e-16</td>\n",
       "      <td>-7.349428e-18</td>\n",
       "      <td>8.194613e-17</td>\n",
       "      <td>3.200676e-16</td>\n",
       "      <td>-7.275934e-17</td>\n",
       "      <td>-1.028920e-17</td>\n",
       "      <td>0.424668</td>\n",
       "      <td>-0.278311</td>\n",
       "      <td>0.802300</td>\n",
       "      <td>0.162112</td>\n",
       "      <td>-0.450827</td>\n",
       "    </tr>\n",
       "    <tr>\n",
       "      <th>std</th>\n",
       "      <td>1.000207e+00</td>\n",
       "      <td>1.000207e+00</td>\n",
       "      <td>1.000207e+00</td>\n",
       "      <td>1.000207e+00</td>\n",
       "      <td>1.000207e+00</td>\n",
       "      <td>1.000207e+00</td>\n",
       "      <td>1.000207e+00</td>\n",
       "      <td>1.000207e+00</td>\n",
       "      <td>0.169281</td>\n",
       "      <td>0.174764</td>\n",
       "      <td>0.198385</td>\n",
       "      <td>0.691962</td>\n",
       "      <td>0.540354</td>\n",
       "    </tr>\n",
       "    <tr>\n",
       "      <th>min</th>\n",
       "      <td>-7.501530e+00</td>\n",
       "      <td>-2.618699e+00</td>\n",
       "      <td>-1.603063e+00</td>\n",
       "      <td>-1.810242e+00</td>\n",
       "      <td>-2.185176e+00</td>\n",
       "      <td>-1.496467e+00</td>\n",
       "      <td>-2.109669e+00</td>\n",
       "      <td>-5.717526e-01</td>\n",
       "      <td>0.102689</td>\n",
       "      <td>-0.723914</td>\n",
       "      <td>0.121478</td>\n",
       "      <td>-0.999917</td>\n",
       "      <td>-0.999963</td>\n",
       "    </tr>\n",
       "    <tr>\n",
       "      <th>25%</th>\n",
       "      <td>-5.928906e-01</td>\n",
       "      <td>-6.813858e-01</td>\n",
       "      <td>-6.667658e-01</td>\n",
       "      <td>-6.769751e-01</td>\n",
       "      <td>-6.115840e-01</td>\n",
       "      <td>-5.894988e-01</td>\n",
       "      <td>-6.857377e-01</td>\n",
       "      <td>-5.021861e-01</td>\n",
       "      <td>0.333006</td>\n",
       "      <td>-0.408946</td>\n",
       "      <td>0.805980</td>\n",
       "      <td>-0.530730</td>\n",
       "      <td>-0.882048</td>\n",
       "    </tr>\n",
       "    <tr>\n",
       "      <th>50%</th>\n",
       "      <td>-7.542058e-03</td>\n",
       "      <td>1.489009e-01</td>\n",
       "      <td>-2.818125e-01</td>\n",
       "      <td>-2.498437e-01</td>\n",
       "      <td>-1.932039e-01</td>\n",
       "      <td>-1.973898e-01</td>\n",
       "      <td>4.633771e-02</td>\n",
       "      <td>-3.630529e-01</td>\n",
       "      <td>0.397430</td>\n",
       "      <td>-0.281836</td>\n",
       "      <td>0.870650</td>\n",
       "      <td>0.313107</td>\n",
       "      <td>-0.632103</td>\n",
       "    </tr>\n",
       "    <tr>\n",
       "      <th>75%</th>\n",
       "      <td>6.130681e-01</td>\n",
       "      <td>8.411333e-01</td>\n",
       "      <td>3.705666e-01</td>\n",
       "      <td>3.675926e-01</td>\n",
       "      <td>4.162261e-01</td>\n",
       "      <td>3.096330e-01</td>\n",
       "      <td>3.792305e-01</td>\n",
       "      <td>-7.087329e-02</td>\n",
       "      <td>0.475318</td>\n",
       "      <td>-0.175071</td>\n",
       "      <td>0.906204</td>\n",
       "      <td>0.826354</td>\n",
       "      <td>-0.200891</td>\n",
       "    </tr>\n",
       "    <tr>\n",
       "      <th>max</th>\n",
       "      <td>4.853472e+00</td>\n",
       "      <td>1.550250e+00</td>\n",
       "      <td>4.262432e+00</td>\n",
       "      <td>3.937427e+00</td>\n",
       "      <td>6.513550e+00</td>\n",
       "      <td>1.024603e+01</td>\n",
       "      <td>9.612993e+00</td>\n",
       "      <td>6.197075e+00</td>\n",
       "      <td>0.896169</td>\n",
       "      <td>0.080525</td>\n",
       "      <td>0.980244</td>\n",
       "      <td>0.999991</td>\n",
       "      <td>0.999852</td>\n",
       "    </tr>\n",
       "  </tbody>\n",
       "</table>\n",
       "</div>"
      ],
      "text/plain": [
       "                sla           PAR    RHO_WN_412    RHO_WN_443    RHO_WN_490  \\\n",
       "count  2.417000e+03  2.417000e+03  2.417000e+03  2.417000e+03  2.417000e+03   \n",
       "mean   2.939771e-17  1.763863e-16  1.844707e-16 -7.349428e-18  8.194613e-17   \n",
       "std    1.000207e+00  1.000207e+00  1.000207e+00  1.000207e+00  1.000207e+00   \n",
       "min   -7.501530e+00 -2.618699e+00 -1.603063e+00 -1.810242e+00 -2.185176e+00   \n",
       "25%   -5.928906e-01 -6.813858e-01 -6.667658e-01 -6.769751e-01 -6.115840e-01   \n",
       "50%   -7.542058e-03  1.489009e-01 -2.818125e-01 -2.498437e-01 -1.932039e-01   \n",
       "75%    6.130681e-01  8.411333e-01  3.705666e-01  3.675926e-01  4.162261e-01   \n",
       "max    4.853472e+00  1.550250e+00  4.262432e+00  3.937427e+00  6.513550e+00   \n",
       "\n",
       "         RHO_WN_555    RHO_WN_670           MLD            x            y  \\\n",
       "count  2.417000e+03  2.417000e+03  2.417000e+03  2417.000000  2417.000000   \n",
       "mean   3.200676e-16 -7.275934e-17 -1.028920e-17     0.424668    -0.278311   \n",
       "std    1.000207e+00  1.000207e+00  1.000207e+00     0.169281     0.174764   \n",
       "min   -1.496467e+00 -2.109669e+00 -5.717526e-01     0.102689    -0.723914   \n",
       "25%   -5.894988e-01 -6.857377e-01 -5.021861e-01     0.333006    -0.408946   \n",
       "50%   -1.973898e-01  4.633771e-02 -3.630529e-01     0.397430    -0.281836   \n",
       "75%    3.096330e-01  3.792305e-01 -7.087329e-02     0.475318    -0.175071   \n",
       "max    1.024603e+01  9.612993e+00  6.197075e+00     0.896169     0.080525   \n",
       "\n",
       "                 z      doy_sin      doy_cos  \n",
       "count  2417.000000  2417.000000  2417.000000  \n",
       "mean      0.802300     0.162112    -0.450827  \n",
       "std       0.198385     0.691962     0.540354  \n",
       "min       0.121478    -0.999917    -0.999963  \n",
       "25%       0.805980    -0.530730    -0.882048  \n",
       "50%       0.870650     0.313107    -0.632103  \n",
       "75%       0.906204     0.826354    -0.200891  \n",
       "max       0.980244     0.999991     0.999852  "
      ]
     },
     "execution_count": 335,
     "metadata": {},
     "output_type": "execute_result"
    }
   ],
   "source": [
    "xtrain_norm.describe()"
   ]
  },
  {
   "cell_type": "markdown",
   "metadata": {},
   "source": [
    "### Step VII - ML Models"
   ]
  },
  {
   "cell_type": "markdown",
   "metadata": {},
   "source": [
    "#### Random Forest Regression"
   ]
  },
  {
   "cell_type": "code",
   "execution_count": 349,
   "metadata": {},
   "outputs": [
    {
     "name": "stdout",
     "output_type": "stream",
     "text": [
      "Training Time: 6.434 seconds\n"
     ]
    }
   ],
   "source": [
    "import time\n",
    "from sklearn.ensemble import RandomForestRegressor\n",
    "\n",
    "\n",
    "rf_model = RandomForestRegressor(\n",
    "    bootstrap=True, criterion='mse', max_depth=500,\n",
    "    max_features=4, max_leaf_nodes=None,\n",
    "    min_impurity_decrease=0.0, min_impurity_split=None,\n",
    "    min_samples_leaf=1, min_samples_split=4,\n",
    "    min_weight_fraction_leaf=0.0, n_estimators=1_000,\n",
    "    n_jobs=-1, oob_score=False, random_state=123, verbose=0,\n",
    "    warm_start=False\n",
    ")\n",
    "t0 = time.time()\n",
    "rf_model.fit(xtrain_norm, ytrain_norm)\n",
    "t1 = time.time() - t0\n",
    "\n",
    "print(\n",
    "    f\"Training Time: {t1:.3f} seconds\"\n",
    ")"
   ]
  },
  {
   "cell_type": "code",
   "execution_count": 350,
   "metadata": {},
   "outputs": [],
   "source": [
    "# Predictions\n",
    "t0 = time.time()\n",
    "ypred_red = rf_model.predict(xtest_norm)\n",
    "t1 = time.time() - t0\n",
    "#ypred = pca_model.inverse_transform(ypred_red)\n"
   ]
  },
  {
   "cell_type": "code",
   "execution_count": 351,
   "metadata": {},
   "outputs": [
    {
     "name": "stdout",
     "output_type": "stream",
     "text": [
      "MAE: 0.428\n",
      "MSE: 0.422\n",
      "RMSE: 0.650\n",
      "R2: 0.509 \n",
      "Time: 1.04 seconds\n"
     ]
    }
   ],
   "source": [
    "\n",
    "from sklearn.metrics import mean_absolute_error, mean_squared_error, r2_score\n",
    "\n",
    "\n",
    "# Get Average Stats\n",
    "mae = mean_absolute_error(ytest_norm, ypred_red, multioutput='uniform_average')\n",
    "mse = mean_squared_error(ytest_norm, ypred_red, multioutput='uniform_average')\n",
    "rmse = np.sqrt(mse)\n",
    "r2 = r2_score(ytest_norm, ypred_red, multioutput='uniform_average')\n",
    "print(\n",
    "    f\"MAE: {mae:.3f}\\nMSE: {mse:.3f}\\nRMSE: {rmse:.3f}\\nR2: {r2:.3f}\" \n",
    "    f\" \\nTime: {t1:.3} seconds\"\n",
    ")"
   ]
  },
  {
   "cell_type": "code",
   "execution_count": 352,
   "metadata": {},
   "outputs": [],
   "source": [
    "# Get Stats per Depth\n",
    "mae_raw = mean_absolute_error(ytest_norm, ypred_red, multioutput='raw_values')\n",
    "mse_raw = mean_squared_error(ytest_norm, ypred_red, multioutput='raw_values')\n",
    "rmse_raw = np.sqrt(mse_raw)\n",
    "r2_raw = r2_score(ytest_norm, ypred_red, multioutput='raw_values')"
   ]
  },
  {
   "cell_type": "code",
   "execution_count": 353,
   "metadata": {},
   "outputs": [
    {
     "data": {
      "image/png": "[encoded data removed]",
      "text/plain": [
       "<Figure size 720x504 with 4 Axes>"
      ]
     },
     "metadata": {},
     "output_type": "display_data"
    }
   ],
   "source": [
    "import matplotlib.pyplot as plt\n",
    "%matplotlib inline\n",
    "plt.style.use('seaborn')\n",
    "\n",
    "# Plots\n",
    "fig, ax = plt.subplots(nrows=2, ncols=2, figsize=(10, 7))\n",
    "\n",
    "# R2 Values\n",
    "ax[0,0].plot(r2_raw)\n",
    "ax[0,0].set_xlabel('Depths (Pressure)')\n",
    "ax[0,0].set_ylabel('R2')\n",
    "ax[0,0].set_ylim([0, 1])\n",
    "\n",
    "# MAE\n",
    "ax[0,1].plot(mae_raw)\n",
    "ax[0,1].set_xlabel('Depths (Pressure)')\n",
    "ax[0,1].set_ylabel('MAE')\n",
    "\n",
    "# MSE\n",
    "ax[1,0].plot(mse_raw)\n",
    "ax[1,0].set_xlabel('Depths (Pressure)')\n",
    "ax[1,0].set_ylabel('MSE')\n",
    "\n",
    "# RMSE\n",
    "ax[1,1].plot(rmse_raw)\n",
    "ax[1,1].set_xlabel('Depths (Pressure)')\n",
    "ax[1,1].set_ylabel('RMSE')\n",
    "\n",
    "\n",
    "plt.tight_layout()\n",
    "plt.show()"
   ]
  },
  {
   "cell_type": "code",
   "execution_count": 354,
   "metadata": {},
   "outputs": [
    {
     "name": "stdout",
     "output_type": "stream",
     "text": [
      "Feature ranking:\n",
      "1. feature y (0.237342)\n",
      "2. feature x (0.164044)\n",
      "3. feature z (0.149442)\n",
      "4. feature sla (0.066097)\n",
      "5. feature doy_sin (0.053342)\n",
      "6. feature MLD (0.046882)\n",
      "7. feature RHO_WN_412 (0.043175)\n",
      "8. feature PAR (0.042507)\n",
      "9. feature doy_cos (0.042225)\n",
      "10. feature RHO_WN_555 (0.041439)\n",
      "11. feature RHO_WN_670 (0.038894)\n",
      "12. feature RHO_WN_490 (0.037619)\n",
      "13. feature RHO_WN_443 (0.036991)\n"
     ]
    },
    {
     "data": {
      "image/png": "[encoded data removed]",
      "text/plain": [
       "<Figure size 576x396 with 1 Axes>"
      ]
     },
     "metadata": {},
     "output_type": "display_data"
    }
   ],
   "source": [
    "importances = rf_model.feature_importances_\n",
    "std = np.std([tree.feature_importances_ for tree in rf_model.estimators_],\n",
    "             axis=0)\n",
    "indices = np.argsort(importances)[::-1]\n",
    "\n",
    "# get label indices\n",
    "labels = [xtest_norm.columns.tolist()[i] for i in indices]\n",
    "\n",
    "# Print the feature ranking\n",
    "print(\"Feature ranking:\")\n",
    "\n",
    "for f in range(X.shape[1]):\n",
    "    print(\"%d. feature %s (%f)\" % (f + 1, labels[f], importances[indices[f]]))\n",
    "\n",
    "# Plot the feature importances of the forest\n",
    "plt.figure()\n",
    "plt.title(\"Feature importances\")\n",
    "plt.bar(range(X.shape[1]), importances[indices],\n",
    "       color=\"r\", yerr=std[indices], align=\"center\")\n",
    "plt.xticks(range(X.shape[1]), labels, rotation='vertical')\n",
    "plt.xlim([-1, X.shape[1]])\n",
    "plt.show()"
   ]
  },
  {
   "cell_type": "markdown",
   "metadata": {},
   "source": [
    "### RF w. Bagging"
   ]
  },
  {
   "cell_type": "code",
   "execution_count": 314,
   "metadata": {},
   "outputs": [],
   "source": [
    "from sklearn.ensemble import BaggingRegressor"
   ]
  },
  {
   "cell_type": "code",
   "execution_count": 315,
   "metadata": {},
   "outputs": [
    {
     "name": "stdout",
     "output_type": "stream",
     "text": [
      "Training Time: 65.893 seconds\n"
     ]
    }
   ],
   "source": [
    "import time\n",
    "from sklearn.ensemble import RandomForestRegressor\n",
    "\n",
    "\n",
    "rf_model = RandomForestRegressor(\n",
    "    bootstrap=True, criterion='mse', max_depth=500,\n",
    "    max_features=4, max_leaf_nodes=None,\n",
    "    min_impurity_decrease=0.0, min_impurity_split=None,\n",
    "    min_samples_leaf=1, min_samples_split=4,\n",
    "    min_weight_fraction_leaf=0.0, n_estimators=1_000,\n",
    "    n_jobs=-1, oob_score=False, random_state=123, verbose=0,\n",
    "    warm_start=False\n",
    ")\n",
    "bagged_rf_model = BaggingRegressor(\n",
    "    base_estimator=rf_model, \n",
    ")\n",
    "t0 = time.time()\n",
    "bagged_rf_model.fit(xtrain_norm, ytrain_norm)\n",
    "t1 = time.time() - t0\n",
    "\n",
    "print(\n",
    "    f\"Training Time: {t1:.3f} seconds\"\n",
    ")"
   ]
  },
  {
   "cell_type": "code",
   "execution_count": 317,
   "metadata": {},
   "outputs": [],
   "source": [
    "# Predictions\n",
    "t0 = time.time()\n",
    "ypred_red = bagged_rf_model.predict(xtest_norm)\n",
    "t1 = time.time() - t0\n",
    "#ypred = pca_model.inverse_transform(ypred_red)\n"
   ]
  },
  {
   "cell_type": "code",
   "execution_count": 318,
   "metadata": {},
   "outputs": [
    {
     "name": "stdout",
     "output_type": "stream",
     "text": [
      "MAE: 0.647\n",
      "MSE: 0.751\n",
      "RMSE: 0.867\n",
      "R2: 0.239 \n",
      "Time: 6.11 seconds\n"
     ]
    }
   ],
   "source": [
    "\n",
    "from sklearn.metrics import mean_absolute_error, mean_squared_error, r2_score\n",
    "\n",
    "\n",
    "# Get Average Stats\n",
    "mae = mean_absolute_error(ytest_norm, ypred_red, multioutput='uniform_average')\n",
    "mse = mean_squared_error(ytest_norm, ypred_red, multioutput='uniform_average')\n",
    "rmse = np.sqrt(mse)\n",
    "r2 = r2_score(ytest_norm, ypred_red, multioutput='uniform_average')\n",
    "print(\n",
    "    f\"MAE: {mae:.3f}\\nMSE: {mse:.3f}\\nRMSE: {rmse:.3f}\\nR2: {r2:.3f}\" \n",
    "    f\" \\nTime: {t1:.3} seconds\"\n",
    ")"
   ]
  },
  {
   "cell_type": "code",
   "execution_count": 319,
   "metadata": {},
   "outputs": [],
   "source": [
    "# Get Stats per Depth\n",
    "mae_raw = mean_absolute_error(ytest_norm, ypred_red, multioutput='raw_values')\n",
    "mse_raw = mean_squared_error(ytest_norm, ypred_red, multioutput='raw_values')\n",
    "rmse_raw = np.sqrt(mse_raw)\n",
    "r2_raw = r2_score(ytest_norm, ypred_red, multioutput='raw_values')"
   ]
  },
  {
   "cell_type": "code",
   "execution_count": 320,
   "metadata": {},
   "outputs": [
    {
     "data": {
      "image/png": "[encoded data removed]",
      "text/plain": [
       "<Figure size 720x504 with 4 Axes>"
      ]
     },
     "metadata": {},
     "output_type": "display_data"
    }
   ],
   "source": [
    "import matplotlib.pyplot as plt\n",
    "%matplotlib inline\n",
    "plt.style.use('seaborn')\n",
    "\n",
    "# Plots\n",
    "fig, ax = plt.subplots(nrows=2, ncols=2, figsize=(10, 7))\n",
    "\n",
    "# R2 Values\n",
    "ax[0,0].plot(r2_raw)\n",
    "ax[0,0].set_xlabel('Depths (Pressure)')\n",
    "ax[0,0].set_ylabel('R2')\n",
    "\n",
    "# MAE\n",
    "ax[0,1].plot(mae_raw)\n",
    "ax[0,1].set_xlabel('Depths (Pressure)')\n",
    "ax[0,1].set_ylabel('MAE')\n",
    "\n",
    "# MSE\n",
    "ax[1,0].plot(mse_raw)\n",
    "ax[1,0].set_xlabel('Depths (Pressure)')\n",
    "ax[1,0].set_ylabel('MSE')\n",
    "\n",
    "# RMSE\n",
    "ax[1,1].plot(rmse_raw)\n",
    "ax[1,1].set_xlabel('Depths (Pressure)')\n",
    "ax[1,1].set_ylabel('RMSE')\n",
    "\n",
    "\n",
    "plt.tight_layout()\n",
    "plt.show()"
   ]
  },
  {
   "cell_type": "code",
   "execution_count": null,
   "metadata": {},
   "outputs": [],
   "source": []
  },
  {
   "cell_type": "code",
   "execution_count": null,
   "metadata": {},
   "outputs": [],
   "source": []
  },
  {
   "cell_type": "markdown",
   "metadata": {},
   "source": [
    "### XGBoost"
   ]
  },
  {
   "cell_type": "code",
   "execution_count": 291,
   "metadata": {},
   "outputs": [],
   "source": [
    "import xgboost\n",
    "from xgboost import plot_importance"
   ]
  },
  {
   "cell_type": "code",
   "execution_count": 292,
   "metadata": {},
   "outputs": [
    {
     "name": "stdout",
     "output_type": "stream",
     "text": [
      "Training Time: 16.831 seconds\n"
     ]
    }
   ],
   "source": [
    "from sklearn.multioutput import MultiOutputRegressor\n",
    "from sklearn.ensemble import GradientBoostingRegressor\n",
    "\n",
    "\n",
    "xgbm_model = xgboost.XGBRFRegressor(\n",
    "    n_estimators=500,\n",
    "    random_state=123,\n",
    ")\n",
    "\n",
    "gbm_model_mo = MultiOutputRegressor(\n",
    "    xgbm_model,\n",
    "    n_jobs=-1\n",
    ")\n",
    "t0 = time.time()\n",
    "gbm_model_mo.fit(xtrain_norm, ytrain_norm)\n",
    "t1 = time.time() - t0\n",
    "\n",
    "print(\n",
    "    f\"Training Time: {t1:.3f} seconds\"\n",
    ")"
   ]
  },
  {
   "cell_type": "code",
   "execution_count": 293,
   "metadata": {},
   "outputs": [],
   "source": [
    "# Predictions\n",
    "t0 = time.time()\n",
    "ypred_red = gbm_model_mo.predict(xtest_norm)\n",
    "t1 = time.time() - t0\n",
    "#ypred = pca_model.inverse_transform(ypred_red)\n"
   ]
  },
  {
   "cell_type": "code",
   "execution_count": 294,
   "metadata": {},
   "outputs": [
    {
     "name": "stdout",
     "output_type": "stream",
     "text": [
      "MAE: 0.600\n",
      "MSE: 0.659\n",
      "RMSE: 0.812\n",
      "R2: 0.329 \n",
      "Time: 0.846 seconds\n"
     ]
    }
   ],
   "source": [
    "\n",
    "from sklearn.metrics import mean_absolute_error, mean_squared_error, r2_score\n",
    "\n",
    "\n",
    "# Get Average Stats\n",
    "mae = mean_absolute_error(ytest_norm, ypred_red, multioutput='uniform_average')\n",
    "mse = mean_squared_error(ytest_norm, ypred_red, multioutput='uniform_average')\n",
    "rmse = np.sqrt(mse)\n",
    "r2 = r2_score(ytest_norm, ypred_red, multioutput='uniform_average')\n",
    "print(\n",
    "    f\"MAE: {mae:.3f}\\nMSE: {mse:.3f}\\nRMSE: {rmse:.3f}\\nR2: {r2:.3f}\" \n",
    "    f\" \\nTime: {t1:.3} seconds\"\n",
    ")"
   ]
  },
  {
   "cell_type": "code",
   "execution_count": null,
   "metadata": {},
   "outputs": [],
   "source": []
  }
 ],
 "metadata": {
  "kernelspec": {
   "display_name": "Python [conda env:.conda-ml4ocn]",
   "language": "python",
   "name": "conda-env-.conda-ml4ocn-py"
  },
  "language_info": {
   "codemirror_mode": {
    "name": "ipython",
    "version": 3
   },
   "file_extension": ".py",
   "mimetype": "text/x-python",
   "name": "python",
   "nbconvert_exporter": "python",
   "pygments_lexer": "ipython3",
   "version": "3.6.9"
  }
 },
 "nbformat": 4,
 "nbformat_minor": 2
}
